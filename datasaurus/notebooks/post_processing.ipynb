{
 "cells": [
  {
   "cell_type": "code",
   "execution_count": 1,
   "id": "7ea0350d",
   "metadata": {
    "ExecuteTime": {
     "end_time": "2023-04-09T07:08:01.889414Z",
     "start_time": "2023-04-09T07:08:01.416317Z"
    }
   },
   "outputs": [],
   "source": [
    "import pandas as pd\n",
    "import numpy as np"
   ]
  },
  {
   "cell_type": "code",
   "execution_count": 2,
   "id": "d882943e",
   "metadata": {
    "ExecuteTime": {
     "end_time": "2023-04-09T07:08:01.960406Z",
     "start_time": "2023-04-09T07:08:01.891774Z"
    }
   },
   "outputs": [
    {
     "data": {
      "text/html": [
       "<div>\n",
       "<style scoped>\n",
       "    .dataframe tbody tr th:only-of-type {\n",
       "        vertical-align: middle;\n",
       "    }\n",
       "\n",
       "    .dataframe tbody tr th {\n",
       "        vertical-align: top;\n",
       "    }\n",
       "\n",
       "    .dataframe thead th {\n",
       "        text-align: right;\n",
       "    }\n",
       "</style>\n",
       "<table border=\"1\" class=\"dataframe\">\n",
       "  <thead>\n",
       "    <tr style=\"text-align: right;\">\n",
       "      <th></th>\n",
       "      <th>azimuth</th>\n",
       "      <th>zenith</th>\n",
       "      <th>azimuth_gt</th>\n",
       "      <th>zenith_gt</th>\n",
       "    </tr>\n",
       "  </thead>\n",
       "  <tbody>\n",
       "    <tr>\n",
       "      <th>0</th>\n",
       "      <td>1.547212</td>\n",
       "      <td>0.525802</td>\n",
       "      <td>0.417742</td>\n",
       "      <td>1.549686</td>\n",
       "    </tr>\n",
       "    <tr>\n",
       "      <th>1</th>\n",
       "      <td>-2.157183</td>\n",
       "      <td>2.254038</td>\n",
       "      <td>5.252108</td>\n",
       "      <td>0.672366</td>\n",
       "    </tr>\n",
       "    <tr>\n",
       "      <th>2</th>\n",
       "      <td>2.022952</td>\n",
       "      <td>2.956379</td>\n",
       "      <td>1.547973</td>\n",
       "      <td>1.420000</td>\n",
       "    </tr>\n",
       "    <tr>\n",
       "      <th>3</th>\n",
       "      <td>0.274987</td>\n",
       "      <td>3.025253</td>\n",
       "      <td>0.922070</td>\n",
       "      <td>0.671028</td>\n",
       "    </tr>\n",
       "    <tr>\n",
       "      <th>4</th>\n",
       "      <td>0.651505</td>\n",
       "      <td>0.730273</td>\n",
       "      <td>1.719300</td>\n",
       "      <td>0.579796</td>\n",
       "    </tr>\n",
       "    <tr>\n",
       "      <th>...</th>\n",
       "      <td>...</td>\n",
       "      <td>...</td>\n",
       "      <td>...</td>\n",
       "      <td>...</td>\n",
       "    </tr>\n",
       "    <tr>\n",
       "      <th>1320955</th>\n",
       "      <td>1.784120</td>\n",
       "      <td>1.742544</td>\n",
       "      <td>2.158483</td>\n",
       "      <td>0.585173</td>\n",
       "    </tr>\n",
       "    <tr>\n",
       "      <th>1320956</th>\n",
       "      <td>-0.060911</td>\n",
       "      <td>1.754544</td>\n",
       "      <td>0.755720</td>\n",
       "      <td>2.185338</td>\n",
       "    </tr>\n",
       "    <tr>\n",
       "      <th>1320957</th>\n",
       "      <td>2.201704</td>\n",
       "      <td>2.856128</td>\n",
       "      <td>2.524276</td>\n",
       "      <td>1.371455</td>\n",
       "    </tr>\n",
       "    <tr>\n",
       "      <th>1320958</th>\n",
       "      <td>-1.254470</td>\n",
       "      <td>1.063235</td>\n",
       "      <td>5.061414</td>\n",
       "      <td>1.020417</td>\n",
       "    </tr>\n",
       "    <tr>\n",
       "      <th>1320959</th>\n",
       "      <td>-1.371778</td>\n",
       "      <td>0.039977</td>\n",
       "      <td>2.537514</td>\n",
       "      <td>1.279614</td>\n",
       "    </tr>\n",
       "  </tbody>\n",
       "</table>\n",
       "<p>1320960 rows × 4 columns</p>\n",
       "</div>"
      ],
      "text/plain": [
       "          azimuth    zenith  azimuth_gt  zenith_gt\n",
       "0        1.547212  0.525802    0.417742   1.549686\n",
       "1       -2.157183  2.254038    5.252108   0.672366\n",
       "2        2.022952  2.956379    1.547973   1.420000\n",
       "3        0.274987  3.025253    0.922070   0.671028\n",
       "4        0.651505  0.730273    1.719300   0.579796\n",
       "...           ...       ...         ...        ...\n",
       "1320955  1.784120  1.742544    2.158483   0.585173\n",
       "1320956 -0.060911  1.754544    0.755720   2.185338\n",
       "1320957  2.201704  2.856128    2.524276   1.371455\n",
       "1320958 -1.254470  1.063235    5.061414   1.020417\n",
       "1320959 -1.371778  0.039977    2.537514   1.279614\n",
       "\n",
       "[1320960 rows x 4 columns]"
      ]
     },
     "execution_count": 2,
     "metadata": {},
     "output_type": "execute_result"
    }
   ],
   "source": [
    "df = pd.read_parquet(\"/mnt/storage_dimm2/kaggle_output/icecube-neutrinos-in-deep-ice/20230405-063040/GPS/fold_0/oofs.parquet\")\n",
    "df"
   ]
  },
  {
   "cell_type": "code",
   "execution_count": 3,
   "id": "37ef545f",
   "metadata": {
    "ExecuteTime": {
     "end_time": "2023-04-09T07:08:01.972669Z",
     "start_time": "2023-04-09T07:08:01.964105Z"
    }
   },
   "outputs": [],
   "source": [
    "def angular_dist_score_numpy(az_true, zen_true, az_pred, zen_pred):\n",
    "    \"\"\"\n",
    "    calculate the MAE of the angular distance between two directions.\n",
    "    The two vectors are first converted to cartesian unit vectors,\n",
    "    and then their scalar product is computed, which is equal to\n",
    "    the cosine of the angle between the two vectors. The inverse\n",
    "    cosine (arccos) thereof is then the angle between the two input vectors\n",
    "\n",
    "    Parameters:\n",
    "    -----------\n",
    "\n",
    "    az_true : float (or array thereof)\n",
    "        true azimuth value(s) in radian\n",
    "    zen_true : float (or array thereof)\n",
    "        true zenith value(s) in radian\n",
    "    az_pred : float (or array thereof)\n",
    "        predicted azimuth value(s) in radian\n",
    "    zen_pred : float (or array thereof)\n",
    "        predicted zenith value(s) in radian\n",
    "\n",
    "    Returns:\n",
    "    --------\n",
    "\n",
    "    dist : float\n",
    "        mean over the angular distance(s) in radian\n",
    "    \"\"\"\n",
    "\n",
    "    if not (\n",
    "        np.all(np.isfinite(az_true))\n",
    "        and np.all(np.isfinite(zen_true))\n",
    "        and np.all(np.isfinite(az_pred))\n",
    "        and np.all(np.isfinite(zen_pred))\n",
    "    ):\n",
    "        raise ValueError(\"All arguments must be finite\")\n",
    "\n",
    "    # pre-compute all sine and cosine values\n",
    "    sa1 = np.sin(az_true)\n",
    "    ca1 = np.cos(az_true)\n",
    "    sz1 = np.sin(zen_true)\n",
    "    cz1 = np.cos(zen_true)\n",
    "\n",
    "    sa2 = np.sin(az_pred)\n",
    "    ca2 = np.cos(az_pred)\n",
    "    sz2 = np.sin(zen_pred)\n",
    "    cz2 = np.cos(zen_pred)\n",
    "\n",
    "    # scalar product of the two cartesian vectors (x = sz*ca, y = sz*sa, z = cz)\n",
    "    scalar_prod = sz1 * sz2 * (ca1 * ca2 + sa1 * sa2) + (cz1 * cz2)\n",
    "\n",
    "    # scalar product of two unit vectors is always between -1 and 1, this is against nummerical instability\n",
    "    # that might otherwise occure from the finite precision of the sine and cosine functions\n",
    "    scalar_prod = np.clip(scalar_prod, -1, 1)\n",
    "\n",
    "    # convert back to an angle (in radian)\n",
    "    return np.average(np.abs(np.arccos(scalar_prod)))"
   ]
  },
  {
   "cell_type": "code",
   "execution_count": 4,
   "id": "c0429602",
   "metadata": {
    "ExecuteTime": {
     "end_time": "2023-04-09T07:08:02.182587Z",
     "start_time": "2023-04-09T07:08:01.975570Z"
    }
   },
   "outputs": [
    {
     "data": {
      "text/html": [
       "<div>\n",
       "<style scoped>\n",
       "    .dataframe tbody tr th:only-of-type {\n",
       "        vertical-align: middle;\n",
       "    }\n",
       "\n",
       "    .dataframe tbody tr th {\n",
       "        vertical-align: top;\n",
       "    }\n",
       "\n",
       "    .dataframe thead th {\n",
       "        text-align: right;\n",
       "    }\n",
       "</style>\n",
       "<table border=\"1\" class=\"dataframe\">\n",
       "  <thead>\n",
       "    <tr style=\"text-align: right;\">\n",
       "      <th></th>\n",
       "      <th>azimuth</th>\n",
       "      <th>zenith</th>\n",
       "      <th>azimuth_gt</th>\n",
       "      <th>zenith_gt</th>\n",
       "    </tr>\n",
       "  </thead>\n",
       "  <tbody>\n",
       "    <tr>\n",
       "      <th>count</th>\n",
       "      <td>1.320960e+06</td>\n",
       "      <td>1.320960e+06</td>\n",
       "      <td>1.320960e+06</td>\n",
       "      <td>1.320960e+06</td>\n",
       "    </tr>\n",
       "    <tr>\n",
       "      <th>mean</th>\n",
       "      <td>-3.688147e-02</td>\n",
       "      <td>1.541196e+00</td>\n",
       "      <td>3.143624e+00</td>\n",
       "      <td>1.534018e+00</td>\n",
       "    </tr>\n",
       "    <tr>\n",
       "      <th>std</th>\n",
       "      <td>1.809538e+00</td>\n",
       "      <td>8.842301e-01</td>\n",
       "      <td>1.813718e+00</td>\n",
       "      <td>6.900986e-01</td>\n",
       "    </tr>\n",
       "    <tr>\n",
       "      <th>min</th>\n",
       "      <td>-3.141592e+00</td>\n",
       "      <td>6.075860e-04</td>\n",
       "      <td>4.262943e-06</td>\n",
       "      <td>7.469018e-04</td>\n",
       "    </tr>\n",
       "    <tr>\n",
       "      <th>25%</th>\n",
       "      <td>-1.609421e+00</td>\n",
       "      <td>8.677852e-01</td>\n",
       "      <td>1.574720e+00</td>\n",
       "      <td>1.004851e+00</td>\n",
       "    </tr>\n",
       "    <tr>\n",
       "      <th>50%</th>\n",
       "      <td>-2.202656e-02</td>\n",
       "      <td>1.477861e+00</td>\n",
       "      <td>3.141234e+00</td>\n",
       "      <td>1.526694e+00</td>\n",
       "    </tr>\n",
       "    <tr>\n",
       "      <th>75%</th>\n",
       "      <td>1.512612e+00</td>\n",
       "      <td>2.272427e+00</td>\n",
       "      <td>4.717242e+00</td>\n",
       "      <td>2.054213e+00</td>\n",
       "    </tr>\n",
       "    <tr>\n",
       "      <th>max</th>\n",
       "      <td>3.141582e+00</td>\n",
       "      <td>3.137478e+00</td>\n",
       "      <td>6.283173e+00</td>\n",
       "      <td>3.139704e+00</td>\n",
       "    </tr>\n",
       "  </tbody>\n",
       "</table>\n",
       "</div>"
      ],
      "text/plain": [
       "            azimuth        zenith    azimuth_gt     zenith_gt\n",
       "count  1.320960e+06  1.320960e+06  1.320960e+06  1.320960e+06\n",
       "mean  -3.688147e-02  1.541196e+00  3.143624e+00  1.534018e+00\n",
       "std    1.809538e+00  8.842301e-01  1.813718e+00  6.900986e-01\n",
       "min   -3.141592e+00  6.075860e-04  4.262943e-06  7.469018e-04\n",
       "25%   -1.609421e+00  8.677852e-01  1.574720e+00  1.004851e+00\n",
       "50%   -2.202656e-02  1.477861e+00  3.141234e+00  1.526694e+00\n",
       "75%    1.512612e+00  2.272427e+00  4.717242e+00  2.054213e+00\n",
       "max    3.141582e+00  3.137478e+00  6.283173e+00  3.139704e+00"
      ]
     },
     "execution_count": 4,
     "metadata": {},
     "output_type": "execute_result"
    }
   ],
   "source": [
    "df.describe()"
   ]
  },
  {
   "cell_type": "code",
   "execution_count": 5,
   "id": "321b9632",
   "metadata": {
    "ExecuteTime": {
     "end_time": "2023-04-09T07:08:02.288826Z",
     "start_time": "2023-04-09T07:08:02.185237Z"
    }
   },
   "outputs": [
    {
     "data": {
      "text/plain": [
       "0.9894511"
      ]
     },
     "execution_count": 5,
     "metadata": {},
     "output_type": "execute_result"
    }
   ],
   "source": [
    "az_pred, zen_pred, az_true, zen_true = df[\"azimuth\"], df[\"zenith\"], df[\"azimuth_gt\"], df[\"zenith_gt\"]\n",
    "\n",
    "\n",
    "angular_dist_score_numpy(az_true, zen_true, az_pred, zen_pred)"
   ]
  },
  {
   "cell_type": "code",
   "execution_count": 6,
   "id": "3eb6d096",
   "metadata": {
    "ExecuteTime": {
     "end_time": "2023-04-09T07:08:02.473971Z",
     "start_time": "2023-04-09T07:08:02.292987Z"
    }
   },
   "outputs": [
    {
     "data": {
      "text/plain": [
       "0.9894510566785831"
      ]
     },
     "execution_count": 6,
     "metadata": {},
     "output_type": "execute_result"
    }
   ],
   "source": [
    "az_pred = np.where(az_pred < 0, az_pred + 2 * np.pi, az_pred)\n",
    "\n",
    "angular_dist_score_numpy(az_true, zen_true, az_pred, zen_pred)"
   ]
  },
  {
   "cell_type": "code",
   "execution_count": 7,
   "id": "0a65be1d",
   "metadata": {
    "ExecuteTime": {
     "end_time": "2023-04-09T07:08:02.485376Z",
     "start_time": "2023-04-09T07:08:02.477670Z"
    }
   },
   "outputs": [
    {
     "data": {
      "text/plain": [
       "(1.6820938981254585e-05, 6.283184351295766)"
      ]
     },
     "execution_count": 7,
     "metadata": {},
     "output_type": "execute_result"
    }
   ],
   "source": [
    "az_pred.min(), az_pred.max()"
   ]
  },
  {
   "cell_type": "code",
   "execution_count": null,
   "id": "265f9aef",
   "metadata": {},
   "outputs": [],
   "source": []
  }
 ],
 "metadata": {
  "kernelspec": {
   "display_name": "kaggle",
   "language": "python",
   "name": "kaggle"
  },
  "language_info": {
   "codemirror_mode": {
    "name": "ipython",
    "version": 3
   },
   "file_extension": ".py",
   "mimetype": "text/x-python",
   "name": "python",
   "nbconvert_exporter": "python",
   "pygments_lexer": "ipython3",
   "version": "3.10.6"
  },
  "toc": {
   "base_numbering": 1,
   "nav_menu": {},
   "number_sections": true,
   "sideBar": true,
   "skip_h1_title": false,
   "title_cell": "Table of Contents",
   "title_sidebar": "Contents",
   "toc_cell": false,
   "toc_position": {},
   "toc_section_display": true,
   "toc_window_display": false
  }
 },
 "nbformat": 4,
 "nbformat_minor": 5
}
