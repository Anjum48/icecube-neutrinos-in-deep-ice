{
 "cells": [
  {
   "cell_type": "code",
   "execution_count": 1,
   "id": "f53d59ff",
   "metadata": {
    "ExecuteTime": {
     "end_time": "2023-04-17T09:44:20.797902Z",
     "start_time": "2023-04-17T09:44:19.831268Z"
    }
   },
   "outputs": [],
   "source": [
    "import pandas as pd\n",
    "import numpy as np\n",
    "import matplotlib.pyplot as plt\n",
    "from scipy.optimize import minimize\n",
    "from sklearn.metrics import mean_absolute_error"
   ]
  },
  {
   "cell_type": "code",
   "execution_count": 2,
   "id": "6e803265",
   "metadata": {
    "ExecuteTime": {
     "end_time": "2023-04-17T09:44:20.802271Z",
     "start_time": "2023-04-17T09:44:20.799689Z"
    }
   },
   "outputs": [],
   "source": [
    "oofs = [\n",
    "    \"/mnt/storage_dimm2/kaggle_output/icecube-neutrinos-in-deep-ice/20230323-102724/DynEdge/fold_0/oofs.parquet\",\n",
    "#     \"/mnt/storage_dimm2/kaggle_output/icecube-neutrinos-in-deep-ice/20230409-080525/DynEdge/fold_0/oofs.parquet\",\n",
    "    \"/mnt/storage_dimm2/kaggle_output/icecube-neutrinos-in-deep-ice/20230405-063040/GPS/fold_0/oofs.parquet\",\n",
    "    \"/mnt/storage_dimm2/kaggle_output/icecube-neutrinos-in-deep-ice/20230415-152736/GravNet/fold_0/oofs.parquet\",\n",
    "]"
   ]
  },
  {
   "cell_type": "code",
   "execution_count": 3,
   "id": "d8a998f7",
   "metadata": {
    "ExecuteTime": {
     "end_time": "2023-04-17T09:44:20.810216Z",
     "start_time": "2023-04-17T09:44:20.804853Z"
    }
   },
   "outputs": [],
   "source": [
    "def angular_dist_score_numpy(az_true, zen_true, az_pred, zen_pred):\n",
    "    \"\"\"\n",
    "    calculate the MAE of the angular distance between two directions.\n",
    "    The two vectors are first converted to cartesian unit vectors,\n",
    "    and then their scalar product is computed, which is equal to\n",
    "    the cosine of the angle between the two vectors. The inverse\n",
    "    cosine (arccos) thereof is then the angle between the two input vectors\n",
    "\n",
    "    Parameters:\n",
    "    -----------\n",
    "\n",
    "    az_true : float (or array thereof)\n",
    "        true azimuth value(s) in radian\n",
    "    zen_true : float (or array thereof)\n",
    "        true zenith value(s) in radian\n",
    "    az_pred : float (or array thereof)\n",
    "        predicted azimuth value(s) in radian\n",
    "    zen_pred : float (or array thereof)\n",
    "        predicted zenith value(s) in radian\n",
    "\n",
    "    Returns:\n",
    "    --------\n",
    "\n",
    "    dist : float\n",
    "        mean over the angular distance(s) in radian\n",
    "    \"\"\"\n",
    "\n",
    "    if not (\n",
    "        np.all(np.isfinite(az_true))\n",
    "        and np.all(np.isfinite(zen_true))\n",
    "        and np.all(np.isfinite(az_pred))\n",
    "        and np.all(np.isfinite(zen_pred))\n",
    "    ):\n",
    "        raise ValueError(\"All arguments must be finite\")\n",
    "\n",
    "    # pre-compute all sine and cosine values\n",
    "    sa1 = np.sin(az_true)\n",
    "    ca1 = np.cos(az_true)\n",
    "    sz1 = np.sin(zen_true)\n",
    "    cz1 = np.cos(zen_true)\n",
    "\n",
    "    sa2 = np.sin(az_pred)\n",
    "    ca2 = np.cos(az_pred)\n",
    "    sz2 = np.sin(zen_pred)\n",
    "    cz2 = np.cos(zen_pred)\n",
    "\n",
    "    # scalar product of the two cartesian vectors (x = sz*ca, y = sz*sa, z = cz)\n",
    "    scalar_prod = sz1 * sz2 * (ca1 * ca2 + sa1 * sa2) + (cz1 * cz2)\n",
    "\n",
    "    # scalar product of two unit vectors is always between -1 and 1, this is against nummerical instability\n",
    "    # that might otherwise occure from the finite precision of the sine and cosine functions\n",
    "    scalar_prod = np.clip(scalar_prod, -1, 1)\n",
    "\n",
    "    # convert back to an angle (in radian)\n",
    "    return np.average(np.abs(np.arccos(scalar_prod)))"
   ]
  },
  {
   "cell_type": "code",
   "execution_count": 4,
   "id": "9dbe704e",
   "metadata": {
    "ExecuteTime": {
     "end_time": "2023-04-17T09:44:20.969840Z",
     "start_time": "2023-04-17T09:44:20.812263Z"
    }
   },
   "outputs": [],
   "source": [
    "azi, zen = {}, {}\n",
    "\n",
    "for i, oof in enumerate(oofs):\n",
    "    df = pd.read_parquet(oof)\n",
    "    \n",
    "    azi[f\"model_{i}\"] = np.where(df[\"azimuth\"] < 0, df[\"azimuth\"] + 2 * np.pi, df[\"azimuth\"])\n",
    "    zen[f\"model_{i}\"] = df[\"zenith\"]\n",
    "    \n",
    "\n",
    "azi = pd.DataFrame(azi).values\n",
    "zen = pd.DataFrame(zen).values\n",
    "gt = df[[\"azimuth_gt\", \"zenith_gt\"]]"
   ]
  },
  {
   "cell_type": "code",
   "execution_count": 5,
   "id": "6e9f794f",
   "metadata": {
    "ExecuteTime": {
     "end_time": "2023-04-17T09:44:20.984241Z",
     "start_time": "2023-04-17T09:44:20.972375Z"
    }
   },
   "outputs": [
    {
     "data": {
      "text/plain": [
       "0.56983566"
      ]
     },
     "execution_count": 5,
     "metadata": {},
     "output_type": "execute_result"
    }
   ],
   "source": [
    "mean_absolute_error(gt[\"zenith_gt\"], zen.mean(1))"
   ]
  },
  {
   "cell_type": "code",
   "execution_count": 6,
   "id": "0332c551",
   "metadata": {
    "ExecuteTime": {
     "end_time": "2023-04-17T09:44:21.002999Z",
     "start_time": "2023-04-17T09:44:20.986559Z"
    }
   },
   "outputs": [
    {
     "data": {
      "text/plain": [
       "1.361230064339168"
      ]
     },
     "execution_count": 6,
     "metadata": {},
     "output_type": "execute_result"
    }
   ],
   "source": [
    "mean_absolute_error(gt[\"azimuth_gt\"], azi.mean(1))"
   ]
  },
  {
   "cell_type": "code",
   "execution_count": null,
   "id": "28b56f1a",
   "metadata": {
    "ExecuteTime": {
     "end_time": "2023-04-14T16:18:43.817365Z",
     "start_time": "2023-04-14T16:18:43.795606Z"
    }
   },
   "outputs": [],
   "source": []
  },
  {
   "cell_type": "code",
   "execution_count": 7,
   "id": "bd697a93",
   "metadata": {
    "ExecuteTime": {
     "end_time": "2023-04-17T09:44:21.010778Z",
     "start_time": "2023-04-17T09:44:21.004854Z"
    }
   },
   "outputs": [],
   "source": [
    "def stack(azi, zen, weights=None):\n",
    "    \n",
    "    if weights is None:\n",
    "        dim = azi.shape[1]\n",
    "        weights = np.ones(dim) / dim\n",
    "        \n",
    "    azi_sin = (weights * np.sin(azi)).sum(1)\n",
    "    azi_cos = (weights * np.cos(azi)).sum(1)\n",
    "    \n",
    "    azi_final = np.arctan2(azi_sin, azi_cos)\n",
    "    zen_final = (weights * zen).sum(1)\n",
    "    \n",
    "    return azi_final, zen_final\n",
    "\n",
    "\n",
    "# Independent weights for azi & zen\n",
    "def stack_v2(azi, zen, weights=None):\n",
    "    \n",
    "    dim = azi.shape[1]\n",
    "    \n",
    "    if weights is None:\n",
    "        weights = np.ones(dim) / dim\n",
    "        weights = np.concatenate([weights, weights])\n",
    "        \n",
    "    weights_a = weights[:dim]\n",
    "    weights_z = weights[dim:]\n",
    "        \n",
    "    azi_sin = (weights_a * np.sin(azi)).sum(1)\n",
    "    azi_cos = (weights_a * np.cos(azi)).sum(1)\n",
    "    \n",
    "    azi_final = np.arctan2(azi_sin, azi_cos)\n",
    "    zen_final = (weights_z * zen).sum(1)\n",
    "    \n",
    "    return azi_final, zen_final\n"
   ]
  },
  {
   "cell_type": "code",
   "execution_count": 8,
   "id": "773bb2e2",
   "metadata": {
    "ExecuteTime": {
     "end_time": "2023-04-17T09:44:21.016859Z",
     "start_time": "2023-04-17T09:44:21.012612Z"
    }
   },
   "outputs": [],
   "source": [
    "def scorer(weights=None, version=1):\n",
    "    if version == 2:\n",
    "        azi_final, zen_final = stack_v2(azi, zen, weights)\n",
    "#     elif version == 3:\n",
    "#         azi_final, zen_final = stack_v3(azi, zen, weights)\n",
    "    else:\n",
    "        azi_final, zen_final = stack(azi, zen, weights)\n",
    "    return angular_dist_score_numpy(gt[\"azimuth_gt\"], gt[\"zenith_gt\"], azi_final, zen_final)"
   ]
  },
  {
   "cell_type": "code",
   "execution_count": 9,
   "id": "297a68cf",
   "metadata": {
    "ExecuteTime": {
     "end_time": "2023-04-17T09:44:21.022932Z",
     "start_time": "2023-04-17T09:44:21.020278Z"
    }
   },
   "outputs": [],
   "source": [
    "# azi_final, zen_final = stack(azi, zen)\n",
    "\n",
    "# # zen_final = np.where(zen_final < np.deg2rad(1), 0.80, zen_final)\n",
    "# # print(angular_dist_score_numpy(gt[\"azimuth_gt\"], gt[\"zenith_gt\"], azi_final, zen_final))\n",
    "\n",
    "# plt.hist(azi_final, bins=100)\n",
    "\n",
    "# for i in range(-3, 3):\n",
    "#     plt.vlines(0.15788 + i * np.pi / 3, 0, 20000, colors=\"r\")\n",
    "\n",
    "# x = np.linspace(-np.pi, np.pi, 200)\n",
    "# penalty = np.cos(3 * (x - 0.15788))**50  # Penalty function\n",
    "\n",
    "# plt.plot(x, penalty * 8000 + 12000); # Scale function to fit on top of data"
   ]
  },
  {
   "cell_type": "code",
   "execution_count": 10,
   "id": "ddff2d87",
   "metadata": {
    "ExecuteTime": {
     "end_time": "2023-04-17T09:44:21.027830Z",
     "start_time": "2023-04-17T09:44:21.025023Z"
    }
   },
   "outputs": [],
   "source": [
    "# x = np.linspace(-np.pi, np.pi, 200)\n",
    "# plt.plot(x, np.cos(3 * (x - 0.15788))**50)\n",
    "\n",
    "# for i in range(-3,3):\n",
    "#     plt.vlines(0.15788 + i * np.pi / 3, 0, 1, colors=\"r\")"
   ]
  },
  {
   "cell_type": "code",
   "execution_count": 11,
   "id": "8e51a95c",
   "metadata": {
    "ExecuteTime": {
     "end_time": "2023-04-17T09:44:21.033054Z",
     "start_time": "2023-04-17T09:44:21.030045Z"
    }
   },
   "outputs": [],
   "source": [
    "# plt.hist(gt[\"azimuth_gt\"], bins=100);"
   ]
  },
  {
   "cell_type": "code",
   "execution_count": 12,
   "id": "d4135c77",
   "metadata": {
    "ExecuteTime": {
     "end_time": "2023-04-17T09:44:21.038720Z",
     "start_time": "2023-04-17T09:44:21.036008Z"
    }
   },
   "outputs": [],
   "source": [
    "# plt.hist(zen_final, bins=100);"
   ]
  },
  {
   "cell_type": "code",
   "execution_count": 13,
   "id": "44f7e010",
   "metadata": {
    "ExecuteTime": {
     "end_time": "2023-04-17T09:44:21.043196Z",
     "start_time": "2023-04-17T09:44:21.040503Z"
    }
   },
   "outputs": [],
   "source": [
    "# plt.hist(gt[\"zenith_gt\"], bins=100);"
   ]
  },
  {
   "cell_type": "code",
   "execution_count": 14,
   "id": "cf9059ac",
   "metadata": {
    "ExecuteTime": {
     "end_time": "2023-04-17T09:44:21.048855Z",
     "start_time": "2023-04-17T09:44:21.045391Z"
    }
   },
   "outputs": [],
   "source": [
    "# low_zen_pred = zen_final[zen_final < np.deg2rad(1)]\n",
    "# low_zen_true = gt[zen_final < np.deg2rad(1)][\"zenith_gt\"]\n",
    "# low_zen_true_azi = gt[zen_final < np.deg2rad(1)][\"azimuth_gt\"]\n",
    "# low_zen_pred_azi = azi_final[zen_final < np.deg2rad(1)]"
   ]
  },
  {
   "cell_type": "code",
   "execution_count": 15,
   "id": "6062e572",
   "metadata": {
    "ExecuteTime": {
     "end_time": "2023-04-17T09:44:21.055918Z",
     "start_time": "2023-04-17T09:44:21.052878Z"
    }
   },
   "outputs": [],
   "source": [
    "# plt.hist(low_zen_true, bins=100);"
   ]
  },
  {
   "cell_type": "code",
   "execution_count": 16,
   "id": "903cc45f",
   "metadata": {
    "ExecuteTime": {
     "end_time": "2023-04-17T09:44:21.470382Z",
     "start_time": "2023-04-17T09:44:21.058207Z"
    }
   },
   "outputs": [
    {
     "data": {
      "text/plain": [
       "0.982182666253022"
      ]
     },
     "execution_count": 16,
     "metadata": {},
     "output_type": "execute_result"
    }
   ],
   "source": [
    "scorer()"
   ]
  },
  {
   "cell_type": "code",
   "execution_count": 17,
   "id": "43c9d75f",
   "metadata": {
    "ExecuteTime": {
     "end_time": "2023-04-17T09:44:21.819491Z",
     "start_time": "2023-04-17T09:44:21.471541Z"
    }
   },
   "outputs": [
    {
     "data": {
      "text/plain": [
       "0.982182666253022"
      ]
     },
     "execution_count": 17,
     "metadata": {},
     "output_type": "execute_result"
    }
   ],
   "source": [
    "scorer(version=2)"
   ]
  },
  {
   "cell_type": "code",
   "execution_count": 18,
   "id": "cb4b2cfd",
   "metadata": {
    "ExecuteTime": {
     "end_time": "2023-04-17T09:44:21.824264Z",
     "start_time": "2023-04-17T09:44:21.821537Z"
    }
   },
   "outputs": [],
   "source": [
    "dim = len(oofs)\n",
    "weights = np.ones(dim) / dim"
   ]
  },
  {
   "cell_type": "code",
   "execution_count": 19,
   "id": "f975915c",
   "metadata": {
    "ExecuteTime": {
     "end_time": "2023-04-17T09:47:03.089165Z",
     "start_time": "2023-04-17T09:44:21.826227Z"
    }
   },
   "outputs": [
    {
     "data": {
      "text/plain": [
       "      fun: 0.9816939334604405\n",
       " hess_inv: array([[ 2.85441936,  3.21758878, -7.41267543],\n",
       "       [ 3.21758878,  3.62953663, -8.36832334],\n",
       "       [-7.41267543, -8.36832334, 19.31114249]])\n",
       "      jac: array([ 0.00822093, -0.01517615, -0.00375816])\n",
       "  message: 'Desired error not necessarily achieved due to precision loss.'\n",
       "     nfev: 450\n",
       "      nit: 20\n",
       "     njev: 109\n",
       "   status: 2\n",
       "  success: False\n",
       "        x: array([0.45168349, 0.13688131, 0.40900893])"
      ]
     },
     "execution_count": 19,
     "metadata": {},
     "output_type": "execute_result"
    }
   ],
   "source": [
    "minimize(scorer, weights)"
   ]
  },
  {
   "cell_type": "code",
   "execution_count": 20,
   "id": "0018ac37",
   "metadata": {
    "ExecuteTime": {
     "end_time": "2023-04-17T09:47:03.093963Z",
     "start_time": "2023-04-17T09:47:03.091346Z"
    }
   },
   "outputs": [],
   "source": [
    "# minimize(scorer, np.concatenate([weights, weights]), args=(True,))"
   ]
  },
  {
   "cell_type": "markdown",
   "id": "7889d2fb",
   "metadata": {},
   "source": [
    "# Non-linear"
   ]
  },
  {
   "cell_type": "code",
   "execution_count": 21,
   "id": "b74519dc",
   "metadata": {
    "ExecuteTime": {
     "end_time": "2023-04-17T09:47:03.151147Z",
     "start_time": "2023-04-17T09:47:03.095845Z"
    }
   },
   "outputs": [],
   "source": [
    "from sklearn.model_selection import KFold\n",
    "from sklearn.ensemble import RandomForestRegressor"
   ]
  },
  {
   "cell_type": "code",
   "execution_count": 22,
   "id": "aa88c091",
   "metadata": {
    "ExecuteTime": {
     "end_time": "2023-04-17T09:47:03.266501Z",
     "start_time": "2023-04-17T09:47:03.153052Z"
    }
   },
   "outputs": [],
   "source": [
    "azi, zen = {}, {}\n",
    "\n",
    "for i, oof in enumerate(oofs):\n",
    "    df = pd.read_parquet(oof)\n",
    "    \n",
    "#     azi[f\"model_{i}\"] = df[\"azimuth\"]\n",
    "#     azi[f\"period_{i}\"] = np.cos(3 * (df[\"azimuth\"] - 0.15788))**50\n",
    "    azi[f\"sin_{i}\"] = np.sin(df[\"azimuth\"])\n",
    "    azi[f\"cos_{i}\"] = np.cos(df[\"azimuth\"])\n",
    "    zen[f\"model_{i}\"] = df[\"zenith\"]\n",
    "    \n",
    "\n",
    "azi = pd.DataFrame(azi)\n",
    "zen = pd.DataFrame(zen)\n",
    "gt = df[[\"azimuth_gt\", \"zenith_gt\"]]"
   ]
  },
  {
   "cell_type": "code",
   "execution_count": 23,
   "id": "90bd401c",
   "metadata": {
    "ExecuteTime": {
     "end_time": "2023-04-17T09:47:04.781721Z",
     "start_time": "2023-04-17T09:47:03.268952Z"
    }
   },
   "outputs": [
    {
     "name": "stdout",
     "output_type": "stream",
     "text": [
      "0.9821744\n",
      "0.9823605\n",
      "0.98411566\n",
      "0.9804577\n",
      "0.9818052\n",
      "\n",
      "0.9821827\n"
     ]
    }
   ],
   "source": [
    "SEED = 48\n",
    "\n",
    "kf = KFold(n_splits=5, shuffle=True, random_state=SEED)\n",
    "scores = []\n",
    "\n",
    "for trn_idx, val_idx in  kf.split(azi):\n",
    "    train_azi_X, train_azi_y = azi.loc[trn_idx], gt.loc[trn_idx, \"azimuth_gt\"]\n",
    "    valid_azi_X, valid_azi_y = azi.loc[val_idx], gt.loc[val_idx, \"azimuth_gt\"]\n",
    "    \n",
    "    train_zen_X, train_zen_y = zen.loc[trn_idx], gt.loc[trn_idx, \"zenith_gt\"]\n",
    "    valid_zen_X, valid_zen_y = zen.loc[val_idx], gt.loc[val_idx, \"zenith_gt\"]\n",
    "    \n",
    "#     model_azi = RandomForestRegressor(max_depth=10, n_jobs=8, n_estimators=100, random_state=SEED)\n",
    "    \n",
    "#     model_azi.fit(train_azi_X, train_azi_y)\n",
    "    \n",
    "#     pred_azi = model_azi.predict(valid_azi_X)\n",
    "    pred_azi = np.arctan2(valid_azi_X[[f\"sin_{i}\" for i in range(len(oofs))]].sum(1), valid_azi_X[[f\"cos_{i}\" for i in range(len(oofs))]].sum(1))\n",
    "    pred_zen = valid_zen_X.mean(1)\n",
    "    \n",
    "    score = angular_dist_score_numpy(valid_azi_y, valid_zen_y, pred_azi, pred_zen)\n",
    "    scores.append(score)\n",
    "    print(score)\n",
    "    \n",
    "print()\n",
    "print(np.mean(scores))"
   ]
  },
  {
   "cell_type": "markdown",
   "id": "10d09b0e",
   "metadata": {},
   "source": [
    "# PyTorch"
   ]
  },
  {
   "cell_type": "code",
   "execution_count": null,
   "id": "ebccce07",
   "metadata": {},
   "outputs": [],
   "source": []
  }
 ],
 "metadata": {
  "kernelspec": {
   "display_name": "kaggle",
   "language": "python",
   "name": "kaggle"
  },
  "language_info": {
   "codemirror_mode": {
    "name": "ipython",
    "version": 3
   },
   "file_extension": ".py",
   "mimetype": "text/x-python",
   "name": "python",
   "nbconvert_exporter": "python",
   "pygments_lexer": "ipython3",
   "version": "3.10.6"
  },
  "toc": {
   "base_numbering": 1,
   "nav_menu": {},
   "number_sections": true,
   "sideBar": true,
   "skip_h1_title": false,
   "title_cell": "Table of Contents",
   "title_sidebar": "Contents",
   "toc_cell": false,
   "toc_position": {},
   "toc_section_display": true,
   "toc_window_display": false
  }
 },
 "nbformat": 4,
 "nbformat_minor": 5
}
