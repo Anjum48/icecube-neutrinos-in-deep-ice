{
 "cells": [
  {
   "cell_type": "code",
   "execution_count": 19,
   "id": "3df47364",
   "metadata": {
    "ExecuteTime": {
     "end_time": "2023-01-28T14:13:44.296500Z",
     "start_time": "2023-01-28T14:13:44.293252Z"
    }
   },
   "outputs": [],
   "source": [
    "import sys\n",
    "COMP_NAME = \"icecube-neutrinos-in-deep-ice\"\n",
    "sys.path.append(f\"/home/anjum/kaggle/{COMP_NAME}/\")\n",
    "\n",
    "import torch\n",
    "import torch.nn as nn\n",
    "import numpy as np\n",
    "import pandas as pd\n",
    "import matplotlib.pyplot as plt\n",
    "\n",
    "from sklearn.metrics import pairwise_distances\n",
    "\n",
    "from src.config import INPUT_PATH, OUTPUT_PATH"
   ]
  },
  {
   "cell_type": "code",
   "execution_count": 68,
   "id": "f12f5439",
   "metadata": {
    "ExecuteTime": {
     "end_time": "2023-01-28T14:28:26.473081Z",
     "start_time": "2023-01-28T14:28:25.250938Z"
    }
   },
   "outputs": [
    {
     "data": {
      "text/html": [
       "<div>\n",
       "<style scoped>\n",
       "    .dataframe tbody tr th:only-of-type {\n",
       "        vertical-align: middle;\n",
       "    }\n",
       "\n",
       "    .dataframe tbody tr th {\n",
       "        vertical-align: top;\n",
       "    }\n",
       "\n",
       "    .dataframe thead th {\n",
       "        text-align: right;\n",
       "    }\n",
       "</style>\n",
       "<table border=\"1\" class=\"dataframe\">\n",
       "  <thead>\n",
       "    <tr style=\"text-align: right;\">\n",
       "      <th></th>\n",
       "      <th>sensor_id</th>\n",
       "      <th>time</th>\n",
       "      <th>charge</th>\n",
       "      <th>auxiliary</th>\n",
       "    </tr>\n",
       "    <tr>\n",
       "      <th>event_id</th>\n",
       "      <th></th>\n",
       "      <th></th>\n",
       "      <th></th>\n",
       "      <th></th>\n",
       "    </tr>\n",
       "  </thead>\n",
       "  <tbody>\n",
       "    <tr>\n",
       "      <th>24</th>\n",
       "      <td>3918</td>\n",
       "      <td>5928</td>\n",
       "      <td>1.325</td>\n",
       "      <td>True</td>\n",
       "    </tr>\n",
       "    <tr>\n",
       "      <th>24</th>\n",
       "      <td>4157</td>\n",
       "      <td>6115</td>\n",
       "      <td>1.175</td>\n",
       "      <td>True</td>\n",
       "    </tr>\n",
       "    <tr>\n",
       "      <th>24</th>\n",
       "      <td>3520</td>\n",
       "      <td>6492</td>\n",
       "      <td>0.925</td>\n",
       "      <td>True</td>\n",
       "    </tr>\n",
       "    <tr>\n",
       "      <th>24</th>\n",
       "      <td>5041</td>\n",
       "      <td>6665</td>\n",
       "      <td>0.225</td>\n",
       "      <td>True</td>\n",
       "    </tr>\n",
       "    <tr>\n",
       "      <th>24</th>\n",
       "      <td>2948</td>\n",
       "      <td>8054</td>\n",
       "      <td>1.575</td>\n",
       "      <td>True</td>\n",
       "    </tr>\n",
       "    <tr>\n",
       "      <th>...</th>\n",
       "      <td>...</td>\n",
       "      <td>...</td>\n",
       "      <td>...</td>\n",
       "      <td>...</td>\n",
       "    </tr>\n",
       "    <tr>\n",
       "      <th>24</th>\n",
       "      <td>3452</td>\n",
       "      <td>17812</td>\n",
       "      <td>0.725</td>\n",
       "      <td>True</td>\n",
       "    </tr>\n",
       "    <tr>\n",
       "      <th>24</th>\n",
       "      <td>48</td>\n",
       "      <td>18053</td>\n",
       "      <td>0.975</td>\n",
       "      <td>True</td>\n",
       "    </tr>\n",
       "    <tr>\n",
       "      <th>24</th>\n",
       "      <td>3267</td>\n",
       "      <td>18095</td>\n",
       "      <td>1.125</td>\n",
       "      <td>True</td>\n",
       "    </tr>\n",
       "    <tr>\n",
       "      <th>24</th>\n",
       "      <td>3267</td>\n",
       "      <td>18102</td>\n",
       "      <td>1.425</td>\n",
       "      <td>True</td>\n",
       "    </tr>\n",
       "    <tr>\n",
       "      <th>24</th>\n",
       "      <td>104</td>\n",
       "      <td>19031</td>\n",
       "      <td>0.875</td>\n",
       "      <td>True</td>\n",
       "    </tr>\n",
       "  </tbody>\n",
       "</table>\n",
       "<p>61 rows × 4 columns</p>\n",
       "</div>"
      ],
      "text/plain": [
       "          sensor_id   time  charge  auxiliary\n",
       "event_id                                     \n",
       "24             3918   5928   1.325       True\n",
       "24             4157   6115   1.175       True\n",
       "24             3520   6492   0.925       True\n",
       "24             5041   6665   0.225       True\n",
       "24             2948   8054   1.575       True\n",
       "...             ...    ...     ...        ...\n",
       "24             3452  17812   0.725       True\n",
       "24               48  18053   0.975       True\n",
       "24             3267  18095   1.125       True\n",
       "24             3267  18102   1.425       True\n",
       "24              104  19031   0.875       True\n",
       "\n",
       "[61 rows x 4 columns]"
      ]
     },
     "execution_count": 68,
     "metadata": {},
     "output_type": "execute_result"
    }
   ],
   "source": [
    "batch = pd.read_parquet(INPUT_PATH / \"train\" / \"batch_1.parquet\")\n",
    "event_24 = batch.loc[24]\n",
    "event_24"
   ]
  },
  {
   "cell_type": "code",
   "execution_count": 69,
   "id": "dec9dabf",
   "metadata": {
    "ExecuteTime": {
     "end_time": "2023-01-28T14:28:37.600228Z",
     "start_time": "2023-01-28T14:28:37.592351Z"
    }
   },
   "outputs": [
    {
     "data": {
      "text/plain": [
       "557     4\n",
       "5057    3\n",
       "3050    2\n",
       "3496    2\n",
       "558     2\n",
       "3609    2\n",
       "3267    2\n",
       "3520    2\n",
       "1970    2\n",
       "3276    1\n",
       "4831    1\n",
       "613     1\n",
       "554     1\n",
       "560     1\n",
       "4571    1\n",
       "3699    1\n",
       "300     1\n",
       "2421    1\n",
       "3438    1\n",
       "2261    1\n",
       "3115    1\n",
       "4528    1\n",
       "2448    1\n",
       "3289    1\n",
       "4904    1\n",
       "3452    1\n",
       "48      1\n",
       "975     1\n",
       "3918    1\n",
       "973     1\n",
       "972     1\n",
       "5041    1\n",
       "2948    1\n",
       "860     1\n",
       "2440    1\n",
       "1743    1\n",
       "2977    1\n",
       "5059    1\n",
       "3161    1\n",
       "2959    1\n",
       "1397    1\n",
       "3387    1\n",
       "1583    1\n",
       "1940    1\n",
       "1241    1\n",
       "1405    1\n",
       "4157    1\n",
       "553     1\n",
       "104     1\n",
       "Name: sensor_id, dtype: int64"
      ]
     },
     "execution_count": 69,
     "metadata": {},
     "output_type": "execute_result"
    }
   ],
   "source": [
    "event_24[\"sensor_id\"].value_counts()"
   ]
  },
  {
   "cell_type": "code",
   "execution_count": 3,
   "id": "78d73412",
   "metadata": {
    "ExecuteTime": {
     "end_time": "2023-01-28T14:08:40.742713Z",
     "start_time": "2023-01-28T14:08:38.518497Z"
    }
   },
   "outputs": [
    {
     "data": {
      "text/plain": [
       "Data(x=[61, 7], y=[2], n_pulses=61)"
      ]
     },
     "execution_count": 3,
     "metadata": {},
     "output_type": "execute_result"
    }
   ],
   "source": [
    "data = torch.load(INPUT_PATH / \"train_events\" / \"batch_1\" / \"event_24.pt\")\n",
    "data"
   ]
  },
  {
   "cell_type": "code",
   "execution_count": 18,
   "id": "bfa4e34d",
   "metadata": {
    "ExecuteTime": {
     "end_time": "2023-01-28T14:13:16.187115Z",
     "start_time": "2023-01-28T14:13:16.180690Z"
    }
   },
   "outputs": [
    {
     "data": {
      "text/plain": [
       "array([[ 0.60682,  0.67128,  0.41316],\n",
       "       [-0.2909 ,  0.74848,  0.42546],\n",
       "       [ 1.01054,  0.51576, -0.3492 ],\n",
       "       [ 1.01054,  0.51576, -0.3492 ],\n",
       "       [-0.01936, -0.159  ,  0.362  ],\n",
       "       [ 1.15274,  0.34184,  0.71576],\n",
       "       [-0.58132, -0.61476,  0.32722],\n",
       "       [-1.05326, -0.0312 , -0.35634],\n",
       "       [ 1.00086, -0.1169 ,  0.90158],\n",
       "       [-0.6272 ,  0.47488,  0.69602],\n",
       "       [-0.6272 ,  0.47488,  0.69602],\n",
       "       [-0.01936, -0.159  , -0.41094],\n",
       "       [-0.01936, -0.159  , -0.41094],\n",
       "       [-0.01936, -0.159  , -0.41094],\n",
       "       [ 1.15274,  0.34184, -0.27144],\n",
       "       [-0.01936, -0.159  , -0.43898],\n",
       "       [ 1.01054,  0.51576,  0.4678 ],\n",
       "       [ 1.01054,  0.51576,  0.4678 ],\n",
       "       [-0.4699 ,  0.28088, -0.39558],\n",
       "       [ 1.15274,  0.34184,  0.3413 ],\n",
       "       [-0.4913 , -0.38098,  0.42426],\n",
       "       [-0.64878, -0.18686, -0.7018 ],\n",
       "       [-0.64878, -0.18686, -0.7018 ],\n",
       "       [ 0.51462,  0.42332,  0.08972],\n",
       "       [ 0.24994, -0.2625 ,  0.20436],\n",
       "       [-0.64878, -0.18686,  0.31944],\n",
       "       [ 0.88688, -0.3887 , -0.36236],\n",
       "       [ 0.07108, -0.72966,  0.38268],\n",
       "       [ 0.07108, -0.72966,  0.38268],\n",
       "       [ 0.07108, -0.72966,  0.41672],\n",
       "       [ 0.07108, -0.72966,  0.41672],\n",
       "       [ 0.07108, -0.72966,  0.41672],\n",
       "       [ 0.07108, -0.72966,  0.41672],\n",
       "       [-0.4913 , -0.38098,  0.15192],\n",
       "       [-0.9632 ,  0.20278, -0.69796],\n",
       "       [-0.9632 ,  0.20278, -0.69796],\n",
       "       [ 0.07108, -0.72966,  0.55288],\n",
       "       [-0.08654, -0.53504,  0.59176],\n",
       "       [-0.08654, -0.53504,  0.5577 ],\n",
       "       [ 0.5858 ,  0.0104 , -0.4129 ],\n",
       "       [-0.08654, -0.53504,  0.48962],\n",
       "       [ 0.07108, -0.72966,  0.3146 ],\n",
       "       [ 0.07108, -0.72966,  0.51884],\n",
       "       [ 0.02374,  0.35838, -0.2208 ],\n",
       "       [ 0.0832 ,  0.07098, -0.61016],\n",
       "       [-0.20212,  0.98044,  0.62852],\n",
       "       [-0.37996,  0.51484, -0.3244 ],\n",
       "       [ 0.722  , -0.84566,  0.99902],\n",
       "       [ 0.31788, -0.69046,  0.55712],\n",
       "       [ 0.7647 ,  0.4778 ,  0.38434],\n",
       "       [-1.05326, -0.0312 ,  0.29046],\n",
       "       [-0.71688,  0.24112, -0.87616],\n",
       "       [-0.44818,  0.94172,  0.05168],\n",
       "       [-1.05326, -0.0312 , -0.62866],\n",
       "       [ 0.02374,  0.35838, -0.66334],\n",
       "       [ 0.21388,  0.05418, -0.7981 ],\n",
       "       [ 0.7647 ,  0.4778 , -0.09224],\n",
       "       [-0.51228, -1.04216, -0.64194],\n",
       "       [ 0.02374,  0.35838,  0.08556],\n",
       "       [ 0.02374,  0.35838,  0.08556],\n",
       "       [-0.2656 , -1.0029 , -0.49768]], dtype=float32)"
      ]
     },
     "execution_count": 18,
     "metadata": {},
     "output_type": "execute_result"
    }
   ],
   "source": [
    "xyz = data.x[:, :3].numpy()\n",
    "xyz"
   ]
  },
  {
   "cell_type": "code",
   "execution_count": 70,
   "id": "4c70105c",
   "metadata": {
    "ExecuteTime": {
     "end_time": "2023-01-28T14:34:00.183014Z",
     "start_time": "2023-01-28T14:34:00.177656Z"
    }
   },
   "outputs": [
    {
     "data": {
      "text/plain": [
       "(61, 61)"
      ]
     },
     "execution_count": 70,
     "metadata": {},
     "output_type": "execute_result"
    }
   ],
   "source": [
    "mat = pairwise_distances(xyz)\n",
    "mat.shape"
   ]
  },
  {
   "cell_type": "code",
   "execution_count": 71,
   "id": "83c7aad2",
   "metadata": {
    "ExecuteTime": {
     "end_time": "2023-01-28T14:34:00.518345Z",
     "start_time": "2023-01-28T14:34:00.514161Z"
    }
   },
   "outputs": [
    {
     "data": {
      "text/plain": [
       "array([[0.        , 0.90111727, 0.87656665, 0.87656665],\n",
       "       [0.90111727, 0.        , 1.5323194 , 1.5323194 ],\n",
       "       [0.87656665, 1.5323194 , 0.        , 0.        ],\n",
       "       [0.87656665, 1.5323194 , 0.        , 0.        ]], dtype=float32)"
      ]
     },
     "execution_count": 71,
     "metadata": {},
     "output_type": "execute_result"
    }
   ],
   "source": [
    "mat[:4, :4]"
   ]
  },
  {
   "cell_type": "code",
   "execution_count": 84,
   "id": "2bd4dc98",
   "metadata": {
    "ExecuteTime": {
     "end_time": "2023-01-29T10:06:39.836624Z",
     "start_time": "2023-01-29T10:06:39.813393Z"
    }
   },
   "outputs": [
    {
     "data": {
      "text/plain": [
       "[0,\n",
       " 0.9011172652244568,\n",
       " 0.8765666484832764,\n",
       " 0.0,\n",
       " 0.9493582844734192,\n",
       " 0.7057805061340332,\n",
       " 0.7243796586990356,\n",
       " 1.0151472091674805,\n",
       " 0.5177248120307922,\n",
       " 0.5110356211662292,\n",
       " 0.0,\n",
       " 0.7729399800300598,\n",
       " 0.0,\n",
       " 0.0,\n",
       " 0.23773016035556793,\n",
       " 0.028040021657943726,\n",
       " 0.3345940411090851,\n",
       " 0.0,\n",
       " 0.6298545002937317,\n",
       " 0.257820188999176,\n",
       " 0.2686511278152466,\n",
       " 0.5542352199554443,\n",
       " 0.0,\n",
       " 0.4178497791290283,\n",
       " 0.3287629783153534,\n",
       " 0.2710530757904053,\n",
       " 0.7827110886573792,\n",
       " 0.5310624837875366,\n",
       " 0.0,\n",
       " 0.03404000401496887,\n",
       " 0.0,\n",
       " 0.0,\n",
       " 0.0,\n",
       " 0.27233999967575073,\n",
       " 0.4237472116947174,\n",
       " 0.0,\n",
       " 0.1361599862575531,\n",
       " 0.25344160199165344,\n",
       " 0.034060001373291016,\n",
       " 0.5024781227111816,\n",
       " 0.06807997822761536,\n",
       " 0.06808000802993774,\n",
       " 0.034039974212646484,\n",
       " 0.5293720364570618,\n",
       " 0.30448633432388306,\n",
       " 0.32081255316734314,\n",
       " 0.2605630159378052,\n",
       " 0.7863513827323914,\n",
       " 0.24992969632148743,\n",
       " 0.25137859582901,\n",
       " 0.4343661367893219,\n",
       " 0.3064289689064026,\n",
       " 0.44921061396598816,\n",
       " 0.26011523604393005,\n",
       " 0.29826557636260986,\n",
       " 0.22952330112457275,\n",
       " 0.31403425335884094,\n",
       " 0.8681898713111877,\n",
       " 0.30636000633239746,\n",
       " 0.0,\n",
       " 0.28844985365867615]"
      ]
     },
     "execution_count": 84,
     "metadata": {},
     "output_type": "execute_result"
    }
   ],
   "source": [
    "n_nodes = xyz.shape[0]\n",
    "dists = []\n",
    "mat = pairwise_distances(xyz)\n",
    "mat = mat + np.eye(n_nodes) * 1000\n",
    "\n",
    "for i in range(xyz.shape[0]):\n",
    "    masked_mat = mat[:i+1, :i+1]\n",
    "    \n",
    "    if i == 0:\n",
    "        dists.append(0)\n",
    "    else:\n",
    "        dists.append(masked_mat[i].min())\n",
    "        \n",
    "dists"
   ]
  },
  {
   "cell_type": "code",
   "execution_count": 78,
   "id": "be724b91",
   "metadata": {
    "ExecuteTime": {
     "end_time": "2023-01-29T00:19:35.650096Z",
     "start_time": "2023-01-29T00:19:35.645234Z"
    }
   },
   "outputs": [
    {
     "data": {
      "text/plain": [
       "0.3262412946243755"
      ]
     },
     "execution_count": 78,
     "metadata": {},
     "output_type": "execute_result"
    }
   ],
   "source": [
    "dists = np.array(dists)\n",
    "\n",
    "dists.mean()"
   ]
  },
  {
   "cell_type": "code",
   "execution_count": 82,
   "id": "0a13c19e",
   "metadata": {
    "ExecuteTime": {
     "end_time": "2023-01-29T00:20:36.290164Z",
     "start_time": "2023-01-29T00:20:36.282316Z"
    }
   },
   "outputs": [
    {
     "data": {
      "text/plain": [
       "array([-1.00000000e+00,  2.60446906e+00,  2.50626659e+00, -1.00000000e+00,\n",
       "        2.79743314e+00,  1.82312202e+00,  1.89751863e+00,  3.06058884e+00,\n",
       "        1.07089925e+00,  1.04414248e+00, -1.00000000e+00,  2.09175992e+00,\n",
       "       -1.00000000e+00, -1.00000000e+00, -4.90793586e-02, -8.87839913e-01,\n",
       "        3.38376164e-01, -1.00000000e+00,  1.51941800e+00,  3.12807560e-02,\n",
       "        7.46045113e-02,  1.21694088e+00, -1.00000000e+00,  6.71399117e-01,\n",
       "        3.15051913e-01,  8.42123032e-02,  2.13084435e+00,  1.12424994e+00,\n",
       "       -1.00000000e+00, -8.63839984e-01, -1.00000000e+00, -1.00000000e+00,\n",
       "       -1.00000000e+00,  8.93599987e-02,  6.94988847e-01, -1.00000000e+00,\n",
       "       -4.55360055e-01,  1.37664080e-02, -8.63759995e-01,  1.00991249e+00,\n",
       "       -7.27680087e-01, -7.27679968e-01, -8.63840103e-01,  1.11748815e+00,\n",
       "        2.17945337e-01,  2.83250213e-01,  4.22520638e-02,  2.14540553e+00,\n",
       "       -2.81214714e-04,  5.51438332e-03,  7.37464547e-01,  2.25715876e-01,\n",
       "        7.96842456e-01,  4.04609442e-02,  1.93062305e-01, -8.19067955e-02,\n",
       "        2.56137013e-01,  2.47275949e+00,  2.25440025e-01, -1.00000000e+00,\n",
       "        1.53799415e-01])"
      ]
     },
     "execution_count": 82,
     "metadata": {},
     "output_type": "execute_result"
    }
   ],
   "source": [
    "norm_dists = (dists - 0.25) / 0.25\n",
    "norm_dists"
   ]
  },
  {
   "cell_type": "code",
   "execution_count": 83,
   "id": "86b4f2e2",
   "metadata": {
    "ExecuteTime": {
     "end_time": "2023-01-29T00:20:59.809776Z",
     "start_time": "2023-01-29T00:20:59.569826Z"
    }
   },
   "outputs": [
    {
     "data": {
      "text/plain": [
       "(array([19.,  1., 14.,  6.,  5.,  5.,  2.,  4.,  3.,  2.]),\n",
       " array([-1.        , -0.59394112, -0.18788223,  0.21817665,  0.62423553,\n",
       "         1.03029442,  1.4363533 ,  1.84241219,  2.24847107,  2.65452995,\n",
       "         3.06058884]),\n",
       " <BarContainer object of 10 artists>)"
      ]
     },
     "execution_count": 83,
     "metadata": {},
     "output_type": "execute_result"
    },
    {
     "data": {
      "image/png": "[encoded data removed]",
      "text/plain": [
       "<Figure size 640x480 with 1 Axes>"
      ]
     },
     "metadata": {},
     "output_type": "display_data"
    }
   ],
   "source": [
    "plt.hist(norm_dists)"
   ]
  },
  {
   "cell_type": "code",
   "execution_count": null,
   "id": "57f5ccee",
   "metadata": {},
   "outputs": [],
   "source": []
  }
 ],
 "metadata": {
  "kernelspec": {
   "display_name": "kaggle",
   "language": "python",
   "name": "kaggle"
  },
  "language_info": {
   "codemirror_mode": {
    "name": "ipython",
    "version": 3
   },
   "file_extension": ".py",
   "mimetype": "text/x-python",
   "name": "python",
   "nbconvert_exporter": "python",
   "pygments_lexer": "ipython3",
   "version": "3.10.6"
  }
 },
 "nbformat": 4,
 "nbformat_minor": 5
}
