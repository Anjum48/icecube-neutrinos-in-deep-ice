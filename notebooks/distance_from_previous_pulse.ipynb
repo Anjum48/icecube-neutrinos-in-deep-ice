{
 "cells": [
  {
   "cell_type": "code",
   "execution_count": 1,
   "id": "3df47364",
   "metadata": {
    "ExecuteTime": {
     "end_time": "2023-03-10T07:33:06.311116Z",
     "start_time": "2023-03-10T07:33:01.066568Z"
    }
   },
   "outputs": [],
   "source": [
    "import sys\n",
    "COMP_NAME = \"icecube-neutrinos-in-deep-ice\"\n",
    "sys.path.append(f\"/home/anjum/kaggle/{COMP_NAME}/\")\n",
    "\n",
    "import torch\n",
    "import torch.nn as nn\n",
    "import numpy as np\n",
    "import pandas as pd\n",
    "import matplotlib.pyplot as plt\n",
    "\n",
    "from sklearn.metrics import pairwise_distances\n",
    "from torchmetrics.functional import pairwise_euclidean_distance\n",
    "\n",
    "\n",
    "from src.config import INPUT_PATH, OUTPUT_PATH"
   ]
  },
  {
   "cell_type": "code",
   "execution_count": 2,
   "id": "f12f5439",
   "metadata": {
    "ExecuteTime": {
     "end_time": "2023-03-10T07:33:08.291044Z",
     "start_time": "2023-03-10T07:33:06.315091Z"
    }
   },
   "outputs": [
    {
     "data": {
      "text/html": [
       "<div>\n",
       "<style scoped>\n",
       "    .dataframe tbody tr th:only-of-type {\n",
       "        vertical-align: middle;\n",
       "    }\n",
       "\n",
       "    .dataframe tbody tr th {\n",
       "        vertical-align: top;\n",
       "    }\n",
       "\n",
       "    .dataframe thead th {\n",
       "        text-align: right;\n",
       "    }\n",
       "</style>\n",
       "<table border=\"1\" class=\"dataframe\">\n",
       "  <thead>\n",
       "    <tr style=\"text-align: right;\">\n",
       "      <th></th>\n",
       "      <th>sensor_id</th>\n",
       "      <th>time</th>\n",
       "      <th>charge</th>\n",
       "      <th>auxiliary</th>\n",
       "    </tr>\n",
       "    <tr>\n",
       "      <th>event_id</th>\n",
       "      <th></th>\n",
       "      <th></th>\n",
       "      <th></th>\n",
       "      <th></th>\n",
       "    </tr>\n",
       "  </thead>\n",
       "  <tbody>\n",
       "    <tr>\n",
       "      <th>24</th>\n",
       "      <td>3918</td>\n",
       "      <td>5928</td>\n",
       "      <td>1.325</td>\n",
       "      <td>True</td>\n",
       "    </tr>\n",
       "    <tr>\n",
       "      <th>24</th>\n",
       "      <td>4157</td>\n",
       "      <td>6115</td>\n",
       "      <td>1.175</td>\n",
       "      <td>True</td>\n",
       "    </tr>\n",
       "    <tr>\n",
       "      <th>24</th>\n",
       "      <td>3520</td>\n",
       "      <td>6492</td>\n",
       "      <td>0.925</td>\n",
       "      <td>True</td>\n",
       "    </tr>\n",
       "    <tr>\n",
       "      <th>24</th>\n",
       "      <td>5041</td>\n",
       "      <td>6665</td>\n",
       "      <td>0.225</td>\n",
       "      <td>True</td>\n",
       "    </tr>\n",
       "    <tr>\n",
       "      <th>24</th>\n",
       "      <td>2948</td>\n",
       "      <td>8054</td>\n",
       "      <td>1.575</td>\n",
       "      <td>True</td>\n",
       "    </tr>\n",
       "    <tr>\n",
       "      <th>...</th>\n",
       "      <td>...</td>\n",
       "      <td>...</td>\n",
       "      <td>...</td>\n",
       "      <td>...</td>\n",
       "    </tr>\n",
       "    <tr>\n",
       "      <th>24</th>\n",
       "      <td>3452</td>\n",
       "      <td>17812</td>\n",
       "      <td>0.725</td>\n",
       "      <td>True</td>\n",
       "    </tr>\n",
       "    <tr>\n",
       "      <th>24</th>\n",
       "      <td>48</td>\n",
       "      <td>18053</td>\n",
       "      <td>0.975</td>\n",
       "      <td>True</td>\n",
       "    </tr>\n",
       "    <tr>\n",
       "      <th>24</th>\n",
       "      <td>3267</td>\n",
       "      <td>18095</td>\n",
       "      <td>1.125</td>\n",
       "      <td>True</td>\n",
       "    </tr>\n",
       "    <tr>\n",
       "      <th>24</th>\n",
       "      <td>3267</td>\n",
       "      <td>18102</td>\n",
       "      <td>1.425</td>\n",
       "      <td>True</td>\n",
       "    </tr>\n",
       "    <tr>\n",
       "      <th>24</th>\n",
       "      <td>104</td>\n",
       "      <td>19031</td>\n",
       "      <td>0.875</td>\n",
       "      <td>True</td>\n",
       "    </tr>\n",
       "  </tbody>\n",
       "</table>\n",
       "<p>61 rows × 4 columns</p>\n",
       "</div>"
      ],
      "text/plain": [
       "          sensor_id   time  charge  auxiliary\n",
       "event_id                                     \n",
       "24             3918   5928   1.325       True\n",
       "24             4157   6115   1.175       True\n",
       "24             3520   6492   0.925       True\n",
       "24             5041   6665   0.225       True\n",
       "24             2948   8054   1.575       True\n",
       "...             ...    ...     ...        ...\n",
       "24             3452  17812   0.725       True\n",
       "24               48  18053   0.975       True\n",
       "24             3267  18095   1.125       True\n",
       "24             3267  18102   1.425       True\n",
       "24              104  19031   0.875       True\n",
       "\n",
       "[61 rows x 4 columns]"
      ]
     },
     "execution_count": 2,
     "metadata": {},
     "output_type": "execute_result"
    }
   ],
   "source": [
    "batch = pd.read_parquet(INPUT_PATH / \"train\" / \"batch_1.parquet\")\n",
    "event_24 = batch.loc[24]\n",
    "event_24"
   ]
  },
  {
   "cell_type": "code",
   "execution_count": 3,
   "id": "dec9dabf",
   "metadata": {
    "ExecuteTime": {
     "end_time": "2023-03-10T07:33:08.306141Z",
     "start_time": "2023-03-10T07:33:08.298308Z"
    }
   },
   "outputs": [
    {
     "data": {
      "text/plain": [
       "557     4\n",
       "5057    3\n",
       "3050    2\n",
       "3496    2\n",
       "558     2\n",
       "3609    2\n",
       "3267    2\n",
       "3520    2\n",
       "1970    2\n",
       "3276    1\n",
       "4831    1\n",
       "613     1\n",
       "554     1\n",
       "560     1\n",
       "4571    1\n",
       "3699    1\n",
       "300     1\n",
       "2421    1\n",
       "3438    1\n",
       "2261    1\n",
       "3115    1\n",
       "4528    1\n",
       "2448    1\n",
       "3289    1\n",
       "4904    1\n",
       "3452    1\n",
       "48      1\n",
       "975     1\n",
       "3918    1\n",
       "973     1\n",
       "972     1\n",
       "5041    1\n",
       "2948    1\n",
       "860     1\n",
       "2440    1\n",
       "1743    1\n",
       "2977    1\n",
       "5059    1\n",
       "3161    1\n",
       "2959    1\n",
       "1397    1\n",
       "3387    1\n",
       "1583    1\n",
       "1940    1\n",
       "1241    1\n",
       "1405    1\n",
       "4157    1\n",
       "553     1\n",
       "104     1\n",
       "Name: sensor_id, dtype: int64"
      ]
     },
     "execution_count": 3,
     "metadata": {},
     "output_type": "execute_result"
    }
   ],
   "source": [
    "event_24[\"sensor_id\"].value_counts()"
   ]
  },
  {
   "cell_type": "code",
   "execution_count": 4,
   "id": "78d73412",
   "metadata": {
    "ExecuteTime": {
     "end_time": "2023-03-10T07:33:09.817096Z",
     "start_time": "2023-03-10T07:33:08.309706Z"
    }
   },
   "outputs": [
    {
     "data": {
      "text/plain": [
       "Data(x=[61, 9], y=[2], n_pulses=61)"
      ]
     },
     "execution_count": 4,
     "metadata": {},
     "output_type": "execute_result"
    }
   ],
   "source": [
    "data = torch.load(INPUT_PATH / \"train_events\" / \"batch_1\" / \"event_24.pt\")\n",
    "data"
   ]
  },
  {
   "cell_type": "code",
   "execution_count": 5,
   "id": "bfa4e34d",
   "metadata": {
    "ExecuteTime": {
     "end_time": "2023-03-10T07:33:09.829990Z",
     "start_time": "2023-03-10T07:33:09.819393Z"
    }
   },
   "outputs": [
    {
     "data": {
      "text/plain": [
       "array([[ 0.60682   ,  0.67128   ,  0.41316   ],\n",
       "       [-0.2909    ,  0.74847996,  0.42545998],\n",
       "       [ 1.01054   ,  0.51576   , -0.3492    ],\n",
       "       [ 1.01054   ,  0.51576   , -0.3492    ],\n",
       "       [-0.01936   , -0.159     ,  0.362     ],\n",
       "       [ 1.15274   ,  0.34184   ,  0.71576   ],\n",
       "       [-0.58132   , -0.61476   ,  0.32722   ],\n",
       "       [-1.05326   , -0.0312    , -0.35634   ],\n",
       "       [ 1.00086   , -0.1169    ,  0.90158004],\n",
       "       [-0.6272    ,  0.47488   ,  0.69602   ],\n",
       "       [-0.6272    ,  0.47488   ,  0.69602   ],\n",
       "       [-0.01936   , -0.159     , -0.41094   ],\n",
       "       [-0.01936   , -0.159     , -0.41094   ],\n",
       "       [-0.01936   , -0.159     , -0.41094   ],\n",
       "       [ 1.15274   ,  0.34184   , -0.27144   ],\n",
       "       [-0.01936   , -0.159     , -0.43898   ],\n",
       "       [ 1.01054   ,  0.51576   ,  0.4678    ],\n",
       "       [ 1.01054   ,  0.51576   ,  0.4678    ],\n",
       "       [-0.46989998,  0.28088   , -0.39558   ],\n",
       "       [ 1.15274   ,  0.34184   ,  0.34129998],\n",
       "       [-0.4913    , -0.38098   ,  0.42426002],\n",
       "       [-0.64878005, -0.18686   , -0.7018    ],\n",
       "       [-0.64878005, -0.18686   , -0.7018    ],\n",
       "       [ 0.51462   ,  0.42332   ,  0.08972   ],\n",
       "       [ 0.24994001, -0.2625    ,  0.20436   ],\n",
       "       [-0.64878005, -0.18686   ,  0.31944   ],\n",
       "       [ 0.88688   , -0.3887    , -0.36235997],\n",
       "       [ 0.07108   , -0.72966   ,  0.38268   ],\n",
       "       [ 0.07108   , -0.72966   ,  0.38268   ],\n",
       "       [ 0.07108   , -0.72966   ,  0.41672   ],\n",
       "       [ 0.07108   , -0.72966   ,  0.41672   ],\n",
       "       [ 0.07108   , -0.72966   ,  0.41672   ],\n",
       "       [ 0.07108   , -0.72966   ,  0.41672   ],\n",
       "       [-0.4913    , -0.38098   ,  0.15191999],\n",
       "       [-0.96320003,  0.20278   , -0.69796   ],\n",
       "       [-0.96320003,  0.20278   , -0.69796   ],\n",
       "       [ 0.07108   , -0.72966   ,  0.55288   ],\n",
       "       [-0.08654   , -0.53503996,  0.59176004],\n",
       "       [-0.08654   , -0.53503996,  0.55770004],\n",
       "       [ 0.5858    ,  0.0104    , -0.4129    ],\n",
       "       [-0.08654   , -0.53503996,  0.48962   ],\n",
       "       [ 0.07108   , -0.72966   ,  0.31460002],\n",
       "       [ 0.07108   , -0.72966   ,  0.51884   ],\n",
       "       [ 0.02374   ,  0.35838002, -0.2208    ],\n",
       "       [ 0.0832    ,  0.07098   , -0.61016   ],\n",
       "       [-0.20211999,  0.98044   ,  0.62852   ],\n",
       "       [-0.37996   ,  0.51484   , -0.3244    ],\n",
       "       [ 0.722     , -0.84566   ,  0.99902004],\n",
       "       [ 0.31788   , -0.69046   ,  0.55711997],\n",
       "       [ 0.7647    ,  0.47779998,  0.38434   ],\n",
       "       [-1.05326   , -0.0312    ,  0.29046   ],\n",
       "       [-0.71688   ,  0.24112   , -0.87615997],\n",
       "       [-0.44818   ,  0.94171995,  0.05168   ],\n",
       "       [-1.05326   , -0.0312    , -0.62865996],\n",
       "       [ 0.02374   ,  0.35838002, -0.66334003],\n",
       "       [ 0.21388   ,  0.05418   , -0.7981    ],\n",
       "       [ 0.7647    ,  0.47779998, -0.09224   ],\n",
       "       [-0.51228005, -1.04216   , -0.64194   ],\n",
       "       [ 0.02374   ,  0.35838002,  0.08555999],\n",
       "       [ 0.02374   ,  0.35838002,  0.08555999],\n",
       "       [-0.2656    , -1.0029    , -0.49767998]], dtype=float32)"
      ]
     },
     "execution_count": 5,
     "metadata": {},
     "output_type": "execute_result"
    }
   ],
   "source": [
    "xyz = data.x[:, :3].numpy()\n",
    "xyz"
   ]
  },
  {
   "cell_type": "code",
   "execution_count": 6,
   "id": "e5c26835",
   "metadata": {
    "ExecuteTime": {
     "end_time": "2023-03-10T07:33:09.844599Z",
     "start_time": "2023-03-10T07:33:09.833403Z"
    }
   },
   "outputs": [
    {
     "data": {
      "text/plain": [
       "tensor([ 0,  1,  2,  4,  5,  6,  7,  8,  9, 11, 12, 14, 15, 16, 18, 19, 20, 21,\n",
       "        23, 24, 25, 26, 27, 29, 33, 30, 28, 31, 32, 34, 36, 37, 38, 39, 40, 41,\n",
       "        42, 43, 44, 45,  3, 46, 47, 48, 49, 50, 10, 51, 13, 52, 17, 53, 54, 35,\n",
       "        55, 22, 56, 57, 58, 59, 60])"
      ]
     },
     "execution_count": 6,
     "metadata": {},
     "output_type": "execute_result"
    }
   ],
   "source": [
    "t, idx = torch.sort(data.x[:, 3])\n",
    "idx"
   ]
  },
  {
   "cell_type": "code",
   "execution_count": 7,
   "id": "58b2c1ee",
   "metadata": {
    "ExecuteTime": {
     "end_time": "2023-03-10T07:33:09.853373Z",
     "start_time": "2023-03-10T07:33:09.847298Z"
    }
   },
   "outputs": [
    {
     "data": {
      "text/plain": [
       "tensor([-0.1357, -0.1295, -0.1169, -0.1112, -0.0649, -0.0625, -0.0572, -0.0507,\n",
       "        -0.0476, -0.0440, -0.0426, -0.0418, -0.0044, -0.0008,  0.0086,  0.0214,\n",
       "         0.0283,  0.0324,  0.0341,  0.0362,  0.0406,  0.0472,  0.0734,  0.0735,\n",
       "         0.0738,  0.0742,  0.0780,  0.0792,  0.0812,  0.0857,  0.0869,  0.0908,\n",
       "         0.0924,  0.0924,  0.0939,  0.1027,  0.1087,  0.1334,  0.1402,  0.1428,\n",
       "         0.1508,  0.1533,  0.1736,  0.1781,  0.1867,  0.1878,  0.1884,  0.1974,\n",
       "         0.1989,  0.2005,  0.2094,  0.2256,  0.2295,  0.2391,  0.2399,  0.2585,\n",
       "         0.2604,  0.2684,  0.2698,  0.2701,  0.3010])"
      ]
     },
     "execution_count": 7,
     "metadata": {},
     "output_type": "execute_result"
    }
   ],
   "source": [
    "t"
   ]
  },
  {
   "cell_type": "code",
   "execution_count": 8,
   "id": "73d4c3f1",
   "metadata": {
    "ExecuteTime": {
     "end_time": "2023-03-10T07:33:09.859523Z",
     "start_time": "2023-03-10T07:33:09.856174Z"
    }
   },
   "outputs": [],
   "source": [
    "data.x = data.x[idx]"
   ]
  },
  {
   "cell_type": "code",
   "execution_count": 9,
   "id": "fd946154",
   "metadata": {
    "ExecuteTime": {
     "end_time": "2023-03-10T07:33:09.872275Z",
     "start_time": "2023-03-10T07:33:09.865501Z"
    }
   },
   "outputs": [
    {
     "data": {
      "text/plain": [
       "tensor([ 0.5000,  0.5000,  0.5000,  0.5000,  0.5000,  0.5000,  0.5000,  0.5000,\n",
       "         0.5000,  0.5000,  0.5000,  0.5000, -0.5000,  0.5000,  0.5000,  0.5000,\n",
       "         0.5000,  0.5000,  0.5000,  0.5000,  0.5000,  0.5000, -0.5000, -0.5000,\n",
       "         0.5000, -0.5000, -0.5000, -0.5000, -0.5000,  0.5000, -0.5000, -0.5000,\n",
       "        -0.5000,  0.5000, -0.5000, -0.5000, -0.5000,  0.5000,  0.5000,  0.5000,\n",
       "         0.5000,  0.5000,  0.5000,  0.5000,  0.5000,  0.5000,  0.5000,  0.5000,\n",
       "         0.5000,  0.5000,  0.5000,  0.5000,  0.5000,  0.5000,  0.5000,  0.5000,\n",
       "         0.5000,  0.5000,  0.5000,  0.5000,  0.5000])"
      ]
     },
     "execution_count": 9,
     "metadata": {},
     "output_type": "execute_result"
    }
   ],
   "source": [
    "aux = data.x[:, 6]\n",
    "aux"
   ]
  },
  {
   "cell_type": "code",
   "execution_count": 10,
   "id": "4c70105c",
   "metadata": {
    "ExecuteTime": {
     "end_time": "2023-03-10T07:33:09.886195Z",
     "start_time": "2023-03-10T07:33:09.874598Z"
    }
   },
   "outputs": [
    {
     "data": {
      "text/plain": [
       "(61, 61)"
      ]
     },
     "execution_count": 10,
     "metadata": {},
     "output_type": "execute_result"
    }
   ],
   "source": [
    "mat = pairwise_distances(xyz[idx])\n",
    "mat.shape"
   ]
  },
  {
   "cell_type": "code",
   "execution_count": 11,
   "id": "52c62e12",
   "metadata": {
    "ExecuteTime": {
     "end_time": "2023-03-10T07:33:09.897492Z",
     "start_time": "2023-03-10T07:33:09.889310Z"
    }
   },
   "outputs": [],
   "source": [
    "from torchmetrics.functional import pairwise_euclidean_distance\n",
    "\n",
    "mat2 = pairwise_euclidean_distance(data.x[:, :3])"
   ]
  },
  {
   "cell_type": "code",
   "execution_count": 12,
   "id": "83c7aad2",
   "metadata": {
    "ExecuteTime": {
     "end_time": "2023-03-10T07:33:09.906645Z",
     "start_time": "2023-03-10T07:33:09.900652Z"
    }
   },
   "outputs": [
    {
     "data": {
      "text/plain": [
       "array([[0.        , 0.9011172 , 0.87656665, 1.0411934 ],\n",
       "       [0.9011172 , 0.        , 1.5323194 , 0.9493582 ],\n",
       "       [0.87656665, 1.5323194 , 0.        , 1.4219003 ],\n",
       "       [1.0411934 , 0.9493582 , 1.4219003 , 0.        ]], dtype=float32)"
      ]
     },
     "execution_count": 12,
     "metadata": {},
     "output_type": "execute_result"
    }
   ],
   "source": [
    "mat[:4, :4]"
   ]
  },
  {
   "cell_type": "code",
   "execution_count": 13,
   "id": "73abaa03",
   "metadata": {
    "ExecuteTime": {
     "end_time": "2023-03-10T07:33:09.915715Z",
     "start_time": "2023-03-10T07:33:09.909556Z"
    }
   },
   "outputs": [
    {
     "data": {
      "text/plain": [
       "tensor([[0.0000, 0.9011, 0.8766, 1.0412],\n",
       "        [0.9011, 0.0000, 1.5323, 0.9494],\n",
       "        [0.8766, 1.5323, 0.0000, 1.4219],\n",
       "        [1.0412, 0.9494, 1.4219, 0.0000]])"
      ]
     },
     "execution_count": 13,
     "metadata": {},
     "output_type": "execute_result"
    }
   ],
   "source": [
    "mat2[:4, :4]"
   ]
  },
  {
   "cell_type": "code",
   "execution_count": 14,
   "id": "2bd4dc98",
   "metadata": {
    "ExecuteTime": {
     "end_time": "2023-03-10T07:33:09.938484Z",
     "start_time": "2023-03-10T07:33:09.918267Z"
    }
   },
   "outputs": [
    {
     "data": {
      "text/plain": [
       "tensor([[ 0.0000,  0.0000],\n",
       "        [ 0.8022, -0.9377],\n",
       "        [ 0.7531, -0.8120],\n",
       "        [ 0.8987, -0.8167],\n",
       "        [ 0.4116, -0.2913],\n",
       "        [ 0.4488, -0.5137],\n",
       "        [ 1.0303, -0.9467],\n",
       "        [ 0.0354, -0.8587],\n",
       "        [ 0.0221, -0.1810],\n",
       "        [ 0.5459, -0.3283],\n",
       "        [-1.0000, -0.9857],\n",
       "        [-0.5245, -0.2483],\n",
       "        [-0.9439, -0.6040],\n",
       "        [-0.3308, -0.3593],\n",
       "        [ 0.2597, -0.4737],\n",
       "        [-0.4844, -0.7780],\n",
       "        [-0.4627, -0.0920],\n",
       "        [ 0.1085, -0.1037],\n",
       "        [-0.1643,  0.6983],\n",
       "        [-0.3425,  0.4733],\n",
       "        [-0.4579, -0.8770],\n",
       "        [ 0.5654, -0.1103],\n",
       "        [ 0.0621, -0.6280],\n",
       "        [-0.9319, -0.9983],\n",
       "        [-0.4553, -0.5450],\n",
       "        [-1.0000, -0.9930],\n",
       "        [-1.0000, -0.9540],\n",
       "        [-1.0000, -0.9430],\n",
       "        [-1.0000, -0.9233],\n",
       "        [-0.1525,  0.4290],\n",
       "        [-0.7277, -0.8663],\n",
       "        [-0.4931, -0.9613],\n",
       "        [-0.9319, -0.9833],\n",
       "        [ 0.0050, -0.5477],\n",
       "        [-0.8638, -0.9850],\n",
       "        [-0.8638, -0.7067],\n",
       "        [-0.9319, -0.7817],\n",
       "        [ 0.0587,  0.2473],\n",
       "        [-0.3910,  0.4457],\n",
       "        [-0.3584,  1.7227],\n",
       "        [-1.0000,  1.6770],\n",
       "        [-0.4789,  0.4470],\n",
       "        [ 0.5727,  1.2437],\n",
       "        [-0.5001, -0.0880],\n",
       "        [-0.4972,  2.2247],\n",
       "        [-0.1313,  0.4723],\n",
       "        [-1.0000,  1.3603],\n",
       "        [-0.3871,  0.1170],\n",
       "        [-1.0000,  1.4290],\n",
       "        [-0.1016,  2.3000],\n",
       "        [-1.0000,  1.1023],\n",
       "        [-0.4798,  0.3990],\n",
       "        [-0.4035, -0.1070],\n",
       "        [-1.0000,  0.5337],\n",
       "        [-0.5410, -0.0030],\n",
       "        [-1.0000,  1.2607],\n",
       "        [-0.3719,  1.2630],\n",
       "        [ 0.7364,  1.3600],\n",
       "        [-0.3873,  0.3647],\n",
       "        [-1.0000, -0.9977],\n",
       "        [-0.4231, -0.6740]])"
      ]
     },
     "execution_count": 14,
     "metadata": {},
     "output_type": "execute_result"
    }
   ],
   "source": [
    "# Data objects no not preserve order, so need to sort by time\n",
    "t, indices = torch.sort(data.x[:, 3])\n",
    "data.x = data.x[indices]\n",
    "\n",
    "xyz = data.x[:, :3]\n",
    "\n",
    "n_nodes = xyz.shape[0]\n",
    "mat = pairwise_euclidean_distance(xyz) + torch.eye(data.n_pulses) * 1000\n",
    "mat = (mat - 0.5) / 0.5\n",
    "prev = []\n",
    "\n",
    "for i in range(data.n_pulses):\n",
    "    masked_mat = mat[: i + 1, i]\n",
    "    if i == 0:\n",
    "#         prev.append([0])\n",
    "        prev.append([0, 0])\n",
    "    else:\n",
    "#         prev.append([masked_mat[i].min()])\n",
    "\n",
    "        idx = torch.argmin(masked_mat)\n",
    "        d = masked_mat[idx]\n",
    "        t_delta = (t[i] - t[idx] - 0.1) / 0.1\n",
    "        prev.append([d, t_delta])\n",
    "\n",
    "prev = torch.tensor(prev, dtype=torch.float32)\n",
    "\n",
    "# torch.cat([dists.view(-1, 1), times.view(-1, 1), aux.view(-1, 1)], dim=-1)\n",
    "prev"
   ]
  },
  {
   "cell_type": "code",
   "execution_count": 24,
   "id": "e20b5c3f",
   "metadata": {
    "ExecuteTime": {
     "end_time": "2023-03-10T07:40:04.059134Z",
     "start_time": "2023-03-10T07:40:04.039734Z"
    }
   },
   "outputs": [
    {
     "data": {
      "text/plain": [
       "tensor([[ 0.0000,  0.0000],\n",
       "        [ 0.8022, -0.9377],\n",
       "        [ 0.7531, -0.8120],\n",
       "        [ 0.8987, -0.8167],\n",
       "        [ 0.4116, -0.2913],\n",
       "        [ 0.4488, -0.5137],\n",
       "        [ 1.0303, -0.9467],\n",
       "        [ 0.0354, -0.8587],\n",
       "        [ 0.0221, -0.1810],\n",
       "        [ 0.5459, -0.3283],\n",
       "        [-1.0000, -0.9857],\n",
       "        [-0.5245, -0.2483],\n",
       "        [-0.9439, -0.6040],\n",
       "        [-0.3308, -0.3593],\n",
       "        [ 0.2597, -0.4737],\n",
       "        [-0.4844, -0.7780],\n",
       "        [-0.4627, -0.0920],\n",
       "        [ 0.1085, -0.1037],\n",
       "        [-0.1643,  0.6983],\n",
       "        [-0.3425,  0.4733],\n",
       "        [-0.4579, -0.8770],\n",
       "        [ 0.5654, -0.1103],\n",
       "        [ 0.0621, -0.6280],\n",
       "        [-0.9319, -0.9983],\n",
       "        [-0.4553, -0.5450],\n",
       "        [-1.0000, -0.9930],\n",
       "        [-1.0000, -0.9540],\n",
       "        [-1.0000, -0.9430],\n",
       "        [-1.0000, -0.9233],\n",
       "        [-0.1525,  0.4290],\n",
       "        [-0.7277, -0.8663],\n",
       "        [-0.4931, -0.9613],\n",
       "        [-0.9319, -0.9833],\n",
       "        [ 0.0050, -0.5477],\n",
       "        [-0.8638, -0.9850],\n",
       "        [-0.8638, -0.7067],\n",
       "        [-0.9319, -0.7817],\n",
       "        [ 0.0587,  0.2473],\n",
       "        [-0.3910,  0.4457],\n",
       "        [-0.3584,  1.7227],\n",
       "        [-1.0000,  1.6770],\n",
       "        [-0.4789,  0.4470],\n",
       "        [ 0.5727,  1.2437],\n",
       "        [-0.5001, -0.0880],\n",
       "        [-0.4972,  2.2247],\n",
       "        [-0.1313,  0.4723],\n",
       "        [-1.0000,  1.3603],\n",
       "        [-0.3871,  0.1170],\n",
       "        [-1.0000,  1.4290],\n",
       "        [-0.1016,  2.3000],\n",
       "        [-1.0000,  1.1023],\n",
       "        [-0.4798,  0.3990],\n",
       "        [-0.4035, -0.1070],\n",
       "        [-1.0000,  0.5337],\n",
       "        [-0.5410, -0.0030],\n",
       "        [-1.0000,  1.2607],\n",
       "        [-0.3719,  1.2630],\n",
       "        [ 0.7364,  1.3600],\n",
       "        [-0.3873,  0.3647],\n",
       "        [-1.0000, -0.9977],\n",
       "        [-0.4231, -0.6740]])"
      ]
     },
     "execution_count": 24,
     "metadata": {},
     "output_type": "execute_result"
    }
   ],
   "source": [
    "# Data objects no not preserve order, so need to sort by time\n",
    "t, indices = torch.sort(data.x[:, 3])\n",
    "data.x = data.x[indices]\n",
    "\n",
    "xyz = data.x[:, :3]\n",
    "\n",
    "n_nodes = xyz.shape[0]\n",
    "mat = pairwise_euclidean_distance(xyz) + torch.triu(torch.ones_like(mat)) * 1000\n",
    "\n",
    "\n",
    "dists, idx = mat.min(1)\n",
    "dists = (dists - 0.5) / 0.5\n",
    "t_delta = (t - t[idx] - 0.1) / 0.1\n",
    "\n",
    "prev = torch.stack([dists, t_delta], dim=-1)\n",
    "prev[0] = 0\n",
    "\n",
    "prev"
   ]
  },
  {
   "cell_type": "code",
   "execution_count": 25,
   "id": "358959a7",
   "metadata": {
    "ExecuteTime": {
     "end_time": "2023-03-10T07:40:04.957840Z",
     "start_time": "2023-03-10T07:40:04.954601Z"
    }
   },
   "outputs": [],
   "source": [
    "dists = prev[:, 0]"
   ]
  },
  {
   "cell_type": "code",
   "execution_count": 26,
   "id": "e68cf48e",
   "metadata": {
    "ExecuteTime": {
     "end_time": "2023-03-10T07:40:05.515382Z",
     "start_time": "2023-03-10T07:40:05.351872Z"
    }
   },
   "outputs": [
    {
     "data": {
      "text/plain": [
       "(array([18.,  1., 14.,  6.,  6.,  5.,  2.,  4.,  3.,  2.]),\n",
       " array([-1.        , -0.79697055, -0.59394109, -0.39091167, -0.18788223,\n",
       "         0.01514721,  0.21817665,  0.42120609,  0.62423551,  0.82726496,\n",
       "         1.03029442]),\n",
       " <BarContainer object of 10 artists>)"
      ]
     },
     "execution_count": 26,
     "metadata": {},
     "output_type": "execute_result"
    },
    {
     "data": {
      "image/png": "[encoded data removed]",
      "text/plain": [
       "<Figure size 640x480 with 1 Axes>"
      ]
     },
     "metadata": {},
     "output_type": "display_data"
    }
   ],
   "source": [
    "plt.hist(dists)"
   ]
  },
  {
   "cell_type": "code",
   "execution_count": 27,
   "id": "b9493e20",
   "metadata": {
    "ExecuteTime": {
     "end_time": "2023-03-10T07:40:05.922257Z",
     "start_time": "2023-03-10T07:40:05.779880Z"
    }
   },
   "outputs": [
    {
     "data": {
      "text/plain": [
       "(array([22.,  7.,  9.,  3.,  8.,  1.,  4.,  3.,  2.,  2.]),\n",
       " array([-1.        , -0.67000002, -0.34      , -0.01000001,  0.31999999,\n",
       "         0.64999998,  0.97999996,  1.30999994,  1.63999999,  1.96999991,\n",
       "         2.29999995]),\n",
       " <BarContainer object of 10 artists>)"
      ]
     },
     "execution_count": 27,
     "metadata": {},
     "output_type": "execute_result"
    },
    {
     "data": {
      "image/png": "[encoded data removed]",
      "text/plain": [
       "<Figure size 640x480 with 1 Axes>"
      ]
     },
     "metadata": {},
     "output_type": "display_data"
    }
   ],
   "source": [
    "plt.hist(t_delta)"
   ]
  },
  {
   "cell_type": "code",
   "execution_count": 18,
   "id": "be724b91",
   "metadata": {
    "ExecuteTime": {
     "end_time": "2023-03-10T07:33:10.444637Z",
     "start_time": "2023-03-10T07:33:10.437555Z"
    }
   },
   "outputs": [
    {
     "data": {
      "text/plain": [
       "32.439365"
      ]
     },
     "execution_count": 18,
     "metadata": {},
     "output_type": "execute_result"
    }
   ],
   "source": [
    "dists = np.array(dists)\n",
    "\n",
    "dists.mean()"
   ]
  },
  {
   "cell_type": "code",
   "execution_count": 19,
   "id": "d4e5c988",
   "metadata": {
    "ExecuteTime": {
     "end_time": "2023-03-10T07:33:10.670837Z",
     "start_time": "2023-03-10T07:33:10.447966Z"
    }
   },
   "outputs": [
    {
     "ename": "NameError",
     "evalue": "name 'times' is not defined",
     "output_type": "error",
     "traceback": [
      "\u001b[0;31m---------------------------------------------------------------------------\u001b[0m",
      "\u001b[0;31mNameError\u001b[0m                                 Traceback (most recent call last)",
      "Cell \u001b[0;32mIn[19], line 1\u001b[0m\n\u001b[0;32m----> 1\u001b[0m \u001b[43mtimes\u001b[49m\u001b[38;5;241m.\u001b[39mmean(), times\u001b[38;5;241m.\u001b[39mstd()\n",
      "\u001b[0;31mNameError\u001b[0m: name 'times' is not defined"
     ]
    }
   ],
   "source": [
    "times.mean(), times.std()"
   ]
  },
  {
   "cell_type": "code",
   "execution_count": null,
   "id": "0a13c19e",
   "metadata": {
    "ExecuteTime": {
     "end_time": "2023-03-10T07:33:10.674228Z",
     "start_time": "2023-03-10T07:33:10.674202Z"
    }
   },
   "outputs": [],
   "source": [
    "norm_dists = (dists - 0.5) / 0.5\n",
    "norm_dists"
   ]
  },
  {
   "cell_type": "code",
   "execution_count": null,
   "id": "c19ad05c",
   "metadata": {
    "ExecuteTime": {
     "end_time": "2023-03-10T07:33:10.676522Z",
     "start_time": "2023-03-10T07:33:10.676503Z"
    }
   },
   "outputs": [],
   "source": [
    "norm_times = (times - 0.1) / 0.1\n",
    "norm_times"
   ]
  },
  {
   "cell_type": "code",
   "execution_count": null,
   "id": "86b4f2e2",
   "metadata": {
    "ExecuteTime": {
     "end_time": "2023-03-10T07:33:10.678277Z",
     "start_time": "2023-03-10T07:33:10.678260Z"
    }
   },
   "outputs": [],
   "source": [
    "plt.hist(norm_dists)"
   ]
  },
  {
   "cell_type": "code",
   "execution_count": null,
   "id": "da7276f6",
   "metadata": {
    "ExecuteTime": {
     "end_time": "2023-03-10T07:33:10.680502Z",
     "start_time": "2023-03-10T07:33:10.680479Z"
    }
   },
   "outputs": [],
   "source": [
    "plt.hist(norm_times)"
   ]
  },
  {
   "cell_type": "code",
   "execution_count": null,
   "id": "7e76044b",
   "metadata": {
    "ExecuteTime": {
     "end_time": "2023-03-10T07:33:10.682948Z",
     "start_time": "2023-03-10T07:33:10.682911Z"
    }
   },
   "outputs": [],
   "source": [
    "t, indices = torch.sort(data.x[:, 3])  # Data objects no not preserve order\n",
    "data.x = data.x[indices]\n",
    "\n",
    "t_norm = 2 * (t - t.min()) / (t.max() - t.min()) - 1\n",
    "t_norm"
   ]
  },
  {
   "cell_type": "code",
   "execution_count": null,
   "id": "57f5ccee",
   "metadata": {
    "ExecuteTime": {
     "end_time": "2023-03-10T07:33:10.684979Z",
     "start_time": "2023-03-10T07:33:10.684958Z"
    }
   },
   "outputs": [],
   "source": [
    "charge = data.x[:, 4]\n",
    "cum_charge = torch.cumsum(10 ** (3 * charge), 0)\n",
    "\n",
    "\n",
    "charge_norm = 2 * (cum_charge - cum_charge.min()) / (cum_charge.max() - cum_charge.min()) - 1\n",
    "charge_norm"
   ]
  },
  {
   "cell_type": "code",
   "execution_count": null,
   "id": "04ba0d0b",
   "metadata": {
    "ExecuteTime": {
     "end_time": "2023-03-10T07:33:10.687025Z",
     "start_time": "2023-03-10T07:33:10.687005Z"
    }
   },
   "outputs": [],
   "source": [
    "charge"
   ]
  },
  {
   "cell_type": "code",
   "execution_count": null,
   "id": "0400b51e",
   "metadata": {
    "ExecuteTime": {
     "end_time": "2023-03-10T07:33:10.689261Z",
     "start_time": "2023-03-10T07:33:10.689229Z"
    }
   },
   "outputs": [],
   "source": [
    "plt.plot(t_norm.numpy())"
   ]
  },
  {
   "cell_type": "code",
   "execution_count": null,
   "id": "082a351d",
   "metadata": {
    "ExecuteTime": {
     "end_time": "2023-03-10T07:33:10.692414Z",
     "start_time": "2023-03-10T07:33:10.692394Z"
    }
   },
   "outputs": [],
   "source": [
    "plt.plot(charge_norm.numpy())"
   ]
  },
  {
   "cell_type": "code",
   "execution_count": null,
   "id": "48d5060a",
   "metadata": {},
   "outputs": [],
   "source": []
  },
  {
   "cell_type": "code",
   "execution_count": null,
   "id": "624881b0",
   "metadata": {},
   "outputs": [],
   "source": []
  }
 ],
 "metadata": {
  "kernelspec": {
   "display_name": "kaggle",
   "language": "python",
   "name": "kaggle"
  },
  "language_info": {
   "codemirror_mode": {
    "name": "ipython",
    "version": 3
   },
   "file_extension": ".py",
   "mimetype": "text/x-python",
   "name": "python",
   "nbconvert_exporter": "python",
   "pygments_lexer": "ipython3",
   "version": "3.10.6"
  }
 },
 "nbformat": 4,
 "nbformat_minor": 5
}
