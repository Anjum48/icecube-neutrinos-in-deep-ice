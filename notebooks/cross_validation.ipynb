{
 "cells": [
  {
   "cell_type": "code",
   "execution_count": 12,
   "id": "7c543fc0",
   "metadata": {
    "ExecuteTime": {
     "end_time": "2023-01-23T08:48:10.153565Z",
     "start_time": "2023-01-23T08:48:10.148648Z"
    }
   },
   "outputs": [],
   "source": [
    "import sys\n",
    "COMP_NAME = \"icecube-neutrinos-in-deep-ice\"\n",
    "sys.path.append(f\"/home/anjum/kaggle/{COMP_NAME}/\")\n",
    "\n",
    "import numpy as np\n",
    "import pandas as pd\n",
    "import matplotlib.pyplot as plt\n",
    "from sklearn.model_selection import StratifiedKFold\n",
    "\n",
    "from src.config import INPUT_PATH, OUTPUT_PATH"
   ]
  },
  {
   "cell_type": "code",
   "execution_count": 2,
   "id": "cdba52ad",
   "metadata": {
    "ExecuteTime": {
     "end_time": "2023-01-23T08:18:49.972493Z",
     "start_time": "2023-01-23T08:18:44.494562Z"
    }
   },
   "outputs": [
    {
     "data": {
      "text/plain": [
       "(131953924, 4)"
      ]
     },
     "execution_count": 2,
     "metadata": {},
     "output_type": "execute_result"
    }
   ],
   "source": [
    "_dtype = {\n",
    "    \"batch_id\": \"int16\",\n",
    "    \"event_id\": \"int64\",\n",
    "    \"first_pulse_index\": \"int32\",\n",
    "    \"last_pulse_index\": \"int32\",\n",
    "#     \"azimuth\": \"float32\",\n",
    "#     \"zenith\": \"float32\",\n",
    "}\n",
    "\n",
    "meta = pd.read_parquet(\n",
    "    INPUT_PATH / \"train_meta.parquet\",\n",
    "    columns=[\"batch_id\", \"event_id\", \"first_pulse_index\", \"last_pulse_index\"],\n",
    ").astype(_dtype)\n",
    "meta.shape"
   ]
  },
  {
   "cell_type": "code",
   "execution_count": 3,
   "id": "e8a63401",
   "metadata": {
    "ExecuteTime": {
     "end_time": "2023-01-23T08:18:50.249120Z",
     "start_time": "2023-01-23T08:18:49.975424Z"
    }
   },
   "outputs": [
    {
     "data": {
      "text/html": [
       "<div>\n",
       "<style scoped>\n",
       "    .dataframe tbody tr th:only-of-type {\n",
       "        vertical-align: middle;\n",
       "    }\n",
       "\n",
       "    .dataframe tbody tr th {\n",
       "        vertical-align: top;\n",
       "    }\n",
       "\n",
       "    .dataframe thead th {\n",
       "        text-align: right;\n",
       "    }\n",
       "</style>\n",
       "<table border=\"1\" class=\"dataframe\">\n",
       "  <thead>\n",
       "    <tr style=\"text-align: right;\">\n",
       "      <th></th>\n",
       "      <th>batch_id</th>\n",
       "      <th>event_id</th>\n",
       "      <th>first_pulse_index</th>\n",
       "      <th>last_pulse_index</th>\n",
       "      <th>n_pulses</th>\n",
       "    </tr>\n",
       "  </thead>\n",
       "  <tbody>\n",
       "    <tr>\n",
       "      <th>0</th>\n",
       "      <td>1</td>\n",
       "      <td>24</td>\n",
       "      <td>0</td>\n",
       "      <td>60</td>\n",
       "      <td>60</td>\n",
       "    </tr>\n",
       "    <tr>\n",
       "      <th>1</th>\n",
       "      <td>1</td>\n",
       "      <td>41</td>\n",
       "      <td>61</td>\n",
       "      <td>111</td>\n",
       "      <td>50</td>\n",
       "    </tr>\n",
       "    <tr>\n",
       "      <th>2</th>\n",
       "      <td>1</td>\n",
       "      <td>59</td>\n",
       "      <td>112</td>\n",
       "      <td>147</td>\n",
       "      <td>35</td>\n",
       "    </tr>\n",
       "    <tr>\n",
       "      <th>3</th>\n",
       "      <td>1</td>\n",
       "      <td>67</td>\n",
       "      <td>148</td>\n",
       "      <td>289</td>\n",
       "      <td>141</td>\n",
       "    </tr>\n",
       "    <tr>\n",
       "      <th>4</th>\n",
       "      <td>1</td>\n",
       "      <td>72</td>\n",
       "      <td>290</td>\n",
       "      <td>351</td>\n",
       "      <td>61</td>\n",
       "    </tr>\n",
       "  </tbody>\n",
       "</table>\n",
       "</div>"
      ],
      "text/plain": [
       "   batch_id  event_id  first_pulse_index  last_pulse_index  n_pulses\n",
       "0         1        24                  0                60        60\n",
       "1         1        41                 61               111        50\n",
       "2         1        59                112               147        35\n",
       "3         1        67                148               289       141\n",
       "4         1        72                290               351        61"
      ]
     },
     "execution_count": 3,
     "metadata": {},
     "output_type": "execute_result"
    }
   ],
   "source": [
    "meta[\"n_pulses\"] = meta[\"last_pulse_index\"] - meta[\"first_pulse_index\"]\n",
    "meta.head()"
   ]
  },
  {
   "cell_type": "code",
   "execution_count": 4,
   "id": "8198b723",
   "metadata": {
    "ExecuteTime": {
     "end_time": "2023-01-23T08:18:54.219919Z",
     "start_time": "2023-01-23T08:18:50.251360Z"
    }
   },
   "outputs": [
    {
     "data": {
      "image/png": "[encoded data removed]",
      "text/plain": [
       "<Figure size 640x480 with 1 Axes>"
      ]
     },
     "metadata": {},
     "output_type": "display_data"
    }
   ],
   "source": [
    "np.log10(meta[\"n_pulses\"]).hist(bins=100);"
   ]
  },
  {
   "cell_type": "code",
   "execution_count": 8,
   "id": "c6b81b09",
   "metadata": {
    "ExecuteTime": {
     "end_time": "2023-01-23T08:43:25.974627Z",
     "start_time": "2023-01-23T08:43:13.351471Z"
    }
   },
   "outputs": [
    {
     "data": {
      "text/plain": [
       "2    15116423\n",
       "0    14728439\n",
       "4    14278994\n",
       "7    13608356\n",
       "9    13145685\n",
       "5    12949389\n",
       "8    12755626\n",
       "6    11848669\n",
       "3    11792628\n",
       "1    11729715\n",
       "Name: bins, dtype: int64"
      ]
     },
     "execution_count": 8,
     "metadata": {},
     "output_type": "execute_result"
    }
   ],
   "source": [
    "meta[\"bins\"] = pd.qcut(np.log10(meta[\"n_pulses\"]), 10, labels=False)\n",
    "meta[\"bins\"].value_counts()"
   ]
  },
  {
   "cell_type": "code",
   "execution_count": 11,
   "id": "3ec0814c",
   "metadata": {
    "ExecuteTime": {
     "end_time": "2023-01-23T08:44:35.377772Z",
     "start_time": "2023-01-23T08:44:32.319188Z"
    }
   },
   "outputs": [
    {
     "data": {
      "text/html": [
       "<div>\n",
       "<style scoped>\n",
       "    .dataframe tbody tr th:only-of-type {\n",
       "        vertical-align: middle;\n",
       "    }\n",
       "\n",
       "    .dataframe tbody tr th {\n",
       "        vertical-align: top;\n",
       "    }\n",
       "\n",
       "    .dataframe thead th {\n",
       "        text-align: right;\n",
       "    }\n",
       "</style>\n",
       "<table border=\"1\" class=\"dataframe\">\n",
       "  <thead>\n",
       "    <tr style=\"text-align: right;\">\n",
       "      <th></th>\n",
       "      <th>batch_id</th>\n",
       "      <th>event_id</th>\n",
       "      <th>first_pulse_index</th>\n",
       "      <th>last_pulse_index</th>\n",
       "      <th>n_pulses</th>\n",
       "      <th>bins</th>\n",
       "    </tr>\n",
       "  </thead>\n",
       "  <tbody>\n",
       "    <tr>\n",
       "      <th>count</th>\n",
       "      <td>1.472844e+07</td>\n",
       "      <td>1.472844e+07</td>\n",
       "      <td>1.472844e+07</td>\n",
       "      <td>1.472844e+07</td>\n",
       "      <td>1.472844e+07</td>\n",
       "      <td>14728439.0</td>\n",
       "    </tr>\n",
       "    <tr>\n",
       "      <th>mean</th>\n",
       "      <td>3.304881e+02</td>\n",
       "      <td>1.074133e+09</td>\n",
       "      <td>1.643134e+07</td>\n",
       "      <td>1.643137e+07</td>\n",
       "      <td>3.459053e+01</td>\n",
       "      <td>0.0</td>\n",
       "    </tr>\n",
       "    <tr>\n",
       "      <th>std</th>\n",
       "      <td>1.904499e+02</td>\n",
       "      <td>6.199549e+08</td>\n",
       "      <td>9.505908e+06</td>\n",
       "      <td>9.505908e+06</td>\n",
       "      <td>3.791148e+00</td>\n",
       "      <td>0.0</td>\n",
       "    </tr>\n",
       "    <tr>\n",
       "      <th>min</th>\n",
       "      <td>1.000000e+00</td>\n",
       "      <td>5.900000e+01</td>\n",
       "      <td>0.000000e+00</td>\n",
       "      <td>2.700000e+01</td>\n",
       "      <td>4.000000e+00</td>\n",
       "      <td>0.0</td>\n",
       "    </tr>\n",
       "    <tr>\n",
       "      <th>25%</th>\n",
       "      <td>1.660000e+02</td>\n",
       "      <td>5.373846e+08</td>\n",
       "      <td>8.203042e+06</td>\n",
       "      <td>8.203078e+06</td>\n",
       "      <td>3.200000e+01</td>\n",
       "      <td>0.0</td>\n",
       "    </tr>\n",
       "    <tr>\n",
       "      <th>50%</th>\n",
       "      <td>3.310000e+02</td>\n",
       "      <td>1.074263e+09</td>\n",
       "      <td>1.641474e+07</td>\n",
       "      <td>1.641478e+07</td>\n",
       "      <td>3.500000e+01</td>\n",
       "      <td>0.0</td>\n",
       "    </tr>\n",
       "    <tr>\n",
       "      <th>75%</th>\n",
       "      <td>4.950000e+02</td>\n",
       "      <td>1.611023e+09</td>\n",
       "      <td>2.465016e+07</td>\n",
       "      <td>2.465019e+07</td>\n",
       "      <td>3.800000e+01</td>\n",
       "      <td>0.0</td>\n",
       "    </tr>\n",
       "    <tr>\n",
       "      <th>max</th>\n",
       "      <td>6.600000e+02</td>\n",
       "      <td>2.147484e+09</td>\n",
       "      <td>3.553526e+07</td>\n",
       "      <td>3.553530e+07</td>\n",
       "      <td>3.900000e+01</td>\n",
       "      <td>0.0</td>\n",
       "    </tr>\n",
       "  </tbody>\n",
       "</table>\n",
       "</div>"
      ],
      "text/plain": [
       "           batch_id      event_id  first_pulse_index  last_pulse_index  \\\n",
       "count  1.472844e+07  1.472844e+07       1.472844e+07      1.472844e+07   \n",
       "mean   3.304881e+02  1.074133e+09       1.643134e+07      1.643137e+07   \n",
       "std    1.904499e+02  6.199549e+08       9.505908e+06      9.505908e+06   \n",
       "min    1.000000e+00  5.900000e+01       0.000000e+00      2.700000e+01   \n",
       "25%    1.660000e+02  5.373846e+08       8.203042e+06      8.203078e+06   \n",
       "50%    3.310000e+02  1.074263e+09       1.641474e+07      1.641478e+07   \n",
       "75%    4.950000e+02  1.611023e+09       2.465016e+07      2.465019e+07   \n",
       "max    6.600000e+02  2.147484e+09       3.553526e+07      3.553530e+07   \n",
       "\n",
       "           n_pulses        bins  \n",
       "count  1.472844e+07  14728439.0  \n",
       "mean   3.459053e+01         0.0  \n",
       "std    3.791148e+00         0.0  \n",
       "min    4.000000e+00         0.0  \n",
       "25%    3.200000e+01         0.0  \n",
       "50%    3.500000e+01         0.0  \n",
       "75%    3.800000e+01         0.0  \n",
       "max    3.900000e+01         0.0  "
      ]
     },
     "execution_count": 11,
     "metadata": {},
     "output_type": "execute_result"
    }
   ],
   "source": [
    "meta[meta[\"bins\"] == 0].describe()"
   ]
  },
  {
   "cell_type": "code",
   "execution_count": 10,
   "id": "3b5acd28",
   "metadata": {
    "ExecuteTime": {
     "end_time": "2023-01-23T08:44:13.918330Z",
     "start_time": "2023-01-23T08:44:11.163227Z"
    }
   },
   "outputs": [
    {
     "data": {
      "text/html": [
       "<div>\n",
       "<style scoped>\n",
       "    .dataframe tbody tr th:only-of-type {\n",
       "        vertical-align: middle;\n",
       "    }\n",
       "\n",
       "    .dataframe tbody tr th {\n",
       "        vertical-align: top;\n",
       "    }\n",
       "\n",
       "    .dataframe thead th {\n",
       "        text-align: right;\n",
       "    }\n",
       "</style>\n",
       "<table border=\"1\" class=\"dataframe\">\n",
       "  <thead>\n",
       "    <tr style=\"text-align: right;\">\n",
       "      <th></th>\n",
       "      <th>batch_id</th>\n",
       "      <th>event_id</th>\n",
       "      <th>first_pulse_index</th>\n",
       "      <th>last_pulse_index</th>\n",
       "      <th>n_pulses</th>\n",
       "      <th>bins</th>\n",
       "    </tr>\n",
       "  </thead>\n",
       "  <tbody>\n",
       "    <tr>\n",
       "      <th>count</th>\n",
       "      <td>1.314568e+07</td>\n",
       "      <td>1.314568e+07</td>\n",
       "      <td>1.314568e+07</td>\n",
       "      <td>1.314568e+07</td>\n",
       "      <td>1.314568e+07</td>\n",
       "      <td>13145685.0</td>\n",
       "    </tr>\n",
       "    <tr>\n",
       "      <th>mean</th>\n",
       "      <td>3.303840e+02</td>\n",
       "      <td>1.073794e+09</td>\n",
       "      <td>1.643946e+07</td>\n",
       "      <td>1.644052e+07</td>\n",
       "      <td>1.058705e+03</td>\n",
       "      <td>9.0</td>\n",
       "    </tr>\n",
       "    <tr>\n",
       "      <th>std</th>\n",
       "      <td>1.904588e+02</td>\n",
       "      <td>6.199845e+08</td>\n",
       "      <td>9.506023e+06</td>\n",
       "      <td>9.506024e+06</td>\n",
       "      <td>4.829572e+03</td>\n",
       "      <td>0.0</td>\n",
       "    </tr>\n",
       "    <tr>\n",
       "      <th>min</th>\n",
       "      <td>1.000000e+00</td>\n",
       "      <td>7.900000e+01</td>\n",
       "      <td>0.000000e+00</td>\n",
       "      <td>1.450000e+02</td>\n",
       "      <td>1.440000e+02</td>\n",
       "      <td>9.0</td>\n",
       "    </tr>\n",
       "    <tr>\n",
       "      <th>25%</th>\n",
       "      <td>1.650000e+02</td>\n",
       "      <td>5.367608e+08</td>\n",
       "      <td>8.211235e+06</td>\n",
       "      <td>8.212285e+06</td>\n",
       "      <td>1.700000e+02</td>\n",
       "      <td>9.0</td>\n",
       "    </tr>\n",
       "    <tr>\n",
       "      <th>50%</th>\n",
       "      <td>3.300000e+02</td>\n",
       "      <td>1.074026e+09</td>\n",
       "      <td>1.642743e+07</td>\n",
       "      <td>1.642844e+07</td>\n",
       "      <td>2.210000e+02</td>\n",
       "      <td>9.0</td>\n",
       "    </tr>\n",
       "    <tr>\n",
       "      <th>75%</th>\n",
       "      <td>4.950000e+02</td>\n",
       "      <td>1.610717e+09</td>\n",
       "      <td>2.466004e+07</td>\n",
       "      <td>2.466108e+07</td>\n",
       "      <td>3.920000e+02</td>\n",
       "      <td>9.0</td>\n",
       "    </tr>\n",
       "    <tr>\n",
       "      <th>max</th>\n",
       "      <td>6.600000e+02</td>\n",
       "      <td>2.147483e+09</td>\n",
       "      <td>3.553503e+07</td>\n",
       "      <td>3.553517e+07</td>\n",
       "      <td>1.782490e+05</td>\n",
       "      <td>9.0</td>\n",
       "    </tr>\n",
       "  </tbody>\n",
       "</table>\n",
       "</div>"
      ],
      "text/plain": [
       "           batch_id      event_id  first_pulse_index  last_pulse_index  \\\n",
       "count  1.314568e+07  1.314568e+07       1.314568e+07      1.314568e+07   \n",
       "mean   3.303840e+02  1.073794e+09       1.643946e+07      1.644052e+07   \n",
       "std    1.904588e+02  6.199845e+08       9.506023e+06      9.506024e+06   \n",
       "min    1.000000e+00  7.900000e+01       0.000000e+00      1.450000e+02   \n",
       "25%    1.650000e+02  5.367608e+08       8.211235e+06      8.212285e+06   \n",
       "50%    3.300000e+02  1.074026e+09       1.642743e+07      1.642844e+07   \n",
       "75%    4.950000e+02  1.610717e+09       2.466004e+07      2.466108e+07   \n",
       "max    6.600000e+02  2.147483e+09       3.553503e+07      3.553517e+07   \n",
       "\n",
       "           n_pulses        bins  \n",
       "count  1.314568e+07  13145685.0  \n",
       "mean   1.058705e+03         9.0  \n",
       "std    4.829572e+03         0.0  \n",
       "min    1.440000e+02         9.0  \n",
       "25%    1.700000e+02         9.0  \n",
       "50%    2.210000e+02         9.0  \n",
       "75%    3.920000e+02         9.0  \n",
       "max    1.782490e+05         9.0  "
      ]
     },
     "execution_count": 10,
     "metadata": {},
     "output_type": "execute_result"
    }
   ],
   "source": [
    "meta[meta[\"bins\"] == 9].describe()"
   ]
  },
  {
   "cell_type": "code",
   "execution_count": 13,
   "id": "e8c30119",
   "metadata": {
    "ExecuteTime": {
     "end_time": "2023-01-23T08:52:56.806460Z",
     "start_time": "2023-01-23T08:51:42.688726Z"
    }
   },
   "outputs": [],
   "source": [
    "skf = StratifiedKFold(n_splits=5, shuffle=True, random_state=48)\n",
    "meta[\"fold\"] = 0\n",
    "\n",
    "for i, (train_index, test_index) in enumerate(skf.split(meta[\"event_id\"], meta[\"bins\"])):\n",
    "    meta.loc[test_index, \"fold\"] = i"
   ]
  },
  {
   "cell_type": "code",
   "execution_count": 14,
   "id": "86d2b31a",
   "metadata": {
    "ExecuteTime": {
     "end_time": "2023-01-23T08:52:57.398762Z",
     "start_time": "2023-01-23T08:52:56.809619Z"
    }
   },
   "outputs": [
    {
     "data": {
      "text/plain": [
       "2    26390785\n",
       "0    26390785\n",
       "3    26390785\n",
       "1    26390785\n",
       "4    26390784\n",
       "Name: fold, dtype: int64"
      ]
     },
     "execution_count": 14,
     "metadata": {},
     "output_type": "execute_result"
    }
   ],
   "source": [
    "meta[\"fold\"].value_counts()"
   ]
  },
  {
   "cell_type": "code",
   "execution_count": 16,
   "id": "8e0532e5",
   "metadata": {
    "ExecuteTime": {
     "end_time": "2023-01-23T08:54:29.426511Z",
     "start_time": "2023-01-23T08:54:29.415871Z"
    }
   },
   "outputs": [
    {
     "data": {
      "text/html": [
       "<div>\n",
       "<style scoped>\n",
       "    .dataframe tbody tr th:only-of-type {\n",
       "        vertical-align: middle;\n",
       "    }\n",
       "\n",
       "    .dataframe tbody tr th {\n",
       "        vertical-align: top;\n",
       "    }\n",
       "\n",
       "    .dataframe thead th {\n",
       "        text-align: right;\n",
       "    }\n",
       "</style>\n",
       "<table border=\"1\" class=\"dataframe\">\n",
       "  <thead>\n",
       "    <tr style=\"text-align: right;\">\n",
       "      <th></th>\n",
       "      <th>batch_id</th>\n",
       "      <th>event_id</th>\n",
       "      <th>first_pulse_index</th>\n",
       "      <th>last_pulse_index</th>\n",
       "      <th>n_pulses</th>\n",
       "      <th>bins</th>\n",
       "      <th>fold</th>\n",
       "    </tr>\n",
       "  </thead>\n",
       "  <tbody>\n",
       "    <tr>\n",
       "      <th>0</th>\n",
       "      <td>1</td>\n",
       "      <td>24</td>\n",
       "      <td>0</td>\n",
       "      <td>60</td>\n",
       "      <td>60</td>\n",
       "      <td>4</td>\n",
       "      <td>2</td>\n",
       "    </tr>\n",
       "    <tr>\n",
       "      <th>1</th>\n",
       "      <td>1</td>\n",
       "      <td>41</td>\n",
       "      <td>61</td>\n",
       "      <td>111</td>\n",
       "      <td>50</td>\n",
       "      <td>2</td>\n",
       "      <td>0</td>\n",
       "    </tr>\n",
       "    <tr>\n",
       "      <th>2</th>\n",
       "      <td>1</td>\n",
       "      <td>59</td>\n",
       "      <td>112</td>\n",
       "      <td>147</td>\n",
       "      <td>35</td>\n",
       "      <td>0</td>\n",
       "      <td>4</td>\n",
       "    </tr>\n",
       "    <tr>\n",
       "      <th>3</th>\n",
       "      <td>1</td>\n",
       "      <td>67</td>\n",
       "      <td>148</td>\n",
       "      <td>289</td>\n",
       "      <td>141</td>\n",
       "      <td>8</td>\n",
       "      <td>3</td>\n",
       "    </tr>\n",
       "    <tr>\n",
       "      <th>4</th>\n",
       "      <td>1</td>\n",
       "      <td>72</td>\n",
       "      <td>290</td>\n",
       "      <td>351</td>\n",
       "      <td>61</td>\n",
       "      <td>4</td>\n",
       "      <td>1</td>\n",
       "    </tr>\n",
       "  </tbody>\n",
       "</table>\n",
       "</div>"
      ],
      "text/plain": [
       "   batch_id  event_id  first_pulse_index  last_pulse_index  n_pulses  bins  \\\n",
       "0         1        24                  0                60        60     4   \n",
       "1         1        41                 61               111        50     2   \n",
       "2         1        59                112               147        35     0   \n",
       "3         1        67                148               289       141     8   \n",
       "4         1        72                290               351        61     4   \n",
       "\n",
       "   fold  \n",
       "0     2  \n",
       "1     0  \n",
       "2     4  \n",
       "3     3  \n",
       "4     1  "
      ]
     },
     "execution_count": 16,
     "metadata": {},
     "output_type": "execute_result"
    }
   ],
   "source": [
    "meta.head()"
   ]
  },
  {
   "cell_type": "code",
   "execution_count": 18,
   "id": "d56b0d02",
   "metadata": {
    "ExecuteTime": {
     "end_time": "2023-01-23T08:55:17.504297Z",
     "start_time": "2023-01-23T08:54:58.251123Z"
    }
   },
   "outputs": [],
   "source": [
    "meta[[\"batch_id\", \"event_id\", \"fold\"]].to_parquet(INPUT_PATH / \"folds.parquet\")"
   ]
  },
  {
   "cell_type": "code",
   "execution_count": null,
   "id": "78797ef6",
   "metadata": {},
   "outputs": [],
   "source": []
  }
 ],
 "metadata": {
  "kernelspec": {
   "display_name": "kaggle",
   "language": "python",
   "name": "kaggle"
  },
  "language_info": {
   "codemirror_mode": {
    "name": "ipython",
    "version": 3
   },
   "file_extension": ".py",
   "mimetype": "text/x-python",
   "name": "python",
   "nbconvert_exporter": "python",
   "pygments_lexer": "ipython3",
   "version": "3.10.8"
  },
  "toc": {
   "base_numbering": 1,
   "nav_menu": {},
   "number_sections": true,
   "sideBar": true,
   "skip_h1_title": false,
   "title_cell": "Table of Contents",
   "title_sidebar": "Contents",
   "toc_cell": false,
   "toc_position": {},
   "toc_section_display": true,
   "toc_window_display": false
  }
 },
 "nbformat": 4,
 "nbformat_minor": 5
}
