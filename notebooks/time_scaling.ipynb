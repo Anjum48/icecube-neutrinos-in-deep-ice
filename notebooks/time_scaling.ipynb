{
 "cells": [
  {
   "cell_type": "code",
   "execution_count": 1,
   "id": "efa9bb49",
   "metadata": {
    "ExecuteTime": {
     "end_time": "2023-03-30T19:21:42.646157Z",
     "start_time": "2023-03-30T19:21:41.646770Z"
    }
   },
   "outputs": [],
   "source": [
    "import sys\n",
    "COMP_NAME = \"icecube-neutrinos-in-deep-ice\"\n",
    "sys.path.append(f\"/home/anjum/kaggle/{COMP_NAME}/\")\n",
    "\n",
    "import numpy as np\n",
    "import pandas as pd\n",
    "import matplotlib.pyplot as plt\n",
    "\n",
    "pd.set_option('display.float_format', lambda x: '%.5f' % x)\n",
    "\n",
    "from src.config import INPUT_PATH, OUTPUT_PATH"
   ]
  },
  {
   "cell_type": "code",
   "execution_count": 2,
   "id": "c027ea5d",
   "metadata": {
    "ExecuteTime": {
     "end_time": "2023-03-30T19:21:42.676948Z",
     "start_time": "2023-03-30T19:21:42.648269Z"
    }
   },
   "outputs": [
    {
     "data": {
      "text/html": [
       "<div>\n",
       "<style scoped>\n",
       "    .dataframe tbody tr th:only-of-type {\n",
       "        vertical-align: middle;\n",
       "    }\n",
       "\n",
       "    .dataframe tbody tr th {\n",
       "        vertical-align: top;\n",
       "    }\n",
       "\n",
       "    .dataframe thead th {\n",
       "        text-align: right;\n",
       "    }\n",
       "</style>\n",
       "<table border=\"1\" class=\"dataframe\">\n",
       "  <thead>\n",
       "    <tr style=\"text-align: right;\">\n",
       "      <th></th>\n",
       "      <th>sensor_id</th>\n",
       "      <th>x</th>\n",
       "      <th>y</th>\n",
       "      <th>z</th>\n",
       "    </tr>\n",
       "  </thead>\n",
       "  <tbody>\n",
       "    <tr>\n",
       "      <th>count</th>\n",
       "      <td>5160.00000</td>\n",
       "      <td>5160.00000</td>\n",
       "      <td>5160.00000</td>\n",
       "      <td>5160.00000</td>\n",
       "    </tr>\n",
       "    <tr>\n",
       "      <th>mean</th>\n",
       "      <td>2579.50000</td>\n",
       "      <td>0.01174</td>\n",
       "      <td>-0.00504</td>\n",
       "      <td>-0.04781</td>\n",
       "    </tr>\n",
       "    <tr>\n",
       "      <th>std</th>\n",
       "      <td>1489.70803</td>\n",
       "      <td>0.57030</td>\n",
       "      <td>0.53882</td>\n",
       "      <td>0.59291</td>\n",
       "    </tr>\n",
       "    <tr>\n",
       "      <th>min</th>\n",
       "      <td>0.00000</td>\n",
       "      <td>-1.14180</td>\n",
       "      <td>-1.04216</td>\n",
       "      <td>-1.02564</td>\n",
       "    </tr>\n",
       "    <tr>\n",
       "      <th>25%</th>\n",
       "      <td>1289.75000</td>\n",
       "      <td>-0.44818</td>\n",
       "      <td>-0.41814</td>\n",
       "      <td>-0.56640</td>\n",
       "    </tr>\n",
       "    <tr>\n",
       "      <th>50%</th>\n",
       "      <td>2579.50000</td>\n",
       "      <td>0.03398</td>\n",
       "      <td>-0.01211</td>\n",
       "      <td>-0.07023</td>\n",
       "    </tr>\n",
       "    <tr>\n",
       "      <th>75%</th>\n",
       "      <td>3869.25000</td>\n",
       "      <td>0.44916</td>\n",
       "      <td>0.42332</td>\n",
       "      <td>0.45711</td>\n",
       "    </tr>\n",
       "    <tr>\n",
       "      <th>max</th>\n",
       "      <td>5159.00000</td>\n",
       "      <td>1.15274</td>\n",
       "      <td>1.01900</td>\n",
       "      <td>1.04912</td>\n",
       "    </tr>\n",
       "  </tbody>\n",
       "</table>\n",
       "</div>"
      ],
      "text/plain": [
       "       sensor_id          x          y          z\n",
       "count 5160.00000 5160.00000 5160.00000 5160.00000\n",
       "mean  2579.50000    0.01174   -0.00504   -0.04781\n",
       "std   1489.70803    0.57030    0.53882    0.59291\n",
       "min      0.00000   -1.14180   -1.04216   -1.02564\n",
       "25%   1289.75000   -0.44818   -0.41814   -0.56640\n",
       "50%   2579.50000    0.03398   -0.01211   -0.07023\n",
       "75%   3869.25000    0.44916    0.42332    0.45711\n",
       "max   5159.00000    1.15274    1.01900    1.04912"
      ]
     },
     "execution_count": 2,
     "metadata": {},
     "output_type": "execute_result"
    }
   ],
   "source": [
    "sensors = pd.read_csv(INPUT_PATH / \"sensor_geometry.csv\")\n",
    "sensors[[\"x\", \"y\", \"z\"]] /= 500\n",
    "sensors.describe()"
   ]
  },
  {
   "cell_type": "code",
   "execution_count": 3,
   "id": "05f47238",
   "metadata": {
    "ExecuteTime": {
     "end_time": "2023-03-30T19:21:43.714243Z",
     "start_time": "2023-03-30T19:21:42.681278Z"
    }
   },
   "outputs": [],
   "source": [
    "batch = pd.read_parquet(INPUT_PATH / \"train\" / \"batch_2.parquet\")"
   ]
  },
  {
   "cell_type": "code",
   "execution_count": 4,
   "id": "97235633",
   "metadata": {
    "ExecuteTime": {
     "end_time": "2023-03-30T19:21:50.082641Z",
     "start_time": "2023-03-30T19:21:43.717915Z"
    }
   },
   "outputs": [
    {
     "data": {
      "text/plain": [
       "count   31948000.00000\n",
       "mean       12908.65021\n",
       "std         4384.76812\n",
       "min         5712.00000\n",
       "25%        10545.00000\n",
       "50%        11760.00000\n",
       "75%        13764.00000\n",
       "max        84577.00000\n",
       "Name: time, dtype: float64"
      ]
     },
     "execution_count": 4,
     "metadata": {},
     "output_type": "execute_result"
    }
   ],
   "source": [
    "batch[\"time\"].describe()"
   ]
  },
  {
   "cell_type": "code",
   "execution_count": 9,
   "id": "84e0c289",
   "metadata": {
    "ExecuteTime": {
     "end_time": "2023-03-30T19:22:29.197659Z",
     "start_time": "2023-03-30T19:22:15.937028Z"
    }
   },
   "outputs": [
    {
     "name": "stdout",
     "output_type": "stream",
     "text": [
      "count   31948000.00000\n",
      "mean           0.14782\n",
      "std            0.58464\n",
      "min           -0.81173\n",
      "25%           -0.16733\n",
      "50%           -0.00533\n",
      "75%            0.26187\n",
      "max            9.70360\n",
      "Name: time, dtype: float64\n"
     ]
    },
    {
     "data": {
      "text/plain": [
       "<AxesSubplot: >"
      ]
     },
     "execution_count": 9,
     "metadata": {},
     "output_type": "execute_result"
    },
    {
     "data": {
      "image/png": "[encoded data removed]",
      "text/plain": [
       "<Figure size 640x480 with 1 Axes>"
      ]
     },
     "metadata": {},
     "output_type": "display_data"
    }
   ],
   "source": [
    "time_norm2 = ((batch[\"time\"] - 1e4) / 3e4)\n",
    "\n",
    "time_norm2 -= 0.06\n",
    "time_norm2 *= 4\n",
    "\n",
    "print(time_norm2.round(5).describe())     \n",
    "time_norm2.hist(bins=100)"
   ]
  },
  {
   "cell_type": "code",
   "execution_count": 10,
   "id": "9a2f53ac",
   "metadata": {
    "ExecuteTime": {
     "end_time": "2023-03-30T19:22:29.204819Z",
     "start_time": "2023-03-30T19:22:29.200947Z"
    }
   },
   "outputs": [],
   "source": [
    "# ((np.log10(batch[\"time\"]) - 4.0) * 2).hist(bins=100)"
   ]
  },
  {
   "cell_type": "code",
   "execution_count": 11,
   "id": "2f9803e1",
   "metadata": {
    "ExecuteTime": {
     "end_time": "2023-03-30T19:22:29.220935Z",
     "start_time": "2023-03-30T19:22:29.208323Z"
    }
   },
   "outputs": [],
   "source": [
    "# ((np.log(batch[\"time\"]) - 9.2)).hist(bins=100)"
   ]
  },
  {
   "cell_type": "code",
   "execution_count": 12,
   "id": "7e8e4cba",
   "metadata": {
    "ExecuteTime": {
     "end_time": "2023-03-30T19:22:37.227887Z",
     "start_time": "2023-03-30T19:22:29.224608Z"
    }
   },
   "outputs": [
    {
     "data": {
      "text/plain": [
       "(11760.0, 3219.0)"
      ]
     },
     "execution_count": 12,
     "metadata": {},
     "output_type": "execute_result"
    }
   ],
   "source": [
    "batch[\"time\"].median(), batch[\"time\"].quantile(0.75) - batch[\"time\"].quantile(0.25)"
   ]
  },
  {
   "cell_type": "code",
   "execution_count": 13,
   "id": "4162e2c6",
   "metadata": {
    "ExecuteTime": {
     "end_time": "2023-03-30T19:22:41.953539Z",
     "start_time": "2023-03-30T19:22:37.230413Z"
    }
   },
   "outputs": [
    {
     "data": {
      "text/plain": [
       "<AxesSubplot: >"
      ]
     },
     "execution_count": 13,
     "metadata": {},
     "output_type": "execute_result"
    },
    {
     "data": {
      "image/png": "[encoded data removed]",
      "text/plain": [
       "<Figure size 640x480 with 1 Axes>"
      ]
     },
     "metadata": {},
     "output_type": "display_data"
    }
   ],
   "source": [
    "time_norm3 = (batch[\"time\"] - 1e4) / 3e4  # GraphNet scaling https://github.com/graphnet-team/graphnet/blob/4df8f396400da3cfca4ff1e0593a0c7d1b5b5195/src/graphnet/models/detector/icecube.py#L68\n",
    "time_norm3 *= 10      \n",
    "time_norm3.hist(bins=100)"
   ]
  },
  {
   "cell_type": "code",
   "execution_count": 14,
   "id": "1e8aac74",
   "metadata": {
    "ExecuteTime": {
     "end_time": "2023-03-30T19:22:47.454997Z",
     "start_time": "2023-03-30T19:22:41.956436Z"
    }
   },
   "outputs": [
    {
     "data": {
      "text/plain": [
       "count   31948000.00000\n",
       "mean           0.96955\n",
       "std            1.46159\n",
       "min           -1.42933\n",
       "25%            0.18167\n",
       "50%            0.58667\n",
       "75%            1.25467\n",
       "max           24.85900\n",
       "Name: time, dtype: float64"
      ]
     },
     "execution_count": 14,
     "metadata": {},
     "output_type": "execute_result"
    }
   ],
   "source": [
    "time_norm3.describe()"
   ]
  },
  {
   "cell_type": "code",
   "execution_count": null,
   "id": "f098fd74",
   "metadata": {},
   "outputs": [],
   "source": []
  }
 ],
 "metadata": {
  "kernelspec": {
   "display_name": "kaggle",
   "language": "python",
   "name": "kaggle"
  },
  "language_info": {
   "codemirror_mode": {
    "name": "ipython",
    "version": 3
   },
   "file_extension": ".py",
   "mimetype": "text/x-python",
   "name": "python",
   "nbconvert_exporter": "python",
   "pygments_lexer": "ipython3",
   "version": "3.10.6"
  },
  "toc": {
   "base_numbering": 1,
   "nav_menu": {},
   "number_sections": true,
   "sideBar": true,
   "skip_h1_title": false,
   "title_cell": "Table of Contents",
   "title_sidebar": "Contents",
   "toc_cell": false,
   "toc_position": {},
   "toc_section_display": true,
   "toc_window_display": false
  }
 },
 "nbformat": 4,
 "nbformat_minor": 5
}
