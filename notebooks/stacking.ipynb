{
 "cells": [
  {
   "cell_type": "code",
   "execution_count": 1,
   "id": "f53d59ff",
   "metadata": {
    "ExecuteTime": {
     "end_time": "2023-04-12T07:58:28.329477Z",
     "start_time": "2023-04-12T07:58:27.563684Z"
    }
   },
   "outputs": [],
   "source": [
    "import pandas as pd\n",
    "import numpy as np\n",
    "from scipy.optimize import minimize"
   ]
  },
  {
   "cell_type": "code",
   "execution_count": 2,
   "id": "6e803265",
   "metadata": {
    "ExecuteTime": {
     "end_time": "2023-04-12T07:58:28.335304Z",
     "start_time": "2023-04-12T07:58:28.332118Z"
    }
   },
   "outputs": [],
   "source": [
    "oofs = [\n",
    "    \"/mnt/storage_dimm2/kaggle_output/icecube-neutrinos-in-deep-ice/20230323-102724/DynEdge/fold_0/oofs.parquet\",\n",
    "    \"/mnt/storage_dimm2/kaggle_output/icecube-neutrinos-in-deep-ice/20230409-080525/DynEdge/fold_0/oofs.parquet\",\n",
    "    \"/mnt/storage_dimm2/kaggle_output/icecube-neutrinos-in-deep-ice/20230405-063040/GPS/fold_0/oofs.parquet\",\n",
    "]"
   ]
  },
  {
   "cell_type": "code",
   "execution_count": 3,
   "id": "d8a998f7",
   "metadata": {
    "ExecuteTime": {
     "end_time": "2023-04-12T07:58:28.347581Z",
     "start_time": "2023-04-12T07:58:28.339155Z"
    }
   },
   "outputs": [],
   "source": [
    "def angular_dist_score_numpy(az_true, zen_true, az_pred, zen_pred):\n",
    "    \"\"\"\n",
    "    calculate the MAE of the angular distance between two directions.\n",
    "    The two vectors are first converted to cartesian unit vectors,\n",
    "    and then their scalar product is computed, which is equal to\n",
    "    the cosine of the angle between the two vectors. The inverse\n",
    "    cosine (arccos) thereof is then the angle between the two input vectors\n",
    "\n",
    "    Parameters:\n",
    "    -----------\n",
    "\n",
    "    az_true : float (or array thereof)\n",
    "        true azimuth value(s) in radian\n",
    "    zen_true : float (or array thereof)\n",
    "        true zenith value(s) in radian\n",
    "    az_pred : float (or array thereof)\n",
    "        predicted azimuth value(s) in radian\n",
    "    zen_pred : float (or array thereof)\n",
    "        predicted zenith value(s) in radian\n",
    "\n",
    "    Returns:\n",
    "    --------\n",
    "\n",
    "    dist : float\n",
    "        mean over the angular distance(s) in radian\n",
    "    \"\"\"\n",
    "\n",
    "    if not (\n",
    "        np.all(np.isfinite(az_true))\n",
    "        and np.all(np.isfinite(zen_true))\n",
    "        and np.all(np.isfinite(az_pred))\n",
    "        and np.all(np.isfinite(zen_pred))\n",
    "    ):\n",
    "        raise ValueError(\"All arguments must be finite\")\n",
    "\n",
    "    # pre-compute all sine and cosine values\n",
    "    sa1 = np.sin(az_true)\n",
    "    ca1 = np.cos(az_true)\n",
    "    sz1 = np.sin(zen_true)\n",
    "    cz1 = np.cos(zen_true)\n",
    "\n",
    "    sa2 = np.sin(az_pred)\n",
    "    ca2 = np.cos(az_pred)\n",
    "    sz2 = np.sin(zen_pred)\n",
    "    cz2 = np.cos(zen_pred)\n",
    "\n",
    "    # scalar product of the two cartesian vectors (x = sz*ca, y = sz*sa, z = cz)\n",
    "    scalar_prod = sz1 * sz2 * (ca1 * ca2 + sa1 * sa2) + (cz1 * cz2)\n",
    "\n",
    "    # scalar product of two unit vectors is always between -1 and 1, this is against nummerical instability\n",
    "    # that might otherwise occure from the finite precision of the sine and cosine functions\n",
    "    scalar_prod = np.clip(scalar_prod, -1, 1)\n",
    "\n",
    "    # convert back to an angle (in radian)\n",
    "    return np.average(np.abs(np.arccos(scalar_prod)))"
   ]
  },
  {
   "cell_type": "code",
   "execution_count": 4,
   "id": "9dbe704e",
   "metadata": {
    "ExecuteTime": {
     "end_time": "2023-04-12T07:58:28.497414Z",
     "start_time": "2023-04-12T07:58:28.349662Z"
    }
   },
   "outputs": [],
   "source": [
    "azi, zen = {}, {}\n",
    "\n",
    "for i, oof in enumerate(oofs):\n",
    "    df = pd.read_parquet(oof)\n",
    "    \n",
    "    azi[f\"model_{i}\"] = df[\"azimuth\"]\n",
    "    zen[f\"model_{i}\"] = df[\"zenith\"]\n",
    "    \n",
    "\n",
    "azi = pd.DataFrame(azi).values\n",
    "zen = pd.DataFrame(zen).values\n",
    "gt = df[[\"azimuth_gt\", \"zenith_gt\"]]"
   ]
  },
  {
   "cell_type": "code",
   "execution_count": 5,
   "id": "bd697a93",
   "metadata": {
    "ExecuteTime": {
     "end_time": "2023-04-12T07:58:28.504904Z",
     "start_time": "2023-04-12T07:58:28.499441Z"
    }
   },
   "outputs": [],
   "source": [
    "def stack(azi, zen, weights=None):\n",
    "    \n",
    "    if weights is None:\n",
    "        dim = azi.shape[1]\n",
    "        weights = np.ones(dim) / dim\n",
    "        \n",
    "    azi_sin = (weights * np.sin(azi)).sum(1)\n",
    "    azi_cos = (weights * np.cos(azi)).sum(1)\n",
    "    \n",
    "    azi_final = np.arctan2(azi_sin, azi_cos)\n",
    "    zen_final = (weights * zen).sum(1)\n",
    "    \n",
    "    return azi_final, zen_final\n",
    "\n",
    "\n",
    "# Independent weights for azi & zen\n",
    "def stack_v2(azi, zen, weights=None):\n",
    "    \n",
    "    dim = azi.shape[1]\n",
    "    \n",
    "    if weights is None:\n",
    "        weights = np.ones(dim) / dim\n",
    "        weights = np.concatenate([weights, weights])\n",
    "        \n",
    "    weights_a = weights[:dim]\n",
    "    weights_z = weights[dim:]\n",
    "        \n",
    "    azi_sin = (weights_a * np.sin(azi)).sum(1)\n",
    "    azi_cos = (weights_a * np.cos(azi)).sum(1)\n",
    "    \n",
    "    azi_final = np.arctan2(azi_sin, azi_cos)\n",
    "    zen_final = (weights_z * zen).sum(1)\n",
    "    \n",
    "    return azi_final, zen_final"
   ]
  },
  {
   "cell_type": "code",
   "execution_count": 6,
   "id": "773bb2e2",
   "metadata": {
    "ExecuteTime": {
     "end_time": "2023-04-12T07:58:28.510297Z",
     "start_time": "2023-04-12T07:58:28.506975Z"
    }
   },
   "outputs": [],
   "source": [
    "def scorer(weights=None, v2=False):\n",
    "    if v2:\n",
    "        azi_final, zen_final = stack_v2(azi, zen, weights)\n",
    "    else:\n",
    "        azi_final, zen_final = stack(azi, zen, weights)\n",
    "    return angular_dist_score_numpy(gt[\"azimuth_gt\"], gt[\"zenith_gt\"], azi_final, zen_final)"
   ]
  },
  {
   "cell_type": "code",
   "execution_count": 7,
   "id": "903cc45f",
   "metadata": {
    "ExecuteTime": {
     "end_time": "2023-04-12T07:58:29.376949Z",
     "start_time": "2023-04-12T07:58:28.512186Z"
    }
   },
   "outputs": [
    {
     "data": {
      "text/plain": [
       "0.9832772158461447"
      ]
     },
     "execution_count": 7,
     "metadata": {},
     "output_type": "execute_result"
    }
   ],
   "source": [
    "scorer()"
   ]
  },
  {
   "cell_type": "code",
   "execution_count": 8,
   "id": "43c9d75f",
   "metadata": {
    "ExecuteTime": {
     "end_time": "2023-04-12T07:58:30.108296Z",
     "start_time": "2023-04-12T07:58:29.379031Z"
    }
   },
   "outputs": [
    {
     "data": {
      "text/plain": [
       "0.9832772158461447"
      ]
     },
     "execution_count": 8,
     "metadata": {},
     "output_type": "execute_result"
    }
   ],
   "source": [
    "scorer(v2=True)"
   ]
  },
  {
   "cell_type": "code",
   "execution_count": 9,
   "id": "cb4b2cfd",
   "metadata": {
    "ExecuteTime": {
     "end_time": "2023-04-12T07:58:30.114088Z",
     "start_time": "2023-04-12T07:58:30.111758Z"
    }
   },
   "outputs": [],
   "source": [
    "dim = len(oofs)\n",
    "weights = np.ones(dim) / dim"
   ]
  },
  {
   "cell_type": "code",
   "execution_count": 10,
   "id": "f975915c",
   "metadata": {
    "ExecuteTime": {
     "end_time": "2023-04-12T08:00:01.755165Z",
     "start_time": "2023-04-12T07:58:30.115669Z"
    }
   },
   "outputs": [
    {
     "data": {
      "text/plain": [
       "      fun: 0.9830387844521334\n",
       " hess_inv: array([[ 0.0057585 ,  0.01026726,  0.00094249],\n",
       "       [ 0.01026726,  0.03273609, -0.00214129],\n",
       "       [ 0.00094249, -0.00214129,  0.00116897]])\n",
       "      jac: array([-0.0014438 ,  0.00131305,  0.00503559])\n",
       "  message: 'Desired error not necessarily achieved due to precision loss.'\n",
       "     nfev: 364\n",
       "      nit: 27\n",
       "     njev: 88\n",
       "   status: 2\n",
       "  success: False\n",
       "        x: array([0.44303154, 0.29891726, 0.25539217])"
      ]
     },
     "execution_count": 10,
     "metadata": {},
     "output_type": "execute_result"
    }
   ],
   "source": [
    "minimize(scorer, weights)"
   ]
  },
  {
   "cell_type": "code",
   "execution_count": 11,
   "id": "0018ac37",
   "metadata": {
    "ExecuteTime": {
     "end_time": "2023-04-12T08:01:15.784214Z",
     "start_time": "2023-04-12T08:00:01.757209Z"
    }
   },
   "outputs": [
    {
     "data": {
      "text/plain": [
       "      fun: 0.983015440620221\n",
       " hess_inv: array([[  3.82926418,  -0.14212013,  -1.00748414,  12.00131169,\n",
       "         -6.05945958,  -5.96633318],\n",
       "       [ -0.14212013,   3.07382121,   0.18793389,   8.63632281,\n",
       "         -2.7867009 ,  -5.88012781],\n",
       "       [ -1.00748414,   0.18793389,   1.55727577,  -1.85556015,\n",
       "         -2.13665998,   4.01635516],\n",
       "       [ 12.00131169,   8.63632281,  -1.85556015, 109.76540464,\n",
       "        -77.97046415, -31.8965659 ],\n",
       "       [ -6.05945958,  -2.7867009 ,  -2.13665998, -77.97046415,\n",
       "        103.50286258, -25.58937244],\n",
       "       [ -5.96633318,  -5.88012781,   4.01635516, -31.8965659 ,\n",
       "        -25.58937244,  57.7024627 ]])\n",
       "      jac: array([ 5.21540642e-07,  2.05636024e-06, -2.67475843e-06,  1.26659870e-06,\n",
       "        1.33365393e-06,  1.75088644e-06])\n",
       "  message: 'Optimization terminated successfully.'\n",
       "     nfev: 287\n",
       "      nit: 33\n",
       "     njev: 41\n",
       "   status: 0\n",
       "  success: True\n",
       "        x: array([0.44820087, 0.25852994, 0.28477468, 0.50602103, 0.25648293,\n",
       "       0.23482001])"
      ]
     },
     "execution_count": 11,
     "metadata": {},
     "output_type": "execute_result"
    }
   ],
   "source": [
    "minimize(scorer, np.concatenate([weights, weights]), args=(True,))"
   ]
  },
  {
   "cell_type": "code",
   "execution_count": null,
   "id": "3a150910",
   "metadata": {},
   "outputs": [],
   "source": []
  }
 ],
 "metadata": {
  "kernelspec": {
   "display_name": "kaggle",
   "language": "python",
   "name": "kaggle"
  },
  "language_info": {
   "codemirror_mode": {
    "name": "ipython",
    "version": 3
   },
   "file_extension": ".py",
   "mimetype": "text/x-python",
   "name": "python",
   "nbconvert_exporter": "python",
   "pygments_lexer": "ipython3",
   "version": "3.10.6"
  },
  "toc": {
   "base_numbering": 1,
   "nav_menu": {},
   "number_sections": true,
   "sideBar": true,
   "skip_h1_title": false,
   "title_cell": "Table of Contents",
   "title_sidebar": "Contents",
   "toc_cell": false,
   "toc_position": {},
   "toc_section_display": true,
   "toc_window_display": false
  }
 },
 "nbformat": 4,
 "nbformat_minor": 5
}
