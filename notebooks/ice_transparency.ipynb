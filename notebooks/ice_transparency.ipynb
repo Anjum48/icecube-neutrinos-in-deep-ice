{
 "cells": [
  {
   "cell_type": "code",
   "execution_count": 1,
   "id": "579b04ab",
   "metadata": {
    "ExecuteTime": {
     "end_time": "2023-01-28T09:13:13.729038Z",
     "start_time": "2023-01-28T09:13:12.270842Z"
    }
   },
   "outputs": [],
   "source": [
    "import sys\n",
    "COMP_NAME = \"icecube-neutrinos-in-deep-ice\"\n",
    "sys.path.append(f\"/home/anjum/kaggle/{COMP_NAME}/\")\n",
    "\n",
    "import torch\n",
    "import numpy as np\n",
    "import pandas as pd\n",
    "import matplotlib.pyplot as plt\n",
    "\n",
    "from src.config import INPUT_PATH, OUTPUT_PATH"
   ]
  },
  {
   "cell_type": "markdown",
   "id": "a3cb1a5d",
   "metadata": {},
   "source": [
    "# Confirm sensor distances"
   ]
  },
  {
   "cell_type": "code",
   "execution_count": 2,
   "id": "8ceb2cef",
   "metadata": {
    "ExecuteTime": {
     "end_time": "2023-01-28T09:13:13.752107Z",
     "start_time": "2023-01-28T09:13:13.731328Z"
    }
   },
   "outputs": [
    {
     "data": {
      "text/html": [
       "<div>\n",
       "<style scoped>\n",
       "    .dataframe tbody tr th:only-of-type {\n",
       "        vertical-align: middle;\n",
       "    }\n",
       "\n",
       "    .dataframe tbody tr th {\n",
       "        vertical-align: top;\n",
       "    }\n",
       "\n",
       "    .dataframe thead th {\n",
       "        text-align: right;\n",
       "    }\n",
       "</style>\n",
       "<table border=\"1\" class=\"dataframe\">\n",
       "  <thead>\n",
       "    <tr style=\"text-align: right;\">\n",
       "      <th></th>\n",
       "      <th>sensor_id</th>\n",
       "      <th>x</th>\n",
       "      <th>y</th>\n",
       "      <th>z</th>\n",
       "    </tr>\n",
       "  </thead>\n",
       "  <tbody>\n",
       "    <tr>\n",
       "      <th>count</th>\n",
       "      <td>5160.000000</td>\n",
       "      <td>5160.000000</td>\n",
       "      <td>5160.000000</td>\n",
       "      <td>5160.000000</td>\n",
       "    </tr>\n",
       "    <tr>\n",
       "      <th>mean</th>\n",
       "      <td>2579.500000</td>\n",
       "      <td>5.870829</td>\n",
       "      <td>-2.518609</td>\n",
       "      <td>-23.905766</td>\n",
       "    </tr>\n",
       "    <tr>\n",
       "      <th>std</th>\n",
       "      <td>1489.708025</td>\n",
       "      <td>285.151213</td>\n",
       "      <td>269.409729</td>\n",
       "      <td>296.456563</td>\n",
       "    </tr>\n",
       "    <tr>\n",
       "      <th>min</th>\n",
       "      <td>0.000000</td>\n",
       "      <td>-570.900000</td>\n",
       "      <td>-521.080000</td>\n",
       "      <td>-512.820000</td>\n",
       "    </tr>\n",
       "    <tr>\n",
       "      <th>25%</th>\n",
       "      <td>1289.750000</td>\n",
       "      <td>-224.090000</td>\n",
       "      <td>-209.070000</td>\n",
       "      <td>-283.200000</td>\n",
       "    </tr>\n",
       "    <tr>\n",
       "      <th>50%</th>\n",
       "      <td>2579.500000</td>\n",
       "      <td>16.990000</td>\n",
       "      <td>-6.055000</td>\n",
       "      <td>-35.115000</td>\n",
       "    </tr>\n",
       "    <tr>\n",
       "      <th>75%</th>\n",
       "      <td>3869.250000</td>\n",
       "      <td>224.580000</td>\n",
       "      <td>211.660000</td>\n",
       "      <td>228.557500</td>\n",
       "    </tr>\n",
       "    <tr>\n",
       "      <th>max</th>\n",
       "      <td>5159.000000</td>\n",
       "      <td>576.370000</td>\n",
       "      <td>509.500000</td>\n",
       "      <td>524.560000</td>\n",
       "    </tr>\n",
       "  </tbody>\n",
       "</table>\n",
       "</div>"
      ],
      "text/plain": [
       "         sensor_id            x            y            z\n",
       "count  5160.000000  5160.000000  5160.000000  5160.000000\n",
       "mean   2579.500000     5.870829    -2.518609   -23.905766\n",
       "std    1489.708025   285.151213   269.409729   296.456563\n",
       "min       0.000000  -570.900000  -521.080000  -512.820000\n",
       "25%    1289.750000  -224.090000  -209.070000  -283.200000\n",
       "50%    2579.500000    16.990000    -6.055000   -35.115000\n",
       "75%    3869.250000   224.580000   211.660000   228.557500\n",
       "max    5159.000000   576.370000   509.500000   524.560000"
      ]
     },
     "execution_count": 2,
     "metadata": {},
     "output_type": "execute_result"
    }
   ],
   "source": [
    "sensors = pd.read_csv(INPUT_PATH / \"sensor_geometry.csv\")\n",
    "sensors.describe()"
   ]
  },
  {
   "cell_type": "code",
   "execution_count": 3,
   "id": "f3e7a1cf",
   "metadata": {
    "ExecuteTime": {
     "end_time": "2023-01-28T09:13:13.771917Z",
     "start_time": "2023-01-28T09:13:13.756428Z"
    }
   },
   "outputs": [
    {
     "name": "stdout",
     "output_type": "stream",
     "text": [
      "63 (3720, 3780) 1004.22 16.737000000000002 -506.4 497.82\n"
     ]
    }
   ],
   "source": [
    "for i in range(len(sensors) // 60):\n",
    "    start, end = i * 60, (i * 60) + 60\n",
    "    string = sensors.iloc[start:end]\n",
    "    length = string[\"z\"].max() - string[\"z\"].min()\n",
    "    \n",
    "    if i + 1 == 63:\n",
    "        print(i + 1, (start, end), length, length / 60, string[\"z\"].min(), string[\"z\"].max())\n",
    "    \n",
    "    if i == 77:\n",
    "        break"
   ]
  },
  {
   "cell_type": "markdown",
   "id": "a713a721",
   "metadata": {},
   "source": [
    "- String 63 spacing = 16.737m\n",
    "- Top = -506.4m\n",
    "- Base = 497.82m\n",
    "- Length = 1004.22m"
   ]
  },
  {
   "cell_type": "markdown",
   "id": "ab427a4b",
   "metadata": {},
   "source": [
    "# Estimate datum and convert depth to z"
   ]
  },
  {
   "cell_type": "code",
   "execution_count": 4,
   "id": "c54ec9af",
   "metadata": {
    "ExecuteTime": {
     "end_time": "2023-01-28T09:13:13.785324Z",
     "start_time": "2023-01-28T09:13:13.775257Z"
    }
   },
   "outputs": [
    {
     "data": {
      "text/html": [
       "<div>\n",
       "<style scoped>\n",
       "    .dataframe tbody tr th:only-of-type {\n",
       "        vertical-align: middle;\n",
       "    }\n",
       "\n",
       "    .dataframe tbody tr th {\n",
       "        vertical-align: top;\n",
       "    }\n",
       "\n",
       "    .dataframe thead th {\n",
       "        text-align: right;\n",
       "    }\n",
       "</style>\n",
       "<table border=\"1\" class=\"dataframe\">\n",
       "  <thead>\n",
       "    <tr style=\"text-align: right;\">\n",
       "      <th></th>\n",
       "      <th>depth</th>\n",
       "      <th>scattering_len</th>\n",
       "      <th>absorption_len</th>\n",
       "    </tr>\n",
       "  </thead>\n",
       "  <tbody>\n",
       "    <tr>\n",
       "      <th>0</th>\n",
       "      <td>1398.4</td>\n",
       "      <td>13.2</td>\n",
       "      <td>45.1</td>\n",
       "    </tr>\n",
       "    <tr>\n",
       "      <th>1</th>\n",
       "      <td>1408.4</td>\n",
       "      <td>14.0</td>\n",
       "      <td>48.6</td>\n",
       "    </tr>\n",
       "    <tr>\n",
       "      <th>2</th>\n",
       "      <td>1418.4</td>\n",
       "      <td>14.7</td>\n",
       "      <td>53.2</td>\n",
       "    </tr>\n",
       "    <tr>\n",
       "      <th>3</th>\n",
       "      <td>1428.4</td>\n",
       "      <td>17.0</td>\n",
       "      <td>57.6</td>\n",
       "    </tr>\n",
       "    <tr>\n",
       "      <th>4</th>\n",
       "      <td>1438.4</td>\n",
       "      <td>16.0</td>\n",
       "      <td>57.6</td>\n",
       "    </tr>\n",
       "    <tr>\n",
       "      <th>...</th>\n",
       "      <td>...</td>\n",
       "      <td>...</td>\n",
       "      <td>...</td>\n",
       "    </tr>\n",
       "    <tr>\n",
       "      <th>105</th>\n",
       "      <td>2448.2</td>\n",
       "      <td>77.6</td>\n",
       "      <td>232.1</td>\n",
       "    </tr>\n",
       "    <tr>\n",
       "      <th>106</th>\n",
       "      <td>2458.2</td>\n",
       "      <td>79.8</td>\n",
       "      <td>259.4</td>\n",
       "    </tr>\n",
       "    <tr>\n",
       "      <th>107</th>\n",
       "      <td>2468.3</td>\n",
       "      <td>89.4</td>\n",
       "      <td>276.1</td>\n",
       "    </tr>\n",
       "    <tr>\n",
       "      <th>108</th>\n",
       "      <td>2478.4</td>\n",
       "      <td>80.7</td>\n",
       "      <td>244.3</td>\n",
       "    </tr>\n",
       "    <tr>\n",
       "      <th>109</th>\n",
       "      <td>2488.4</td>\n",
       "      <td>56.7</td>\n",
       "      <td>185.2</td>\n",
       "    </tr>\n",
       "  </tbody>\n",
       "</table>\n",
       "<p>110 rows × 3 columns</p>\n",
       "</div>"
      ],
      "text/plain": [
       "      depth  scattering_len  absorption_len\n",
       "0    1398.4            13.2            45.1\n",
       "1    1408.4            14.0            48.6\n",
       "2    1418.4            14.7            53.2\n",
       "3    1428.4            17.0            57.6\n",
       "4    1438.4            16.0            57.6\n",
       "..      ...             ...             ...\n",
       "105  2448.2            77.6           232.1\n",
       "106  2458.2            79.8           259.4\n",
       "107  2468.3            89.4           276.1\n",
       "108  2478.4            80.7           244.3\n",
       "109  2488.4            56.7           185.2\n",
       "\n",
       "[110 rows x 3 columns]"
      ]
     },
     "execution_count": 4,
     "metadata": {},
     "output_type": "execute_result"
    }
   ],
   "source": [
    "# Data from https://arxiv.org/pdf/1301.5361.pdf in string 63\n",
    "df = pd.read_csv(INPUT_PATH / \"ice_transparency.txt\", delim_whitespace=True)\n",
    "df"
   ]
  },
  {
   "cell_type": "code",
   "execution_count": 5,
   "id": "97a5da38",
   "metadata": {
    "ExecuteTime": {
     "end_time": "2023-01-28T09:13:13.790199Z",
     "start_time": "2023-01-28T09:13:13.786899Z"
    }
   },
   "outputs": [
    {
     "name": "stdout",
     "output_type": "stream",
     "text": [
      "1952.11\n"
     ]
    }
   ],
   "source": [
    "icecube_top = 1450\n",
    "icecube_base = 16.737 * 60 + 1450\n",
    "icecube_length = icecube_base - icecube_top\n",
    "datum = icecube_top + (icecube_length / 2)\n",
    "print(datum)  # This is within 2m of the published figure\n",
    "\n",
    "datum = 1950  # See footnote 8 of page 29 in https://arxiv.org/pdf/1301.5361.pdf"
   ]
  },
  {
   "cell_type": "code",
   "execution_count": 6,
   "id": "792895ff",
   "metadata": {
    "ExecuteTime": {
     "end_time": "2023-01-28T09:13:13.801052Z",
     "start_time": "2023-01-28T09:13:13.791630Z"
    }
   },
   "outputs": [
    {
     "data": {
      "text/html": [
       "<div>\n",
       "<style scoped>\n",
       "    .dataframe tbody tr th:only-of-type {\n",
       "        vertical-align: middle;\n",
       "    }\n",
       "\n",
       "    .dataframe tbody tr th {\n",
       "        vertical-align: top;\n",
       "    }\n",
       "\n",
       "    .dataframe thead th {\n",
       "        text-align: right;\n",
       "    }\n",
       "</style>\n",
       "<table border=\"1\" class=\"dataframe\">\n",
       "  <thead>\n",
       "    <tr style=\"text-align: right;\">\n",
       "      <th></th>\n",
       "      <th>depth</th>\n",
       "      <th>scattering_len</th>\n",
       "      <th>absorption_len</th>\n",
       "      <th>z</th>\n",
       "    </tr>\n",
       "  </thead>\n",
       "  <tbody>\n",
       "    <tr>\n",
       "      <th>0</th>\n",
       "      <td>1398.4</td>\n",
       "      <td>13.2</td>\n",
       "      <td>45.1</td>\n",
       "      <td>-551.6</td>\n",
       "    </tr>\n",
       "    <tr>\n",
       "      <th>1</th>\n",
       "      <td>1408.4</td>\n",
       "      <td>14.0</td>\n",
       "      <td>48.6</td>\n",
       "      <td>-541.6</td>\n",
       "    </tr>\n",
       "    <tr>\n",
       "      <th>2</th>\n",
       "      <td>1418.4</td>\n",
       "      <td>14.7</td>\n",
       "      <td>53.2</td>\n",
       "      <td>-531.6</td>\n",
       "    </tr>\n",
       "    <tr>\n",
       "      <th>3</th>\n",
       "      <td>1428.4</td>\n",
       "      <td>17.0</td>\n",
       "      <td>57.6</td>\n",
       "      <td>-521.6</td>\n",
       "    </tr>\n",
       "    <tr>\n",
       "      <th>4</th>\n",
       "      <td>1438.4</td>\n",
       "      <td>16.0</td>\n",
       "      <td>57.6</td>\n",
       "      <td>-511.6</td>\n",
       "    </tr>\n",
       "    <tr>\n",
       "      <th>...</th>\n",
       "      <td>...</td>\n",
       "      <td>...</td>\n",
       "      <td>...</td>\n",
       "      <td>...</td>\n",
       "    </tr>\n",
       "    <tr>\n",
       "      <th>105</th>\n",
       "      <td>2448.2</td>\n",
       "      <td>77.6</td>\n",
       "      <td>232.1</td>\n",
       "      <td>498.2</td>\n",
       "    </tr>\n",
       "    <tr>\n",
       "      <th>106</th>\n",
       "      <td>2458.2</td>\n",
       "      <td>79.8</td>\n",
       "      <td>259.4</td>\n",
       "      <td>508.2</td>\n",
       "    </tr>\n",
       "    <tr>\n",
       "      <th>107</th>\n",
       "      <td>2468.3</td>\n",
       "      <td>89.4</td>\n",
       "      <td>276.1</td>\n",
       "      <td>518.3</td>\n",
       "    </tr>\n",
       "    <tr>\n",
       "      <th>108</th>\n",
       "      <td>2478.4</td>\n",
       "      <td>80.7</td>\n",
       "      <td>244.3</td>\n",
       "      <td>528.4</td>\n",
       "    </tr>\n",
       "    <tr>\n",
       "      <th>109</th>\n",
       "      <td>2488.4</td>\n",
       "      <td>56.7</td>\n",
       "      <td>185.2</td>\n",
       "      <td>538.4</td>\n",
       "    </tr>\n",
       "  </tbody>\n",
       "</table>\n",
       "<p>110 rows × 4 columns</p>\n",
       "</div>"
      ],
      "text/plain": [
       "      depth  scattering_len  absorption_len      z\n",
       "0    1398.4            13.2            45.1 -551.6\n",
       "1    1408.4            14.0            48.6 -541.6\n",
       "2    1418.4            14.7            53.2 -531.6\n",
       "3    1428.4            17.0            57.6 -521.6\n",
       "4    1438.4            16.0            57.6 -511.6\n",
       "..      ...             ...             ...    ...\n",
       "105  2448.2            77.6           232.1  498.2\n",
       "106  2458.2            79.8           259.4  508.2\n",
       "107  2468.3            89.4           276.1  518.3\n",
       "108  2478.4            80.7           244.3  528.4\n",
       "109  2488.4            56.7           185.2  538.4\n",
       "\n",
       "[110 rows x 4 columns]"
      ]
     },
     "execution_count": 6,
     "metadata": {},
     "output_type": "execute_result"
    }
   ],
   "source": [
    "df[\"z\"] = df[\"depth\"] - datum\n",
    "df"
   ]
  },
  {
   "cell_type": "markdown",
   "id": "f15f90b8",
   "metadata": {
    "ExecuteTime": {
     "end_time": "2023-01-28T08:45:43.382357Z",
     "start_time": "2023-01-28T08:45:43.362205Z"
    }
   },
   "source": [
    "# Apply to event data"
   ]
  },
  {
   "cell_type": "code",
   "execution_count": 7,
   "id": "5e71ed50",
   "metadata": {
    "ExecuteTime": {
     "end_time": "2023-01-28T09:13:14.126628Z",
     "start_time": "2023-01-28T09:13:13.802622Z"
    }
   },
   "outputs": [],
   "source": [
    "from sklearn.preprocessing import RobustScaler"
   ]
  },
  {
   "cell_type": "code",
   "execution_count": 8,
   "id": "ab6193ee",
   "metadata": {
    "ExecuteTime": {
     "end_time": "2023-01-28T09:13:14.148498Z",
     "start_time": "2023-01-28T09:13:14.129448Z"
    }
   },
   "outputs": [
    {
     "data": {
      "text/html": [
       "<div>\n",
       "<style scoped>\n",
       "    .dataframe tbody tr th:only-of-type {\n",
       "        vertical-align: middle;\n",
       "    }\n",
       "\n",
       "    .dataframe tbody tr th {\n",
       "        vertical-align: top;\n",
       "    }\n",
       "\n",
       "    .dataframe thead th {\n",
       "        text-align: right;\n",
       "    }\n",
       "</style>\n",
       "<table border=\"1\" class=\"dataframe\">\n",
       "  <thead>\n",
       "    <tr style=\"text-align: right;\">\n",
       "      <th></th>\n",
       "      <th>depth</th>\n",
       "      <th>scattering_len</th>\n",
       "      <th>absorption_len</th>\n",
       "      <th>z</th>\n",
       "      <th>z_norm</th>\n",
       "      <th>scattering_len_norm</th>\n",
       "      <th>absorption_len_norm</th>\n",
       "    </tr>\n",
       "  </thead>\n",
       "  <tbody>\n",
       "    <tr>\n",
       "      <th>0</th>\n",
       "      <td>1398.4</td>\n",
       "      <td>13.2</td>\n",
       "      <td>45.1</td>\n",
       "      <td>-551.6</td>\n",
       "      <td>-1.1032</td>\n",
       "      <td>-0.706532</td>\n",
       "      <td>-0.746711</td>\n",
       "    </tr>\n",
       "    <tr>\n",
       "      <th>1</th>\n",
       "      <td>1408.4</td>\n",
       "      <td>14.0</td>\n",
       "      <td>48.6</td>\n",
       "      <td>-541.6</td>\n",
       "      <td>-1.0832</td>\n",
       "      <td>-0.677093</td>\n",
       "      <td>-0.707529</td>\n",
       "    </tr>\n",
       "    <tr>\n",
       "      <th>2</th>\n",
       "      <td>1418.4</td>\n",
       "      <td>14.7</td>\n",
       "      <td>53.2</td>\n",
       "      <td>-531.6</td>\n",
       "      <td>-1.0632</td>\n",
       "      <td>-0.651334</td>\n",
       "      <td>-0.656031</td>\n",
       "    </tr>\n",
       "    <tr>\n",
       "      <th>3</th>\n",
       "      <td>1428.4</td>\n",
       "      <td>17.0</td>\n",
       "      <td>57.6</td>\n",
       "      <td>-521.6</td>\n",
       "      <td>-1.0432</td>\n",
       "      <td>-0.566697</td>\n",
       "      <td>-0.606773</td>\n",
       "    </tr>\n",
       "    <tr>\n",
       "      <th>4</th>\n",
       "      <td>1438.4</td>\n",
       "      <td>16.0</td>\n",
       "      <td>57.6</td>\n",
       "      <td>-511.6</td>\n",
       "      <td>-1.0232</td>\n",
       "      <td>-0.603496</td>\n",
       "      <td>-0.606773</td>\n",
       "    </tr>\n",
       "    <tr>\n",
       "      <th>...</th>\n",
       "      <td>...</td>\n",
       "      <td>...</td>\n",
       "      <td>...</td>\n",
       "      <td>...</td>\n",
       "      <td>...</td>\n",
       "      <td>...</td>\n",
       "      <td>...</td>\n",
       "    </tr>\n",
       "    <tr>\n",
       "      <th>105</th>\n",
       "      <td>2448.2</td>\n",
       "      <td>77.6</td>\n",
       "      <td>232.1</td>\n",
       "      <td>498.2</td>\n",
       "      <td>0.9964</td>\n",
       "      <td>1.663293</td>\n",
       "      <td>1.346767</td>\n",
       "    </tr>\n",
       "    <tr>\n",
       "      <th>106</th>\n",
       "      <td>2458.2</td>\n",
       "      <td>79.8</td>\n",
       "      <td>259.4</td>\n",
       "      <td>508.2</td>\n",
       "      <td>1.0164</td>\n",
       "      <td>1.744250</td>\n",
       "      <td>1.652393</td>\n",
       "    </tr>\n",
       "    <tr>\n",
       "      <th>107</th>\n",
       "      <td>2468.3</td>\n",
       "      <td>89.4</td>\n",
       "      <td>276.1</td>\n",
       "      <td>518.3</td>\n",
       "      <td>1.0366</td>\n",
       "      <td>2.097516</td>\n",
       "      <td>1.839351</td>\n",
       "    </tr>\n",
       "    <tr>\n",
       "      <th>108</th>\n",
       "      <td>2478.4</td>\n",
       "      <td>80.7</td>\n",
       "      <td>244.3</td>\n",
       "      <td>528.4</td>\n",
       "      <td>1.0568</td>\n",
       "      <td>1.777369</td>\n",
       "      <td>1.483347</td>\n",
       "    </tr>\n",
       "    <tr>\n",
       "      <th>109</th>\n",
       "      <td>2488.4</td>\n",
       "      <td>56.7</td>\n",
       "      <td>185.2</td>\n",
       "      <td>538.4</td>\n",
       "      <td>1.0768</td>\n",
       "      <td>0.894204</td>\n",
       "      <td>0.821718</td>\n",
       "    </tr>\n",
       "  </tbody>\n",
       "</table>\n",
       "<p>110 rows × 7 columns</p>\n",
       "</div>"
      ],
      "text/plain": [
       "      depth  scattering_len  absorption_len      z  z_norm  \\\n",
       "0    1398.4            13.2            45.1 -551.6 -1.1032   \n",
       "1    1408.4            14.0            48.6 -541.6 -1.0832   \n",
       "2    1418.4            14.7            53.2 -531.6 -1.0632   \n",
       "3    1428.4            17.0            57.6 -521.6 -1.0432   \n",
       "4    1438.4            16.0            57.6 -511.6 -1.0232   \n",
       "..      ...             ...             ...    ...     ...   \n",
       "105  2448.2            77.6           232.1  498.2  0.9964   \n",
       "106  2458.2            79.8           259.4  508.2  1.0164   \n",
       "107  2468.3            89.4           276.1  518.3  1.0366   \n",
       "108  2478.4            80.7           244.3  528.4  1.0568   \n",
       "109  2488.4            56.7           185.2  538.4  1.0768   \n",
       "\n",
       "     scattering_len_norm  absorption_len_norm  \n",
       "0              -0.706532            -0.746711  \n",
       "1              -0.677093            -0.707529  \n",
       "2              -0.651334            -0.656031  \n",
       "3              -0.566697            -0.606773  \n",
       "4              -0.603496            -0.606773  \n",
       "..                   ...                  ...  \n",
       "105             1.663293             1.346767  \n",
       "106             1.744250             1.652393  \n",
       "107             2.097516             1.839351  \n",
       "108             1.777369             1.483347  \n",
       "109             0.894204             0.821718  \n",
       "\n",
       "[110 rows x 7 columns]"
      ]
     },
     "execution_count": 8,
     "metadata": {},
     "output_type": "execute_result"
    }
   ],
   "source": [
    "df[\"z_norm\"] = df[\"z\"] / 500\n",
    "df[[\"scattering_len_norm\", \"absorption_len_norm\"]] = RobustScaler().fit_transform(df[[\"scattering_len\", \"absorption_len\"]])\n",
    "df"
   ]
  },
  {
   "cell_type": "code",
   "execution_count": 9,
   "id": "be712599",
   "metadata": {
    "ExecuteTime": {
     "end_time": "2023-01-28T09:13:14.509539Z",
     "start_time": "2023-01-28T09:13:14.150447Z"
    }
   },
   "outputs": [
    {
     "data": {
      "image/png": "[encoded data removed]",
      "text/plain": [
       "<Figure size 640x480 with 2 Axes>"
      ]
     },
     "metadata": {},
     "output_type": "display_data"
    }
   ],
   "source": [
    "df[[\"scattering_len_norm\", \"absorption_len_norm\"]].hist(bins=50);"
   ]
  },
  {
   "cell_type": "code",
   "execution_count": 10,
   "id": "d6f96135",
   "metadata": {
    "ExecuteTime": {
     "end_time": "2023-01-28T09:13:14.514281Z",
     "start_time": "2023-01-28T09:13:14.511676Z"
    }
   },
   "outputs": [],
   "source": [
    "from scipy.interpolate import interp1d"
   ]
  },
  {
   "cell_type": "code",
   "execution_count": 11,
   "id": "eb1f8724",
   "metadata": {
    "ExecuteTime": {
     "end_time": "2023-01-28T09:13:14.519035Z",
     "start_time": "2023-01-28T09:13:14.515748Z"
    }
   },
   "outputs": [],
   "source": [
    "f_scattering = interp1d(df[\"z_norm\"], df[\"scattering_len\"])\n",
    "f_absorption = interp1d(df[\"z_norm\"], df[\"absorption_len\"])\n",
    "\n",
    "# f_scattering = interp1d(df[\"z_norm\"], df[\"scattering_len_norm\"])\n",
    "# f_absorption = interp1d(df[\"z_norm\"], df[\"absorption_len_norm\"])"
   ]
  },
  {
   "cell_type": "code",
   "execution_count": 12,
   "id": "1a18787a",
   "metadata": {
    "ExecuteTime": {
     "end_time": "2023-01-28T09:13:15.810158Z",
     "start_time": "2023-01-28T09:13:14.520920Z"
    }
   },
   "outputs": [
    {
     "data": {
      "text/plain": [
       "Data(x=[61, 7], y=[2], n_pulses=61)"
      ]
     },
     "execution_count": 12,
     "metadata": {},
     "output_type": "execute_result"
    }
   ],
   "source": [
    "data = torch.load(INPUT_PATH / \"train_events\" / \"batch_1\" / \"event_24.pt\")\n",
    "data"
   ]
  },
  {
   "cell_type": "code",
   "execution_count": 13,
   "id": "ee7f1f65",
   "metadata": {
    "ExecuteTime": {
     "end_time": "2023-01-28T09:13:15.817686Z",
     "start_time": "2023-01-28T09:13:15.812179Z"
    }
   },
   "outputs": [
    {
     "data": {
      "text/plain": [
       "array([ 0.41316,  0.42546, -0.3492 , -0.3492 ,  0.362  ,  0.71576,\n",
       "        0.32722, -0.35634,  0.90158,  0.69602,  0.69602, -0.41094,\n",
       "       -0.41094, -0.41094, -0.27144, -0.43898,  0.4678 ,  0.4678 ,\n",
       "       -0.39558,  0.3413 ,  0.42426, -0.7018 , -0.7018 ,  0.08972,\n",
       "        0.20436,  0.31944, -0.36236,  0.38268,  0.38268,  0.41672,\n",
       "        0.41672,  0.41672,  0.41672,  0.15192, -0.69796, -0.69796,\n",
       "        0.55288,  0.59176,  0.5577 , -0.4129 ,  0.48962,  0.3146 ,\n",
       "        0.51884, -0.2208 , -0.61016,  0.62852, -0.3244 ,  0.99902,\n",
       "        0.55712,  0.38434,  0.29046, -0.87616,  0.05168, -0.62866,\n",
       "       -0.66334, -0.7981 , -0.09224, -0.64194,  0.08556,  0.08556,\n",
       "       -0.49768], dtype=float32)"
      ]
     },
     "execution_count": 13,
     "metadata": {},
     "output_type": "execute_result"
    }
   ],
   "source": [
    "z = data.x[:, 2].numpy()\n",
    "z"
   ]
  },
  {
   "cell_type": "code",
   "execution_count": 14,
   "id": "fa78a9cc",
   "metadata": {
    "ExecuteTime": {
     "end_time": "2023-01-28T09:13:15.830358Z",
     "start_time": "2023-01-28T09:13:15.819244Z"
    }
   },
   "outputs": [
    {
     "data": {
      "text/plain": [
       "array([47.49878918, 40.36379279, 35.36299861, 35.36299861, 38.1879921 ,\n",
       "       75.30360011, 41.72525864, 34.3991012 , 57.07168246, 75.59969989,\n",
       "       75.59969989, 20.22060009, 20.22060009, 20.22060009, 42.82727288,\n",
       "       20.65930046, 29.153534  , 29.153534  , 21.85820132, 33.74750059,\n",
       "       41.1678064 , 21.74400135, 21.74400135, 10.1752002 ,  5.80959927,\n",
       "       48.40504431, 33.58639992, 49.81119973, 49.81119973, 46.21959806,\n",
       "       46.21959806, 46.21959806, 46.21959806,  7.84139884, 22.20479771,\n",
       "       22.20479771, 46.5743956 , 54.43699848, 48.34108343, 20.20099999,\n",
       "       29.44239999, 50.95600174, 35.68560358, 30.2279996 , 34.08788155,\n",
       "       59.82646657, 35.45600031, 77.88819785, 48.18891749, 50.20959718,\n",
       "       43.44358423, 35.00912272, 16.44580009, 25.75868712, 20.0679945 ,\n",
       "       13.99500059, 41.5204005 , 18.38830129,  9.92560009,  9.92560009,\n",
       "       29.50940172])"
      ]
     },
     "execution_count": 14,
     "metadata": {},
     "output_type": "execute_result"
    }
   ],
   "source": [
    "scattering_values = f_scattering(z)\n",
    "absorption_values = f_absorption(z)\n",
    "\n",
    "scattering_values"
   ]
  },
  {
   "cell_type": "code",
   "execution_count": 15,
   "id": "b787202f",
   "metadata": {
    "ExecuteTime": {
     "end_time": "2023-01-28T09:13:15.938734Z",
     "start_time": "2023-01-28T09:13:15.831553Z"
    }
   },
   "outputs": [
    {
     "data": {
      "image/png": "[encoded data removed]",
      "text/plain": [
       "<Figure size 640x480 with 1 Axes>"
      ]
     },
     "metadata": {},
     "output_type": "display_data"
    }
   ],
   "source": [
    "plt.plot(scattering_values)\n",
    "plt.plot(absorption_values);"
   ]
  },
  {
   "cell_type": "code",
   "execution_count": 16,
   "id": "0fe5e874",
   "metadata": {
    "ExecuteTime": {
     "end_time": "2023-01-28T09:13:15.943669Z",
     "start_time": "2023-01-28T09:13:15.940310Z"
    }
   },
   "outputs": [],
   "source": [
    "scattering_values = torch.tensor(scattering_values, dtype=torch.float32).view(-1, 1)"
   ]
  },
  {
   "cell_type": "code",
   "execution_count": 18,
   "id": "45c69b38",
   "metadata": {
    "ExecuteTime": {
     "end_time": "2023-01-28T09:13:52.115676Z",
     "start_time": "2023-01-28T09:13:52.111076Z"
    }
   },
   "outputs": [
    {
     "data": {
      "text/plain": [
       "torch.Size([61, 8])"
      ]
     },
     "execution_count": 18,
     "metadata": {},
     "output_type": "execute_result"
    }
   ],
   "source": [
    "torch.cat([data.x, scattering_values], dim=1).shape"
   ]
  },
  {
   "cell_type": "code",
   "execution_count": null,
   "id": "63a865e0",
   "metadata": {},
   "outputs": [],
   "source": []
  }
 ],
 "metadata": {
  "kernelspec": {
   "display_name": "kaggle",
   "language": "python",
   "name": "kaggle"
  },
  "language_info": {
   "codemirror_mode": {
    "name": "ipython",
    "version": 3
   },
   "file_extension": ".py",
   "mimetype": "text/x-python",
   "name": "python",
   "nbconvert_exporter": "python",
   "pygments_lexer": "ipython3",
   "version": "3.10.6"
  }
 },
 "nbformat": 4,
 "nbformat_minor": 5
}
