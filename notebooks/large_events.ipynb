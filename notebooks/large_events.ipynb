{
 "cells": [
  {
   "cell_type": "code",
   "execution_count": 1,
   "id": "8967a28c",
   "metadata": {
    "ExecuteTime": {
     "end_time": "2023-01-25T07:43:40.891888Z",
     "start_time": "2023-01-25T07:43:38.234672Z"
    }
   },
   "outputs": [],
   "source": [
    "import sys\n",
    "COMP_NAME = \"icecube-neutrinos-in-deep-ice\"\n",
    "sys.path.append(f\"/home/anjum/kaggle/{COMP_NAME}/\")\n",
    "\n",
    "import numpy as np\n",
    "import pandas as pd\n",
    "import torch\n",
    "import matplotlib.pyplot as plt\n",
    "from sklearn.model_selection import StratifiedKFold\n",
    "\n",
    "from src.config import INPUT_PATH, OUTPUT_PATH"
   ]
  },
  {
   "cell_type": "code",
   "execution_count": 2,
   "id": "52e3d490",
   "metadata": {
    "ExecuteTime": {
     "end_time": "2023-01-25T07:43:47.913737Z",
     "start_time": "2023-01-25T07:43:40.894426Z"
    }
   },
   "outputs": [
    {
     "data": {
      "text/plain": [
       "(131953924, 4)"
      ]
     },
     "execution_count": 2,
     "metadata": {},
     "output_type": "execute_result"
    }
   ],
   "source": [
    "_dtype = {\n",
    "    \"batch_id\": \"int16\",\n",
    "    \"event_id\": \"int64\",\n",
    "    \"first_pulse_index\": \"int32\",\n",
    "    \"last_pulse_index\": \"int32\",\n",
    "#     \"azimuth\": \"float32\",\n",
    "#     \"zenith\": \"float32\",\n",
    "}\n",
    "\n",
    "meta = pd.read_parquet(\n",
    "    INPUT_PATH / \"train_meta.parquet\",\n",
    "    columns=[\"batch_id\", \"event_id\", \"first_pulse_index\", \"last_pulse_index\"],\n",
    ").astype(_dtype)\n",
    "meta.shape"
   ]
  },
  {
   "cell_type": "code",
   "execution_count": 3,
   "id": "ecce35d3",
   "metadata": {
    "ExecuteTime": {
     "end_time": "2023-01-25T07:43:48.230796Z",
     "start_time": "2023-01-25T07:43:47.915892Z"
    }
   },
   "outputs": [
    {
     "data": {
      "text/html": [
       "<div>\n",
       "<style scoped>\n",
       "    .dataframe tbody tr th:only-of-type {\n",
       "        vertical-align: middle;\n",
       "    }\n",
       "\n",
       "    .dataframe tbody tr th {\n",
       "        vertical-align: top;\n",
       "    }\n",
       "\n",
       "    .dataframe thead th {\n",
       "        text-align: right;\n",
       "    }\n",
       "</style>\n",
       "<table border=\"1\" class=\"dataframe\">\n",
       "  <thead>\n",
       "    <tr style=\"text-align: right;\">\n",
       "      <th></th>\n",
       "      <th>batch_id</th>\n",
       "      <th>event_id</th>\n",
       "      <th>first_pulse_index</th>\n",
       "      <th>last_pulse_index</th>\n",
       "      <th>n_pulses</th>\n",
       "    </tr>\n",
       "  </thead>\n",
       "  <tbody>\n",
       "    <tr>\n",
       "      <th>0</th>\n",
       "      <td>1</td>\n",
       "      <td>24</td>\n",
       "      <td>0</td>\n",
       "      <td>60</td>\n",
       "      <td>60</td>\n",
       "    </tr>\n",
       "    <tr>\n",
       "      <th>1</th>\n",
       "      <td>1</td>\n",
       "      <td>41</td>\n",
       "      <td>61</td>\n",
       "      <td>111</td>\n",
       "      <td>50</td>\n",
       "    </tr>\n",
       "    <tr>\n",
       "      <th>2</th>\n",
       "      <td>1</td>\n",
       "      <td>59</td>\n",
       "      <td>112</td>\n",
       "      <td>147</td>\n",
       "      <td>35</td>\n",
       "    </tr>\n",
       "    <tr>\n",
       "      <th>3</th>\n",
       "      <td>1</td>\n",
       "      <td>67</td>\n",
       "      <td>148</td>\n",
       "      <td>289</td>\n",
       "      <td>141</td>\n",
       "    </tr>\n",
       "    <tr>\n",
       "      <th>4</th>\n",
       "      <td>1</td>\n",
       "      <td>72</td>\n",
       "      <td>290</td>\n",
       "      <td>351</td>\n",
       "      <td>61</td>\n",
       "    </tr>\n",
       "  </tbody>\n",
       "</table>\n",
       "</div>"
      ],
      "text/plain": [
       "   batch_id  event_id  first_pulse_index  last_pulse_index  n_pulses\n",
       "0         1        24                  0                60        60\n",
       "1         1        41                 61               111        50\n",
       "2         1        59                112               147        35\n",
       "3         1        67                148               289       141\n",
       "4         1        72                290               351        61"
      ]
     },
     "execution_count": 3,
     "metadata": {},
     "output_type": "execute_result"
    }
   ],
   "source": [
    "meta[\"n_pulses\"] = meta[\"last_pulse_index\"] - meta[\"first_pulse_index\"]\n",
    "meta.head()"
   ]
  },
  {
   "cell_type": "code",
   "execution_count": 4,
   "id": "a95e3f80",
   "metadata": {
    "ExecuteTime": {
     "end_time": "2023-01-25T07:43:53.280960Z",
     "start_time": "2023-01-25T07:43:48.234038Z"
    }
   },
   "outputs": [
    {
     "data": {
      "image/png": "[encoded data removed]",
      "text/plain": [
       "<Figure size 640x480 with 1 Axes>"
      ]
     },
     "metadata": {},
     "output_type": "display_data"
    }
   ],
   "source": [
    "np.log10(meta[\"n_pulses\"]).hist(bins=100);"
   ]
  },
  {
   "cell_type": "code",
   "execution_count": 5,
   "id": "3225cb1c",
   "metadata": {
    "ExecuteTime": {
     "end_time": "2023-01-25T07:44:04.347791Z",
     "start_time": "2023-01-25T07:43:53.282822Z"
    }
   },
   "outputs": [
    {
     "data": {
      "text/plain": [
       "2    15116423\n",
       "0    14728439\n",
       "4    14278994\n",
       "7    13608356\n",
       "9    13145685\n",
       "5    12949389\n",
       "8    12755626\n",
       "6    11848669\n",
       "3    11792628\n",
       "1    11729715\n",
       "Name: bins, dtype: int64"
      ]
     },
     "execution_count": 5,
     "metadata": {},
     "output_type": "execute_result"
    }
   ],
   "source": [
    "meta[\"bins\"] = pd.qcut(np.log10(meta[\"n_pulses\"]), 10, labels=False)\n",
    "meta[\"bins\"].value_counts()"
   ]
  },
  {
   "cell_type": "code",
   "execution_count": 6,
   "id": "db1dd05c",
   "metadata": {
    "ExecuteTime": {
     "end_time": "2023-01-25T07:44:06.426078Z",
     "start_time": "2023-01-25T07:44:04.350150Z"
    }
   },
   "outputs": [
    {
     "data": {
      "text/plain": [
       "(1483567, 6)"
      ]
     },
     "execution_count": 6,
     "metadata": {},
     "output_type": "execute_result"
    }
   ],
   "source": [
    "# How many events with > n pulses?\n",
    "meta[meta[\"n_pulses\"] > 1000].shape"
   ]
  },
  {
   "cell_type": "code",
   "execution_count": 7,
   "id": "ac0d67b9",
   "metadata": {
    "ExecuteTime": {
     "end_time": "2023-01-25T07:44:07.685781Z",
     "start_time": "2023-01-25T07:44:06.428225Z"
    }
   },
   "outputs": [
    {
     "data": {
      "text/plain": [
       "max       178249.0\n",
       "min          144.0\n",
       "median       221.0\n",
       "Name: n_pulses, dtype: float64"
      ]
     },
     "execution_count": 7,
     "metadata": {},
     "output_type": "execute_result"
    }
   ],
   "source": [
    "meta[meta[\"bins\"] == 9][\"n_pulses\"].agg(['max', 'min', \"median\"])"
   ]
  },
  {
   "cell_type": "code",
   "execution_count": 8,
   "id": "c53e42ec",
   "metadata": {
    "ExecuteTime": {
     "end_time": "2023-01-25T07:44:08.970357Z",
     "start_time": "2023-01-25T07:44:07.688332Z"
    }
   },
   "outputs": [
    {
     "data": {
      "text/plain": [
       "max       143.0\n",
       "min       100.0\n",
       "median    115.0\n",
       "Name: n_pulses, dtype: float64"
      ]
     },
     "execution_count": 8,
     "metadata": {},
     "output_type": "execute_result"
    }
   ],
   "source": [
    "meta[meta[\"bins\"] == 8][\"n_pulses\"].agg(['max', 'min', \"median\"])"
   ]
  },
  {
   "cell_type": "code",
   "execution_count": 9,
   "id": "c50958dc",
   "metadata": {
    "ExecuteTime": {
     "end_time": "2023-01-25T07:44:09.495627Z",
     "start_time": "2023-01-25T07:44:08.973069Z"
    }
   },
   "outputs": [
    {
     "data": {
      "text/html": [
       "<div>\n",
       "<style scoped>\n",
       "    .dataframe tbody tr th:only-of-type {\n",
       "        vertical-align: middle;\n",
       "    }\n",
       "\n",
       "    .dataframe tbody tr th {\n",
       "        vertical-align: top;\n",
       "    }\n",
       "\n",
       "    .dataframe thead th {\n",
       "        text-align: right;\n",
       "    }\n",
       "</style>\n",
       "<table border=\"1\" class=\"dataframe\">\n",
       "  <thead>\n",
       "    <tr style=\"text-align: right;\">\n",
       "      <th></th>\n",
       "      <th>batch_id</th>\n",
       "      <th>event_id</th>\n",
       "      <th>first_pulse_index</th>\n",
       "      <th>last_pulse_index</th>\n",
       "      <th>n_pulses</th>\n",
       "      <th>bins</th>\n",
       "    </tr>\n",
       "  </thead>\n",
       "  <tbody>\n",
       "    <tr>\n",
       "      <th>122823323</th>\n",
       "      <td>615</td>\n",
       "      <td>1999013610</td>\n",
       "      <td>3827530</td>\n",
       "      <td>4005779</td>\n",
       "      <td>178249</td>\n",
       "      <td>9</td>\n",
       "    </tr>\n",
       "  </tbody>\n",
       "</table>\n",
       "</div>"
      ],
      "text/plain": [
       "           batch_id    event_id  first_pulse_index  last_pulse_index  \\\n",
       "122823323       615  1999013610            3827530           4005779   \n",
       "\n",
       "           n_pulses  bins  \n",
       "122823323    178249     9  "
      ]
     },
     "execution_count": 9,
     "metadata": {},
     "output_type": "execute_result"
    }
   ],
   "source": [
    "meta.query(\"n_pulses == 178249\")"
   ]
  },
  {
   "cell_type": "code",
   "execution_count": 27,
   "id": "a8300f40",
   "metadata": {
    "ExecuteTime": {
     "end_time": "2023-01-25T07:51:27.040406Z",
     "start_time": "2023-01-25T07:51:25.913304Z"
    }
   },
   "outputs": [
    {
     "data": {
      "text/html": [
       "<div>\n",
       "<style scoped>\n",
       "    .dataframe tbody tr th:only-of-type {\n",
       "        vertical-align: middle;\n",
       "    }\n",
       "\n",
       "    .dataframe tbody tr th {\n",
       "        vertical-align: top;\n",
       "    }\n",
       "\n",
       "    .dataframe thead th {\n",
       "        text-align: right;\n",
       "    }\n",
       "</style>\n",
       "<table border=\"1\" class=\"dataframe\">\n",
       "  <thead>\n",
       "    <tr style=\"text-align: right;\">\n",
       "      <th></th>\n",
       "      <th>sensor_id</th>\n",
       "      <th>time</th>\n",
       "      <th>charge</th>\n",
       "      <th>auxiliary</th>\n",
       "    </tr>\n",
       "    <tr>\n",
       "      <th>event_id</th>\n",
       "      <th></th>\n",
       "      <th></th>\n",
       "      <th></th>\n",
       "      <th></th>\n",
       "    </tr>\n",
       "  </thead>\n",
       "  <tbody>\n",
       "    <tr>\n",
       "      <th>663</th>\n",
       "      <td>116</td>\n",
       "      <td>5952</td>\n",
       "      <td>0.425</td>\n",
       "      <td>True</td>\n",
       "    </tr>\n",
       "    <tr>\n",
       "      <th>663</th>\n",
       "      <td>714</td>\n",
       "      <td>6479</td>\n",
       "      <td>0.875</td>\n",
       "      <td>True</td>\n",
       "    </tr>\n",
       "    <tr>\n",
       "      <th>663</th>\n",
       "      <td>3804</td>\n",
       "      <td>6643</td>\n",
       "      <td>0.425</td>\n",
       "      <td>True</td>\n",
       "    </tr>\n",
       "    <tr>\n",
       "      <th>663</th>\n",
       "      <td>4243</td>\n",
       "      <td>6649</td>\n",
       "      <td>0.575</td>\n",
       "      <td>True</td>\n",
       "    </tr>\n",
       "    <tr>\n",
       "      <th>663</th>\n",
       "      <td>5095</td>\n",
       "      <td>6909</td>\n",
       "      <td>1.025</td>\n",
       "      <td>True</td>\n",
       "    </tr>\n",
       "    <tr>\n",
       "      <th>...</th>\n",
       "      <td>...</td>\n",
       "      <td>...</td>\n",
       "      <td>...</td>\n",
       "      <td>...</td>\n",
       "    </tr>\n",
       "    <tr>\n",
       "      <th>663</th>\n",
       "      <td>588</td>\n",
       "      <td>16183</td>\n",
       "      <td>1.375</td>\n",
       "      <td>True</td>\n",
       "    </tr>\n",
       "    <tr>\n",
       "      <th>663</th>\n",
       "      <td>1082</td>\n",
       "      <td>16456</td>\n",
       "      <td>1.175</td>\n",
       "      <td>True</td>\n",
       "    </tr>\n",
       "    <tr>\n",
       "      <th>663</th>\n",
       "      <td>4359</td>\n",
       "      <td>16462</td>\n",
       "      <td>1.275</td>\n",
       "      <td>False</td>\n",
       "    </tr>\n",
       "    <tr>\n",
       "      <th>663</th>\n",
       "      <td>1987</td>\n",
       "      <td>17317</td>\n",
       "      <td>0.625</td>\n",
       "      <td>True</td>\n",
       "    </tr>\n",
       "    <tr>\n",
       "      <th>663</th>\n",
       "      <td>4066</td>\n",
       "      <td>17596</td>\n",
       "      <td>1.475</td>\n",
       "      <td>True</td>\n",
       "    </tr>\n",
       "  </tbody>\n",
       "</table>\n",
       "<p>63 rows × 4 columns</p>\n",
       "</div>"
      ],
      "text/plain": [
       "          sensor_id   time  charge  auxiliary\n",
       "event_id                                     \n",
       "663             116   5952   0.425       True\n",
       "663             714   6479   0.875       True\n",
       "663            3804   6643   0.425       True\n",
       "663            4243   6649   0.575       True\n",
       "663            5095   6909   1.025       True\n",
       "...             ...    ...     ...        ...\n",
       "663             588  16183   1.375       True\n",
       "663            1082  16456   1.175       True\n",
       "663            4359  16462   1.275      False\n",
       "663            1987  17317   0.625       True\n",
       "663            4066  17596   1.475       True\n",
       "\n",
       "[63 rows x 4 columns]"
      ]
     },
     "execution_count": 27,
     "metadata": {},
     "output_type": "execute_result"
    }
   ],
   "source": [
    "# meta[meta[\"bins\"] == 4]\n",
    "avg_event = pd.read_parquet(INPUT_PATH / \"train\" / \"batch_1.parquet\").loc[663]\n",
    "avg_event"
   ]
  },
  {
   "cell_type": "code",
   "execution_count": 10,
   "id": "02d6ffbf",
   "metadata": {
    "ExecuteTime": {
     "end_time": "2023-01-25T07:44:10.574859Z",
     "start_time": "2023-01-25T07:44:09.499456Z"
    }
   },
   "outputs": [
    {
     "data": {
      "text/plain": [
       "(178250, 4)"
      ]
     },
     "execution_count": 10,
     "metadata": {},
     "output_type": "execute_result"
    }
   ],
   "source": [
    "big_event = pd.read_parquet(INPUT_PATH / \"train\" / \"batch_615.parquet\")\n",
    "big_event = big_event.loc[1999013610]\n",
    "big_event.shape"
   ]
  },
  {
   "cell_type": "code",
   "execution_count": 11,
   "id": "5a54feeb",
   "metadata": {
    "ExecuteTime": {
     "end_time": "2023-01-25T07:44:10.584798Z",
     "start_time": "2023-01-25T07:44:10.577904Z"
    }
   },
   "outputs": [
    {
     "data": {
      "text/plain": [
       "False    177904\n",
       "True        346\n",
       "Name: auxiliary, dtype: int64"
      ]
     },
     "execution_count": 11,
     "metadata": {},
     "output_type": "execute_result"
    }
   ],
   "source": [
    "big_event[\"auxiliary\"].value_counts()"
   ]
  },
  {
   "cell_type": "code",
   "execution_count": 12,
   "id": "fd4a1c66",
   "metadata": {
    "ExecuteTime": {
     "end_time": "2023-01-25T07:44:10.596540Z",
     "start_time": "2023-01-25T07:44:10.586909Z"
    }
   },
   "outputs": [
    {
     "data": {
      "text/html": [
       "<div>\n",
       "<style scoped>\n",
       "    .dataframe tbody tr th:only-of-type {\n",
       "        vertical-align: middle;\n",
       "    }\n",
       "\n",
       "    .dataframe tbody tr th {\n",
       "        vertical-align: top;\n",
       "    }\n",
       "\n",
       "    .dataframe thead th {\n",
       "        text-align: right;\n",
       "    }\n",
       "</style>\n",
       "<table border=\"1\" class=\"dataframe\">\n",
       "  <thead>\n",
       "    <tr style=\"text-align: right;\">\n",
       "      <th></th>\n",
       "      <th>sensor_id</th>\n",
       "      <th>time</th>\n",
       "      <th>charge</th>\n",
       "      <th>auxiliary</th>\n",
       "    </tr>\n",
       "    <tr>\n",
       "      <th>event_id</th>\n",
       "      <th></th>\n",
       "      <th></th>\n",
       "      <th></th>\n",
       "      <th></th>\n",
       "    </tr>\n",
       "  </thead>\n",
       "  <tbody>\n",
       "    <tr>\n",
       "      <th>1999013610</th>\n",
       "      <td>3712</td>\n",
       "      <td>6561</td>\n",
       "      <td>0.525</td>\n",
       "      <td>True</td>\n",
       "    </tr>\n",
       "    <tr>\n",
       "      <th>1999013610</th>\n",
       "      <td>3602</td>\n",
       "      <td>6695</td>\n",
       "      <td>0.875</td>\n",
       "      <td>True</td>\n",
       "    </tr>\n",
       "    <tr>\n",
       "      <th>1999013610</th>\n",
       "      <td>777</td>\n",
       "      <td>6889</td>\n",
       "      <td>1.075</td>\n",
       "      <td>True</td>\n",
       "    </tr>\n",
       "    <tr>\n",
       "      <th>1999013610</th>\n",
       "      <td>1487</td>\n",
       "      <td>7398</td>\n",
       "      <td>0.725</td>\n",
       "      <td>True</td>\n",
       "    </tr>\n",
       "    <tr>\n",
       "      <th>1999013610</th>\n",
       "      <td>3787</td>\n",
       "      <td>7705</td>\n",
       "      <td>0.875</td>\n",
       "      <td>True</td>\n",
       "    </tr>\n",
       "  </tbody>\n",
       "</table>\n",
       "</div>"
      ],
      "text/plain": [
       "            sensor_id  time  charge  auxiliary\n",
       "event_id                                      \n",
       "1999013610       3712  6561   0.525       True\n",
       "1999013610       3602  6695   0.875       True\n",
       "1999013610        777  6889   1.075       True\n",
       "1999013610       1487  7398   0.725       True\n",
       "1999013610       3787  7705   0.875       True"
      ]
     },
     "execution_count": 12,
     "metadata": {},
     "output_type": "execute_result"
    }
   ],
   "source": [
    "big_event.head()"
   ]
  },
  {
   "cell_type": "code",
   "execution_count": 28,
   "id": "c9d93439",
   "metadata": {
    "ExecuteTime": {
     "end_time": "2023-01-25T07:51:44.004983Z",
     "start_time": "2023-01-25T07:51:40.065527Z"
    }
   },
   "outputs": [
    {
     "data": {
      "image/png": "[encoded data removed]",
      "text/plain": [
       "<Figure size 640x480 with 1 Axes>"
      ]
     },
     "metadata": {},
     "output_type": "display_data"
    }
   ],
   "source": [
    "# np.log10(big_event[\"charge\"]).hist(bins=100);\n",
    "np.log10(big_event[\"charge\"]).plot.kde();\n",
    "# np.log10(big_event[\"charge\"].sample(1000)).hist(bins=100);\n",
    "np.log10(big_event[\"charge\"].sample(250)).plot.kde()\n",
    "\n",
    "np.log10(avg_event[\"charge\"]).plot.kde();"
   ]
  },
  {
   "cell_type": "code",
   "execution_count": 29,
   "id": "f9299d3a",
   "metadata": {
    "ExecuteTime": {
     "end_time": "2023-01-25T07:51:57.409681Z",
     "start_time": "2023-01-25T07:51:53.986441Z"
    }
   },
   "outputs": [
    {
     "data": {
      "image/png": "[encoded data removed]",
      "text/plain": [
       "<Figure size 640x480 with 1 Axes>"
      ]
     },
     "metadata": {},
     "output_type": "display_data"
    }
   ],
   "source": [
    "big_event[\"time\"].plot.kde();\n",
    "big_event[\"time\"].sample(250).plot.kde();\n",
    "avg_event[\"time\"].plot.kde();"
   ]
  },
  {
   "cell_type": "code",
   "execution_count": 45,
   "id": "150915ed",
   "metadata": {
    "ExecuteTime": {
     "end_time": "2023-01-25T08:07:51.772743Z",
     "start_time": "2023-01-25T08:07:51.767043Z"
    }
   },
   "outputs": [],
   "source": [
    "data = torch.load(INPUT_PATH / \"train_events\" / \"batch_615\" / \"event_1999013610.pt\")"
   ]
  },
  {
   "cell_type": "code",
   "execution_count": 46,
   "id": "c7481dcb",
   "metadata": {
    "ExecuteTime": {
     "end_time": "2023-01-25T08:07:52.040882Z",
     "start_time": "2023-01-25T08:07:52.036701Z"
    }
   },
   "outputs": [
    {
     "data": {
      "text/plain": [
       "Data(x=[178250, 7], y=[2], n_pulses=178250)"
      ]
     },
     "execution_count": 46,
     "metadata": {},
     "output_type": "execute_result"
    }
   ],
   "source": [
    "data"
   ]
  },
  {
   "cell_type": "code",
   "execution_count": 47,
   "id": "d220b13d",
   "metadata": {
    "ExecuteTime": {
     "end_time": "2023-01-25T08:07:52.529101Z",
     "start_time": "2023-01-25T08:07:52.524957Z"
    }
   },
   "outputs": [
    {
     "data": {
      "text/plain": [
       "tensor([ 0.5000, -0.5000, -0.5000,  ...,  0.5000,  0.5000,  0.5000])"
      ]
     },
     "execution_count": 47,
     "metadata": {},
     "output_type": "execute_result"
    }
   ],
   "source": [
    "data.x[:, -1]"
   ]
  },
  {
   "cell_type": "code",
   "execution_count": 48,
   "id": "eeead368",
   "metadata": {
    "ExecuteTime": {
     "end_time": "2023-01-25T08:07:56.444540Z",
     "start_time": "2023-01-25T08:07:56.437000Z"
    }
   },
   "outputs": [
    {
     "data": {
      "text/plain": [
       "Data(x=[177904, 7], y=[2], n_pulses=177904)"
      ]
     },
     "execution_count": 48,
     "metadata": {},
     "output_type": "execute_result"
    }
   ],
   "source": [
    "mask = data.x[:, -1] < 0\n",
    "data.x = data.x[mask]\n",
    "data.n_pulses = data.x.shape[0]\n",
    "data"
   ]
  },
  {
   "cell_type": "code",
   "execution_count": 49,
   "id": "31897ec7",
   "metadata": {
    "ExecuteTime": {
     "end_time": "2023-01-25T08:07:56.832452Z",
     "start_time": "2023-01-25T08:07:56.828065Z"
    }
   },
   "outputs": [
    {
     "data": {
      "text/plain": [
       "177904"
      ]
     },
     "execution_count": 49,
     "metadata": {},
     "output_type": "execute_result"
    }
   ],
   "source": [
    "data.x.shape[0]"
   ]
  },
  {
   "cell_type": "code",
   "execution_count": 50,
   "id": "46d2bd3e",
   "metadata": {
    "ExecuteTime": {
     "end_time": "2023-01-25T08:08:00.600638Z",
     "start_time": "2023-01-25T08:08:00.596590Z"
    }
   },
   "outputs": [],
   "source": [
    "data.x = data.x[np.random.choice(data.n_pulses, 300)]\n",
    "data.n_pulses = 300"
   ]
  },
  {
   "cell_type": "code",
   "execution_count": null,
   "id": "a0ef8b90",
   "metadata": {},
   "outputs": [],
   "source": []
  }
 ],
 "metadata": {
  "kernelspec": {
   "display_name": "kaggle",
   "language": "python",
   "name": "kaggle"
  },
  "language_info": {
   "codemirror_mode": {
    "name": "ipython",
    "version": 3
   },
   "file_extension": ".py",
   "mimetype": "text/x-python",
   "name": "python",
   "nbconvert_exporter": "python",
   "pygments_lexer": "ipython3",
   "version": "3.10.6"
  }
 },
 "nbformat": 4,
 "nbformat_minor": 5
}
