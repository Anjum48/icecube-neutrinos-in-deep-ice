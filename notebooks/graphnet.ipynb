{
 "cells": [
  {
   "cell_type": "code",
   "execution_count": 1,
   "id": "76d857af",
   "metadata": {
    "ExecuteTime": {
     "end_time": "2023-01-22T18:58:55.063815Z",
     "start_time": "2023-01-22T18:58:51.661626Z"
    }
   },
   "outputs": [
    {
     "name": "stdout",
     "output_type": "stream",
     "text": [
      "\u001b[1;34mgraphnet\u001b[0m: \u001b[32mINFO    \u001b[0m 2023-01-22 18:58:54 - get_logger - Writing log to \u001b[1mlogs/graphnet_20230122-185854.log\u001b[0m\n"
     ]
    }
   ],
   "source": [
    "import sys\n",
    "COMP_NAME = \"icecube-neutrinos-in-deep-ice\"\n",
    "sys.path.append(f\"/home/anjum/kaggle/{COMP_NAME}/\")\n",
    "\n",
    "import pandas as pd\n",
    "import numpy as np\n",
    "import torch\n",
    "\n",
    "from torch_geometric.data import Data, Batch\n",
    "from torch_geometric.loader import DataLoader\n",
    "\n",
    "from graphnet.models.gnn import DynEdge\n",
    "from graphnet.models.graph_builders import KNNGraphBuilder\n",
    "\n",
    "from src.config import INPUT_PATH, OUTPUT_PATH"
   ]
  },
  {
   "cell_type": "code",
   "execution_count": 42,
   "id": "da66e7fa",
   "metadata": {
    "ExecuteTime": {
     "end_time": "2023-01-22T19:42:19.888766Z",
     "start_time": "2023-01-22T19:42:12.908286Z"
    }
   },
   "outputs": [
    {
     "name": "stdout",
     "output_type": "stream",
     "text": [
      "<class 'pandas.core.frame.DataFrame'>\n",
      "RangeIndex: 131953924 entries, 0 to 131953923\n",
      "Data columns (total 6 columns):\n",
      " #   Column             Dtype  \n",
      "---  ------             -----  \n",
      " 0   batch_id           int16  \n",
      " 1   event_id           int64  \n",
      " 2   first_pulse_index  int32  \n",
      " 3   last_pulse_index   int32  \n",
      " 4   azimuth            float32\n",
      " 5   zenith             float32\n",
      "dtypes: float32(2), int16(1), int32(2), int64(1)\n",
      "memory usage: 3.2 GB\n"
     ]
    }
   ],
   "source": [
    "_dtype = {\n",
    "    \"batch_id\": \"int16\",\n",
    "    \"event_id\": \"int64\",\n",
    "    \"first_pulse_index\": \"int32\",\n",
    "    \"last_pulse_index\": \"int32\",\n",
    "    \"azimuth\": \"float32\",\n",
    "    \"zenith\": \"float32\",\n",
    "}\n",
    "\n",
    "meta = pd.read_parquet(INPUT_PATH / \"train_meta.parquet\").astype(_dtype)\n",
    "meta.info()"
   ]
  },
  {
   "cell_type": "code",
   "execution_count": 43,
   "id": "35940a71",
   "metadata": {
    "ExecuteTime": {
     "end_time": "2023-01-22T19:42:36.453952Z",
     "start_time": "2023-01-22T19:42:19.890823Z"
    }
   },
   "outputs": [
    {
     "data": {
      "text/html": [
       "<div>\n",
       "<style scoped>\n",
       "    .dataframe tbody tr th:only-of-type {\n",
       "        vertical-align: middle;\n",
       "    }\n",
       "\n",
       "    .dataframe tbody tr th {\n",
       "        vertical-align: top;\n",
       "    }\n",
       "\n",
       "    .dataframe thead th {\n",
       "        text-align: right;\n",
       "    }\n",
       "</style>\n",
       "<table border=\"1\" class=\"dataframe\">\n",
       "  <thead>\n",
       "    <tr style=\"text-align: right;\">\n",
       "      <th></th>\n",
       "      <th>batch_id</th>\n",
       "      <th>event_id</th>\n",
       "      <th>first_pulse_index</th>\n",
       "      <th>last_pulse_index</th>\n",
       "      <th>azimuth</th>\n",
       "      <th>zenith</th>\n",
       "    </tr>\n",
       "  </thead>\n",
       "  <tbody>\n",
       "    <tr>\n",
       "      <th>count</th>\n",
       "      <td>1.319539e+08</td>\n",
       "      <td>1.319539e+08</td>\n",
       "      <td>1.319539e+08</td>\n",
       "      <td>1.319539e+08</td>\n",
       "      <td>1.319539e+08</td>\n",
       "      <td>1.319539e+08</td>\n",
       "    </tr>\n",
       "    <tr>\n",
       "      <th>mean</th>\n",
       "      <td>3.303849e+02</td>\n",
       "      <td>1.073797e+09</td>\n",
       "      <td>1.643336e+07</td>\n",
       "      <td>1.643352e+07</td>\n",
       "      <td>3.144117e+00</td>\n",
       "      <td>1.534421e+00</td>\n",
       "    </tr>\n",
       "    <tr>\n",
       "      <th>std</th>\n",
       "      <td>1.904591e+02</td>\n",
       "      <td>6.199853e+08</td>\n",
       "      <td>9.505803e+06</td>\n",
       "      <td>9.505803e+06</td>\n",
       "      <td>1.813510e+00</td>\n",
       "      <td>6.901115e-01</td>\n",
       "    </tr>\n",
       "    <tr>\n",
       "      <th>min</th>\n",
       "      <td>1.000000e+00</td>\n",
       "      <td>2.400000e+01</td>\n",
       "      <td>0.000000e+00</td>\n",
       "      <td>2.700000e+01</td>\n",
       "      <td>6.436839e-08</td>\n",
       "      <td>8.631674e-05</td>\n",
       "    </tr>\n",
       "    <tr>\n",
       "      <th>25%</th>\n",
       "      <td>1.650000e+02</td>\n",
       "      <td>5.368332e+08</td>\n",
       "      <td>8.202315e+06</td>\n",
       "      <td>8.202470e+06</td>\n",
       "      <td>1.575369e+00</td>\n",
       "      <td>1.005033e+00</td>\n",
       "    </tr>\n",
       "    <tr>\n",
       "      <th>50%</th>\n",
       "      <td>3.300000e+02</td>\n",
       "      <td>1.073825e+09</td>\n",
       "      <td>1.641943e+07</td>\n",
       "      <td>1.641959e+07</td>\n",
       "      <td>3.141370e+00</td>\n",
       "      <td>1.526995e+00</td>\n",
       "    </tr>\n",
       "    <tr>\n",
       "      <th>75%</th>\n",
       "      <td>4.950000e+02</td>\n",
       "      <td>1.610750e+09</td>\n",
       "      <td>2.465248e+07</td>\n",
       "      <td>2.465266e+07</td>\n",
       "      <td>4.717619e+00</td>\n",
       "      <td>2.054609e+00</td>\n",
       "    </tr>\n",
       "    <tr>\n",
       "      <th>max</th>\n",
       "      <td>6.600000e+02</td>\n",
       "      <td>2.147484e+09</td>\n",
       "      <td>3.553534e+07</td>\n",
       "      <td>3.553541e+07</td>\n",
       "      <td>6.283185e+00</td>\n",
       "      <td>3.141562e+00</td>\n",
       "    </tr>\n",
       "  </tbody>\n",
       "</table>\n",
       "</div>"
      ],
      "text/plain": [
       "           batch_id      event_id  first_pulse_index  last_pulse_index  \\\n",
       "count  1.319539e+08  1.319539e+08       1.319539e+08      1.319539e+08   \n",
       "mean   3.303849e+02  1.073797e+09       1.643336e+07      1.643352e+07   \n",
       "std    1.904591e+02  6.199853e+08       9.505803e+06      9.505803e+06   \n",
       "min    1.000000e+00  2.400000e+01       0.000000e+00      2.700000e+01   \n",
       "25%    1.650000e+02  5.368332e+08       8.202315e+06      8.202470e+06   \n",
       "50%    3.300000e+02  1.073825e+09       1.641943e+07      1.641959e+07   \n",
       "75%    4.950000e+02  1.610750e+09       2.465248e+07      2.465266e+07   \n",
       "max    6.600000e+02  2.147484e+09       3.553534e+07      3.553541e+07   \n",
       "\n",
       "            azimuth        zenith  \n",
       "count  1.319539e+08  1.319539e+08  \n",
       "mean   3.144117e+00  1.534421e+00  \n",
       "std    1.813510e+00  6.901115e-01  \n",
       "min    6.436839e-08  8.631674e-05  \n",
       "25%    1.575369e+00  1.005033e+00  \n",
       "50%    3.141370e+00  1.526995e+00  \n",
       "75%    4.717619e+00  2.054609e+00  \n",
       "max    6.283185e+00  3.141562e+00  "
      ]
     },
     "execution_count": 43,
     "metadata": {},
     "output_type": "execute_result"
    }
   ],
   "source": [
    "meta.describe()"
   ]
  },
  {
   "cell_type": "code",
   "execution_count": 28,
   "id": "ae455b54",
   "metadata": {
    "ExecuteTime": {
     "end_time": "2023-01-22T19:05:07.201102Z",
     "start_time": "2023-01-22T19:04:59.787673Z"
    }
   },
   "outputs": [],
   "source": [
    "batch_id = 1\n",
    "event_id = 24\n",
    "\n",
    "sensors = pd.read_csv(INPUT_PATH / \"sensor_geometry_v2.csv\", index_col=\"sensor_id\")\n",
    "meta = pd.read_parquet(INPUT_PATH / \"train_meta.parquet\").query(f\"batch_id == {batch_id}\")\n",
    "batch = pd.read_parquet(INPUT_PATH / \"train\" / f\"batch_{batch_id}.parquet\")"
   ]
  },
  {
   "cell_type": "code",
   "execution_count": 35,
   "id": "469dec1f",
   "metadata": {
    "ExecuteTime": {
     "end_time": "2023-01-22T19:35:04.641609Z",
     "start_time": "2023-01-22T19:35:04.626638Z"
    }
   },
   "outputs": [
    {
     "name": "stdout",
     "output_type": "stream",
     "text": [
      "<class 'pandas.core.frame.DataFrame'>\n",
      "Int64Index: 200000 entries, 0 to 199999\n",
      "Data columns (total 6 columns):\n",
      " #   Column             Non-Null Count   Dtype  \n",
      "---  ------             --------------   -----  \n",
      " 0   batch_id           200000 non-null  int64  \n",
      " 1   event_id           200000 non-null  Int64  \n",
      " 2   first_pulse_index  200000 non-null  int64  \n",
      " 3   last_pulse_index   200000 non-null  int64  \n",
      " 4   azimuth            200000 non-null  float64\n",
      " 5   zenith             200000 non-null  float64\n",
      "dtypes: Int64(1), float64(2), int64(3)\n",
      "memory usage: 10.9 MB\n"
     ]
    }
   ],
   "source": [
    "meta.info()"
   ]
  },
  {
   "cell_type": "code",
   "execution_count": 29,
   "id": "66fd2e1c",
   "metadata": {
    "ExecuteTime": {
     "end_time": "2023-01-22T19:05:07.217520Z",
     "start_time": "2023-01-22T19:05:07.204006Z"
    }
   },
   "outputs": [
    {
     "data": {
      "text/html": [
       "<div>\n",
       "<style scoped>\n",
       "    .dataframe tbody tr th:only-of-type {\n",
       "        vertical-align: middle;\n",
       "    }\n",
       "\n",
       "    .dataframe tbody tr th {\n",
       "        vertical-align: top;\n",
       "    }\n",
       "\n",
       "    .dataframe thead th {\n",
       "        text-align: right;\n",
       "    }\n",
       "</style>\n",
       "<table border=\"1\" class=\"dataframe\">\n",
       "  <thead>\n",
       "    <tr style=\"text-align: right;\">\n",
       "      <th></th>\n",
       "      <th>x</th>\n",
       "      <th>y</th>\n",
       "      <th>z</th>\n",
       "      <th>string</th>\n",
       "      <th>qe</th>\n",
       "    </tr>\n",
       "    <tr>\n",
       "      <th>sensor_id</th>\n",
       "      <th></th>\n",
       "      <th></th>\n",
       "      <th></th>\n",
       "      <th></th>\n",
       "      <th></th>\n",
       "    </tr>\n",
       "  </thead>\n",
       "  <tbody>\n",
       "    <tr>\n",
       "      <th>0</th>\n",
       "      <td>-256.14</td>\n",
       "      <td>-521.08</td>\n",
       "      <td>496.03</td>\n",
       "      <td>0</td>\n",
       "      <td>1.0</td>\n",
       "    </tr>\n",
       "    <tr>\n",
       "      <th>1</th>\n",
       "      <td>-256.14</td>\n",
       "      <td>-521.08</td>\n",
       "      <td>479.01</td>\n",
       "      <td>0</td>\n",
       "      <td>1.0</td>\n",
       "    </tr>\n",
       "    <tr>\n",
       "      <th>2</th>\n",
       "      <td>-256.14</td>\n",
       "      <td>-521.08</td>\n",
       "      <td>461.99</td>\n",
       "      <td>0</td>\n",
       "      <td>1.0</td>\n",
       "    </tr>\n",
       "    <tr>\n",
       "      <th>3</th>\n",
       "      <td>-256.14</td>\n",
       "      <td>-521.08</td>\n",
       "      <td>444.97</td>\n",
       "      <td>0</td>\n",
       "      <td>1.0</td>\n",
       "    </tr>\n",
       "    <tr>\n",
       "      <th>4</th>\n",
       "      <td>-256.14</td>\n",
       "      <td>-521.08</td>\n",
       "      <td>427.95</td>\n",
       "      <td>0</td>\n",
       "      <td>1.0</td>\n",
       "    </tr>\n",
       "  </tbody>\n",
       "</table>\n",
       "</div>"
      ],
      "text/plain": [
       "                x       y       z  string   qe\n",
       "sensor_id                                     \n",
       "0         -256.14 -521.08  496.03       0  1.0\n",
       "1         -256.14 -521.08  479.01       0  1.0\n",
       "2         -256.14 -521.08  461.99       0  1.0\n",
       "3         -256.14 -521.08  444.97       0  1.0\n",
       "4         -256.14 -521.08  427.95       0  1.0"
      ]
     },
     "execution_count": 29,
     "metadata": {},
     "output_type": "execute_result"
    }
   ],
   "source": [
    "sensors.head()"
   ]
  },
  {
   "cell_type": "code",
   "execution_count": 30,
   "id": "34097b64",
   "metadata": {
    "ExecuteTime": {
     "end_time": "2023-01-22T19:05:07.233639Z",
     "start_time": "2023-01-22T19:05:07.219724Z"
    }
   },
   "outputs": [
    {
     "data": {
      "text/html": [
       "<div>\n",
       "<style scoped>\n",
       "    .dataframe tbody tr th:only-of-type {\n",
       "        vertical-align: middle;\n",
       "    }\n",
       "\n",
       "    .dataframe tbody tr th {\n",
       "        vertical-align: top;\n",
       "    }\n",
       "\n",
       "    .dataframe thead th {\n",
       "        text-align: right;\n",
       "    }\n",
       "</style>\n",
       "<table border=\"1\" class=\"dataframe\">\n",
       "  <thead>\n",
       "    <tr style=\"text-align: right;\">\n",
       "      <th></th>\n",
       "      <th>batch_id</th>\n",
       "      <th>event_id</th>\n",
       "      <th>first_pulse_index</th>\n",
       "      <th>last_pulse_index</th>\n",
       "      <th>azimuth</th>\n",
       "      <th>zenith</th>\n",
       "    </tr>\n",
       "  </thead>\n",
       "  <tbody>\n",
       "    <tr>\n",
       "      <th>0</th>\n",
       "      <td>1</td>\n",
       "      <td>24</td>\n",
       "      <td>0</td>\n",
       "      <td>60</td>\n",
       "      <td>5.029555</td>\n",
       "      <td>2.087498</td>\n",
       "    </tr>\n",
       "    <tr>\n",
       "      <th>1</th>\n",
       "      <td>1</td>\n",
       "      <td>41</td>\n",
       "      <td>61</td>\n",
       "      <td>111</td>\n",
       "      <td>0.417742</td>\n",
       "      <td>1.549686</td>\n",
       "    </tr>\n",
       "    <tr>\n",
       "      <th>2</th>\n",
       "      <td>1</td>\n",
       "      <td>59</td>\n",
       "      <td>112</td>\n",
       "      <td>147</td>\n",
       "      <td>1.160466</td>\n",
       "      <td>2.401942</td>\n",
       "    </tr>\n",
       "    <tr>\n",
       "      <th>3</th>\n",
       "      <td>1</td>\n",
       "      <td>67</td>\n",
       "      <td>148</td>\n",
       "      <td>289</td>\n",
       "      <td>5.845952</td>\n",
       "      <td>0.759054</td>\n",
       "    </tr>\n",
       "    <tr>\n",
       "      <th>4</th>\n",
       "      <td>1</td>\n",
       "      <td>72</td>\n",
       "      <td>290</td>\n",
       "      <td>351</td>\n",
       "      <td>0.653719</td>\n",
       "      <td>0.939117</td>\n",
       "    </tr>\n",
       "  </tbody>\n",
       "</table>\n",
       "</div>"
      ],
      "text/plain": [
       "   batch_id  event_id  first_pulse_index  last_pulse_index   azimuth    zenith\n",
       "0         1        24                  0                60  5.029555  2.087498\n",
       "1         1        41                 61               111  0.417742  1.549686\n",
       "2         1        59                112               147  1.160466  2.401942\n",
       "3         1        67                148               289  5.845952  0.759054\n",
       "4         1        72                290               351  0.653719  0.939117"
      ]
     },
     "execution_count": 30,
     "metadata": {},
     "output_type": "execute_result"
    }
   ],
   "source": [
    "meta.head()"
   ]
  },
  {
   "cell_type": "code",
   "execution_count": 31,
   "id": "fae9e552",
   "metadata": {
    "ExecuteTime": {
     "end_time": "2023-01-22T19:05:07.247308Z",
     "start_time": "2023-01-22T19:05:07.237077Z"
    }
   },
   "outputs": [
    {
     "data": {
      "text/html": [
       "<div>\n",
       "<style scoped>\n",
       "    .dataframe tbody tr th:only-of-type {\n",
       "        vertical-align: middle;\n",
       "    }\n",
       "\n",
       "    .dataframe tbody tr th {\n",
       "        vertical-align: top;\n",
       "    }\n",
       "\n",
       "    .dataframe thead th {\n",
       "        text-align: right;\n",
       "    }\n",
       "</style>\n",
       "<table border=\"1\" class=\"dataframe\">\n",
       "  <thead>\n",
       "    <tr style=\"text-align: right;\">\n",
       "      <th></th>\n",
       "      <th>sensor_id</th>\n",
       "      <th>time</th>\n",
       "      <th>charge</th>\n",
       "      <th>auxiliary</th>\n",
       "    </tr>\n",
       "    <tr>\n",
       "      <th>event_id</th>\n",
       "      <th></th>\n",
       "      <th></th>\n",
       "      <th></th>\n",
       "      <th></th>\n",
       "    </tr>\n",
       "  </thead>\n",
       "  <tbody>\n",
       "    <tr>\n",
       "      <th>24</th>\n",
       "      <td>3918</td>\n",
       "      <td>5928</td>\n",
       "      <td>1.325</td>\n",
       "      <td>True</td>\n",
       "    </tr>\n",
       "    <tr>\n",
       "      <th>24</th>\n",
       "      <td>4157</td>\n",
       "      <td>6115</td>\n",
       "      <td>1.175</td>\n",
       "      <td>True</td>\n",
       "    </tr>\n",
       "    <tr>\n",
       "      <th>24</th>\n",
       "      <td>3520</td>\n",
       "      <td>6492</td>\n",
       "      <td>0.925</td>\n",
       "      <td>True</td>\n",
       "    </tr>\n",
       "    <tr>\n",
       "      <th>24</th>\n",
       "      <td>5041</td>\n",
       "      <td>6665</td>\n",
       "      <td>0.225</td>\n",
       "      <td>True</td>\n",
       "    </tr>\n",
       "    <tr>\n",
       "      <th>24</th>\n",
       "      <td>2948</td>\n",
       "      <td>8054</td>\n",
       "      <td>1.575</td>\n",
       "      <td>True</td>\n",
       "    </tr>\n",
       "  </tbody>\n",
       "</table>\n",
       "</div>"
      ],
      "text/plain": [
       "          sensor_id  time  charge  auxiliary\n",
       "event_id                                    \n",
       "24             3918  5928   1.325       True\n",
       "24             4157  6115   1.175       True\n",
       "24             3520  6492   0.925       True\n",
       "24             5041  6665   0.225       True\n",
       "24             2948  8054   1.575       True"
      ]
     },
     "execution_count": 31,
     "metadata": {},
     "output_type": "execute_result"
    }
   ],
   "source": [
    "batch.head()"
   ]
  },
  {
   "cell_type": "code",
   "execution_count": 32,
   "id": "273f8917",
   "metadata": {
    "ExecuteTime": {
     "end_time": "2023-01-22T19:05:07.263651Z",
     "start_time": "2023-01-22T19:05:07.249739Z"
    }
   },
   "outputs": [
    {
     "data": {
      "text/html": [
       "<div>\n",
       "<style scoped>\n",
       "    .dataframe tbody tr th:only-of-type {\n",
       "        vertical-align: middle;\n",
       "    }\n",
       "\n",
       "    .dataframe tbody tr th {\n",
       "        vertical-align: top;\n",
       "    }\n",
       "\n",
       "    .dataframe thead th {\n",
       "        text-align: right;\n",
       "    }\n",
       "</style>\n",
       "<table border=\"1\" class=\"dataframe\">\n",
       "  <thead>\n",
       "    <tr style=\"text-align: right;\">\n",
       "      <th></th>\n",
       "      <th>x</th>\n",
       "      <th>y</th>\n",
       "      <th>z</th>\n",
       "      <th>string</th>\n",
       "      <th>qe</th>\n",
       "    </tr>\n",
       "    <tr>\n",
       "      <th>sensor_id</th>\n",
       "      <th></th>\n",
       "      <th></th>\n",
       "      <th></th>\n",
       "      <th></th>\n",
       "      <th></th>\n",
       "    </tr>\n",
       "  </thead>\n",
       "  <tbody>\n",
       "    <tr>\n",
       "      <th>0</th>\n",
       "      <td>-256.14</td>\n",
       "      <td>-521.08</td>\n",
       "      <td>496.03</td>\n",
       "      <td>0</td>\n",
       "      <td>1.0</td>\n",
       "    </tr>\n",
       "    <tr>\n",
       "      <th>1</th>\n",
       "      <td>-256.14</td>\n",
       "      <td>-521.08</td>\n",
       "      <td>479.01</td>\n",
       "      <td>0</td>\n",
       "      <td>1.0</td>\n",
       "    </tr>\n",
       "    <tr>\n",
       "      <th>2</th>\n",
       "      <td>-256.14</td>\n",
       "      <td>-521.08</td>\n",
       "      <td>461.99</td>\n",
       "      <td>0</td>\n",
       "      <td>1.0</td>\n",
       "    </tr>\n",
       "    <tr>\n",
       "      <th>3</th>\n",
       "      <td>-256.14</td>\n",
       "      <td>-521.08</td>\n",
       "      <td>444.97</td>\n",
       "      <td>0</td>\n",
       "      <td>1.0</td>\n",
       "    </tr>\n",
       "    <tr>\n",
       "      <th>4</th>\n",
       "      <td>-256.14</td>\n",
       "      <td>-521.08</td>\n",
       "      <td>427.95</td>\n",
       "      <td>0</td>\n",
       "      <td>1.0</td>\n",
       "    </tr>\n",
       "  </tbody>\n",
       "</table>\n",
       "</div>"
      ],
      "text/plain": [
       "                x       y       z  string   qe\n",
       "sensor_id                                     \n",
       "0         -256.14 -521.08  496.03       0  1.0\n",
       "1         -256.14 -521.08  479.01       0  1.0\n",
       "2         -256.14 -521.08  461.99       0  1.0\n",
       "3         -256.14 -521.08  444.97       0  1.0\n",
       "4         -256.14 -521.08  427.95       0  1.0"
      ]
     },
     "execution_count": 32,
     "metadata": {},
     "output_type": "execute_result"
    }
   ],
   "source": [
    "sensors.head()"
   ]
  },
  {
   "cell_type": "code",
   "execution_count": 34,
   "id": "edd2fb02",
   "metadata": {
    "ExecuteTime": {
     "end_time": "2023-01-22T19:05:23.569405Z",
     "start_time": "2023-01-22T19:05:12.820420Z"
    }
   },
   "outputs": [
    {
     "name": "stdout",
     "output_type": "stream",
     "text": [
      "1.33 ms ± 3.93 µs per loop (mean ± std. dev. of 7 runs, 1,000 loops each)\n"
     ]
    }
   ],
   "source": [
    "%%timeit\n",
    "event = pd.merge(batch.loc[event_id], sensors, on=\"sensor_id\")\n",
    "\n",
    "# event = batch.loc[event_id].set_index(\"sensor_id\", drop=True).join(sensors)\n",
    "event"
   ]
  },
  {
   "cell_type": "code",
   "execution_count": 44,
   "id": "5afe87c5",
   "metadata": {
    "ExecuteTime": {
     "end_time": "2023-01-22T16:40:17.591150Z",
     "start_time": "2023-01-22T16:40:17.568654Z"
    }
   },
   "outputs": [
    {
     "data": {
      "text/html": [
       "<div>\n",
       "<style scoped>\n",
       "    .dataframe tbody tr th:only-of-type {\n",
       "        vertical-align: middle;\n",
       "    }\n",
       "\n",
       "    .dataframe tbody tr th {\n",
       "        vertical-align: top;\n",
       "    }\n",
       "\n",
       "    .dataframe thead th {\n",
       "        text-align: right;\n",
       "    }\n",
       "</style>\n",
       "<table border=\"1\" class=\"dataframe\">\n",
       "  <thead>\n",
       "    <tr style=\"text-align: right;\">\n",
       "      <th></th>\n",
       "      <th>x</th>\n",
       "      <th>y</th>\n",
       "      <th>z</th>\n",
       "      <th>time</th>\n",
       "      <th>charge</th>\n",
       "      <th>qe</th>\n",
       "      <th>auxiliary</th>\n",
       "    </tr>\n",
       "  </thead>\n",
       "  <tbody>\n",
       "    <tr>\n",
       "      <th>0</th>\n",
       "      <td>0.60682</td>\n",
       "      <td>0.67128</td>\n",
       "      <td>0.41316</td>\n",
       "      <td>-0.135733</td>\n",
       "      <td>0.040739</td>\n",
       "      <td>1.0</td>\n",
       "      <td>1</td>\n",
       "    </tr>\n",
       "    <tr>\n",
       "      <th>1</th>\n",
       "      <td>-0.29090</td>\n",
       "      <td>0.74848</td>\n",
       "      <td>0.42546</td>\n",
       "      <td>-0.129500</td>\n",
       "      <td>0.023346</td>\n",
       "      <td>1.0</td>\n",
       "      <td>1</td>\n",
       "    </tr>\n",
       "    <tr>\n",
       "      <th>2</th>\n",
       "      <td>1.01054</td>\n",
       "      <td>0.51576</td>\n",
       "      <td>-0.34920</td>\n",
       "      <td>-0.116933</td>\n",
       "      <td>-0.011286</td>\n",
       "      <td>1.0</td>\n",
       "      <td>1</td>\n",
       "    </tr>\n",
       "    <tr>\n",
       "      <th>3</th>\n",
       "      <td>1.01054</td>\n",
       "      <td>0.51576</td>\n",
       "      <td>-0.34920</td>\n",
       "      <td>0.150767</td>\n",
       "      <td>0.040739</td>\n",
       "      <td>1.0</td>\n",
       "      <td>1</td>\n",
       "    </tr>\n",
       "    <tr>\n",
       "      <th>4</th>\n",
       "      <td>-0.01936</td>\n",
       "      <td>-0.15900</td>\n",
       "      <td>0.36200</td>\n",
       "      <td>-0.111167</td>\n",
       "      <td>-0.215939</td>\n",
       "      <td>1.0</td>\n",
       "      <td>1</td>\n",
       "    </tr>\n",
       "    <tr>\n",
       "      <th>...</th>\n",
       "      <td>...</td>\n",
       "      <td>...</td>\n",
       "      <td>...</td>\n",
       "      <td>...</td>\n",
       "      <td>...</td>\n",
       "      <td>...</td>\n",
       "      <td>...</td>\n",
       "    </tr>\n",
       "    <tr>\n",
       "      <th>56</th>\n",
       "      <td>0.76470</td>\n",
       "      <td>0.47780</td>\n",
       "      <td>-0.09224</td>\n",
       "      <td>0.260400</td>\n",
       "      <td>-0.046554</td>\n",
       "      <td>1.0</td>\n",
       "      <td>1</td>\n",
       "    </tr>\n",
       "    <tr>\n",
       "      <th>57</th>\n",
       "      <td>-0.51228</td>\n",
       "      <td>-1.04216</td>\n",
       "      <td>-0.64194</td>\n",
       "      <td>0.268433</td>\n",
       "      <td>-0.003665</td>\n",
       "      <td>1.0</td>\n",
       "      <td>1</td>\n",
       "    </tr>\n",
       "    <tr>\n",
       "      <th>58</th>\n",
       "      <td>0.02374</td>\n",
       "      <td>0.35838</td>\n",
       "      <td>0.08556</td>\n",
       "      <td>0.269833</td>\n",
       "      <td>0.017051</td>\n",
       "      <td>1.0</td>\n",
       "      <td>1</td>\n",
       "    </tr>\n",
       "    <tr>\n",
       "      <th>59</th>\n",
       "      <td>0.02374</td>\n",
       "      <td>0.35838</td>\n",
       "      <td>0.08556</td>\n",
       "      <td>0.270067</td>\n",
       "      <td>0.051272</td>\n",
       "      <td>1.0</td>\n",
       "      <td>1</td>\n",
       "    </tr>\n",
       "    <tr>\n",
       "      <th>60</th>\n",
       "      <td>-0.26560</td>\n",
       "      <td>-1.00290</td>\n",
       "      <td>-0.49768</td>\n",
       "      <td>0.301033</td>\n",
       "      <td>-0.019331</td>\n",
       "      <td>1.0</td>\n",
       "      <td>1</td>\n",
       "    </tr>\n",
       "  </tbody>\n",
       "</table>\n",
       "<p>61 rows × 7 columns</p>\n",
       "</div>"
      ],
      "text/plain": [
       "          x        y        z      time    charge   qe  auxiliary\n",
       "0   0.60682  0.67128  0.41316 -0.135733  0.040739  1.0          1\n",
       "1  -0.29090  0.74848  0.42546 -0.129500  0.023346  1.0          1\n",
       "2   1.01054  0.51576 -0.34920 -0.116933 -0.011286  1.0          1\n",
       "3   1.01054  0.51576 -0.34920  0.150767  0.040739  1.0          1\n",
       "4  -0.01936 -0.15900  0.36200 -0.111167 -0.215939  1.0          1\n",
       "..      ...      ...      ...       ...       ...  ...        ...\n",
       "56  0.76470  0.47780 -0.09224  0.260400 -0.046554  1.0          1\n",
       "57 -0.51228 -1.04216 -0.64194  0.268433 -0.003665  1.0          1\n",
       "58  0.02374  0.35838  0.08556  0.269833  0.017051  1.0          1\n",
       "59  0.02374  0.35838  0.08556  0.270067  0.051272  1.0          1\n",
       "60 -0.26560 -1.00290 -0.49768  0.301033 -0.019331  1.0          1\n",
       "\n",
       "[61 rows x 7 columns]"
      ]
     },
     "execution_count": 44,
     "metadata": {},
     "output_type": "execute_result"
    }
   ],
   "source": [
    "def preprocessing(event):\n",
    "    event[\"x\"] /= 500\n",
    "    event[\"y\"] /= 500\n",
    "    event[\"z\"] /= 500\n",
    "    event[\"time\"] = (event[\"time\"] - 1.0e04) / 3.0e4\n",
    "    event[\"charge\"] = np.log10(event[\"charge\"]) / 3.0\n",
    "    event[\"auxiliary\"] = event[\"auxiliary\"].astype(int)\n",
    "    \n",
    "    return event[[\"x\", \"y\", \"z\", \"time\", \"charge\", \"qe\", \"auxiliary\"]]\n",
    "\n",
    "\n",
    "event = preprocessing(event)\n",
    "event"
   ]
  },
  {
   "cell_type": "code",
   "execution_count": 45,
   "id": "4cf12986",
   "metadata": {
    "ExecuteTime": {
     "end_time": "2023-01-22T16:40:17.625105Z",
     "start_time": "2023-01-22T16:40:17.594175Z"
    }
   },
   "outputs": [
    {
     "data": {
      "text/html": [
       "<div>\n",
       "<style scoped>\n",
       "    .dataframe tbody tr th:only-of-type {\n",
       "        vertical-align: middle;\n",
       "    }\n",
       "\n",
       "    .dataframe tbody tr th {\n",
       "        vertical-align: top;\n",
       "    }\n",
       "\n",
       "    .dataframe thead th {\n",
       "        text-align: right;\n",
       "    }\n",
       "</style>\n",
       "<table border=\"1\" class=\"dataframe\">\n",
       "  <thead>\n",
       "    <tr style=\"text-align: right;\">\n",
       "      <th></th>\n",
       "      <th>x</th>\n",
       "      <th>y</th>\n",
       "      <th>z</th>\n",
       "      <th>time</th>\n",
       "      <th>charge</th>\n",
       "      <th>qe</th>\n",
       "      <th>auxiliary</th>\n",
       "    </tr>\n",
       "  </thead>\n",
       "  <tbody>\n",
       "    <tr>\n",
       "      <th>count</th>\n",
       "      <td>61.000000</td>\n",
       "      <td>61.000000</td>\n",
       "      <td>61.000000</td>\n",
       "      <td>61.000000</td>\n",
       "      <td>61.000000</td>\n",
       "      <td>61.000000</td>\n",
       "      <td>61.000000</td>\n",
       "    </tr>\n",
       "    <tr>\n",
       "      <th>mean</th>\n",
       "      <td>0.023824</td>\n",
       "      <td>-0.058633</td>\n",
       "      <td>0.052818</td>\n",
       "      <td>0.092286</td>\n",
       "      <td>-0.020030</td>\n",
       "      <td>1.034426</td>\n",
       "      <td>0.786885</td>\n",
       "    </tr>\n",
       "    <tr>\n",
       "      <th>std</th>\n",
       "      <td>0.610632</td>\n",
       "      <td>0.520048</td>\n",
       "      <td>0.502226</td>\n",
       "      <td>0.113998</td>\n",
       "      <td>0.078332</td>\n",
       "      <td>0.105096</td>\n",
       "      <td>0.412907</td>\n",
       "    </tr>\n",
       "    <tr>\n",
       "      <th>min</th>\n",
       "      <td>-1.053260</td>\n",
       "      <td>-1.042160</td>\n",
       "      <td>-0.876160</td>\n",
       "      <td>-0.135733</td>\n",
       "      <td>-0.252321</td>\n",
       "      <td>1.000000</td>\n",
       "      <td>0.000000</td>\n",
       "    </tr>\n",
       "    <tr>\n",
       "      <th>25%</th>\n",
       "      <td>-0.469900</td>\n",
       "      <td>-0.535040</td>\n",
       "      <td>-0.410940</td>\n",
       "      <td>0.021400</td>\n",
       "      <td>-0.046554</td>\n",
       "      <td>1.000000</td>\n",
       "      <td>1.000000</td>\n",
       "    </tr>\n",
       "    <tr>\n",
       "      <th>50%</th>\n",
       "      <td>0.023740</td>\n",
       "      <td>-0.031200</td>\n",
       "      <td>0.204360</td>\n",
       "      <td>0.086900</td>\n",
       "      <td>-0.011286</td>\n",
       "      <td>1.000000</td>\n",
       "      <td>1.000000</td>\n",
       "    </tr>\n",
       "    <tr>\n",
       "      <th>75%</th>\n",
       "      <td>0.317880</td>\n",
       "      <td>0.358380</td>\n",
       "      <td>0.424260</td>\n",
       "      <td>0.187800</td>\n",
       "      <td>0.029379</td>\n",
       "      <td>1.000000</td>\n",
       "      <td>1.000000</td>\n",
       "    </tr>\n",
       "    <tr>\n",
       "      <th>max</th>\n",
       "      <td>1.152740</td>\n",
       "      <td>0.980440</td>\n",
       "      <td>0.999020</td>\n",
       "      <td>0.301033</td>\n",
       "      <td>0.199779</td>\n",
       "      <td>1.350000</td>\n",
       "      <td>1.000000</td>\n",
       "    </tr>\n",
       "  </tbody>\n",
       "</table>\n",
       "</div>"
      ],
      "text/plain": [
       "               x          y          z       time     charge         qe  \\\n",
       "count  61.000000  61.000000  61.000000  61.000000  61.000000  61.000000   \n",
       "mean    0.023824  -0.058633   0.052818   0.092286  -0.020030   1.034426   \n",
       "std     0.610632   0.520048   0.502226   0.113998   0.078332   0.105096   \n",
       "min    -1.053260  -1.042160  -0.876160  -0.135733  -0.252321   1.000000   \n",
       "25%    -0.469900  -0.535040  -0.410940   0.021400  -0.046554   1.000000   \n",
       "50%     0.023740  -0.031200   0.204360   0.086900  -0.011286   1.000000   \n",
       "75%     0.317880   0.358380   0.424260   0.187800   0.029379   1.000000   \n",
       "max     1.152740   0.980440   0.999020   0.301033   0.199779   1.350000   \n",
       "\n",
       "       auxiliary  \n",
       "count  61.000000  \n",
       "mean    0.786885  \n",
       "std     0.412907  \n",
       "min     0.000000  \n",
       "25%     1.000000  \n",
       "50%     1.000000  \n",
       "75%     1.000000  \n",
       "max     1.000000  "
      ]
     },
     "execution_count": 45,
     "metadata": {},
     "output_type": "execute_result"
    }
   ],
   "source": [
    "event.describe()"
   ]
  },
  {
   "cell_type": "code",
   "execution_count": 46,
   "id": "a41f6b46",
   "metadata": {
    "ExecuteTime": {
     "end_time": "2023-01-22T16:40:17.632511Z",
     "start_time": "2023-01-22T16:40:17.627543Z"
    }
   },
   "outputs": [
    {
     "data": {
      "text/plain": [
       "(torch.Size([61, 7]), torch.float32)"
      ]
     },
     "execution_count": 46,
     "metadata": {},
     "output_type": "execute_result"
    }
   ],
   "source": [
    "x = torch.tensor(event.values, dtype=torch.float32)\n",
    "x.shape, x.dtype"
   ]
  },
  {
   "cell_type": "code",
   "execution_count": 56,
   "id": "c3ceca5d",
   "metadata": {
    "ExecuteTime": {
     "end_time": "2023-01-22T17:06:04.001377Z",
     "start_time": "2023-01-22T17:06:03.991318Z"
    }
   },
   "outputs": [
    {
     "data": {
      "text/plain": [
       "tensor([[5.0296, 2.0875]])"
      ]
     },
     "execution_count": 56,
     "metadata": {},
     "output_type": "execute_result"
    }
   ],
   "source": [
    "target = meta.query(f\"batch_id == {batch_id} & event_id == {event_id}\")\n",
    "y = torch.tensor(target[[\"azimuth\", \"zenith\"]].values, dtype=torch.float32)\n",
    "y"
   ]
  },
  {
   "cell_type": "code",
   "execution_count": 57,
   "id": "0c308a37",
   "metadata": {
    "ExecuteTime": {
     "end_time": "2023-01-22T17:06:09.176143Z",
     "start_time": "2023-01-22T17:06:09.170638Z"
    }
   },
   "outputs": [
    {
     "data": {
      "text/plain": [
       "Data(x=[61, 7], y=[1, 2], n_pulses=61)"
      ]
     },
     "execution_count": 57,
     "metadata": {},
     "output_type": "execute_result"
    }
   ],
   "source": [
    "data = Data(x=x, y=y)\n",
    "data.n_pulses = torch.tensor(x.shape[0], dtype=torch.int32)\n",
    "data"
   ]
  },
  {
   "cell_type": "code",
   "execution_count": 48,
   "id": "d13391e3",
   "metadata": {
    "ExecuteTime": {
     "end_time": "2023-01-22T16:40:17.651867Z",
     "start_time": "2023-01-22T16:40:17.645699Z"
    }
   },
   "outputs": [
    {
     "data": {
      "text/plain": [
       "Data(x=[61, 7], n_pulses=61, edge_index=[2, 488])"
      ]
     },
     "execution_count": 48,
     "metadata": {},
     "output_type": "execute_result"
    }
   ],
   "source": [
    "builder = KNNGraphBuilder(nb_nearest_neighbours=8)\n",
    "\n",
    "data_out = builder(data)\n",
    "data_out"
   ]
  },
  {
   "cell_type": "code",
   "execution_count": 49,
   "id": "81d9ab13",
   "metadata": {
    "ExecuteTime": {
     "end_time": "2023-01-22T16:40:17.660601Z",
     "start_time": "2023-01-22T16:40:17.654450Z"
    }
   },
   "outputs": [
    {
     "data": {
      "text/plain": [
       "DataBatch(x=[122, 7], n_pulses=[2], edge_index=[2, 976], batch=[122], ptr=[3])"
      ]
     },
     "execution_count": 49,
     "metadata": {},
     "output_type": "execute_result"
    }
   ],
   "source": [
    "# In final version use a PTGeo dataset & dataloader\n",
    "batch = Batch.from_data_list([data_out, data_out])\n",
    "batch"
   ]
  },
  {
   "cell_type": "code",
   "execution_count": 50,
   "id": "d0d88b43",
   "metadata": {
    "ExecuteTime": {
     "end_time": "2023-01-22T16:40:17.688274Z",
     "start_time": "2023-01-22T16:40:17.663402Z"
    }
   },
   "outputs": [],
   "source": [
    "model = DynEdge(nb_inputs=7, global_pooling_schemes=[\"min\", \"max\", \"mean\", \"sum\"])"
   ]
  },
  {
   "cell_type": "code",
   "execution_count": 51,
   "id": "58c7bd15",
   "metadata": {
    "ExecuteTime": {
     "end_time": "2023-01-22T16:40:17.822656Z",
     "start_time": "2023-01-22T16:40:17.690589Z"
    }
   },
   "outputs": [
    {
     "data": {
      "text/plain": [
       "torch.Size([2, 128])"
      ]
     },
     "execution_count": 51,
     "metadata": {},
     "output_type": "execute_result"
    }
   ],
   "source": [
    "out = model(batch)\n",
    "out.shape"
   ]
  },
  {
   "cell_type": "code",
   "execution_count": 52,
   "id": "2e51cffa",
   "metadata": {
    "ExecuteTime": {
     "end_time": "2023-01-22T16:40:17.827265Z",
     "start_time": "2023-01-22T16:40:17.824471Z"
    }
   },
   "outputs": [],
   "source": [
    "torch.save(data, \"test.pt\")"
   ]
  },
  {
   "cell_type": "code",
   "execution_count": 53,
   "id": "2f385af5",
   "metadata": {
    "ExecuteTime": {
     "end_time": "2023-01-22T16:40:17.835345Z",
     "start_time": "2023-01-22T16:40:17.828886Z"
    }
   },
   "outputs": [
    {
     "data": {
      "text/plain": [
       "Data(x=[61, 7], n_pulses=61, edge_index=[2, 488])"
      ]
     },
     "execution_count": 53,
     "metadata": {},
     "output_type": "execute_result"
    }
   ],
   "source": [
    "test = torch.load(\"test.pt\")\n",
    "test"
   ]
  },
  {
   "cell_type": "code",
   "execution_count": null,
   "id": "2d541417",
   "metadata": {},
   "outputs": [],
   "source": []
  },
  {
   "cell_type": "code",
   "execution_count": null,
   "id": "03a3ac91",
   "metadata": {},
   "outputs": [],
   "source": []
  }
 ],
 "metadata": {
  "kernelspec": {
   "display_name": "kaggle",
   "language": "python",
   "name": "kaggle"
  },
  "language_info": {
   "codemirror_mode": {
    "name": "ipython",
    "version": 3
   },
   "file_extension": ".py",
   "mimetype": "text/x-python",
   "name": "python",
   "nbconvert_exporter": "python",
   "pygments_lexer": "ipython3",
   "version": "3.10.8"
  },
  "toc": {
   "base_numbering": 1,
   "nav_menu": {},
   "number_sections": true,
   "sideBar": true,
   "skip_h1_title": false,
   "title_cell": "Table of Contents",
   "title_sidebar": "Contents",
   "toc_cell": false,
   "toc_position": {},
   "toc_section_display": true,
   "toc_window_display": false
  }
 },
 "nbformat": 4,
 "nbformat_minor": 5
}
