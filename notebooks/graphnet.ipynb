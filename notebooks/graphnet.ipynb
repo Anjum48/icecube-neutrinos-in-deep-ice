{
 "cells": [
  {
   "cell_type": "code",
   "execution_count": 13,
   "id": "76d857af",
   "metadata": {
    "ExecuteTime": {
     "end_time": "2023-01-22T16:14:58.347212Z",
     "start_time": "2023-01-22T16:14:58.342804Z"
    }
   },
   "outputs": [],
   "source": [
    "import sys\n",
    "COMP_NAME = \"icecube-neutrinos-in-deep-ice\"\n",
    "sys.path.append(f\"/home/anjum/kaggle/{COMP_NAME}/\")\n",
    "\n",
    "import pandas as pd\n",
    "import numpy as np\n",
    "import torch\n",
    "\n",
    "from torch_geometric.data import Data, Batch\n",
    "from torch_geometric.loader import DataLoader\n",
    "\n",
    "from graphnet.models.gnn import DynEdge\n",
    "from graphnet.models.graph_builders import KNNGraphBuilder\n",
    "\n",
    "from src.config import INPUT_PATH, OUTPUT_PATH"
   ]
  },
  {
   "cell_type": "code",
   "execution_count": 39,
   "id": "ae455b54",
   "metadata": {
    "ExecuteTime": {
     "end_time": "2023-01-22T16:40:17.127587Z",
     "start_time": "2023-01-22T16:40:08.980173Z"
    }
   },
   "outputs": [],
   "source": [
    "batch_id = 1\n",
    "event_id = 24\n",
    "\n",
    "sensors = pd.read_csv(INPUT_PATH / \"sensor_geometry_v2.csv\")\n",
    "meta = pd.read_parquet(INPUT_PATH / \"train_meta.parquet\").query(f\"batch_id == {batch_id}\")\n",
    "batch = pd.read_parquet(INPUT_PATH / \"train\" / f\"batch_{batch_id}.parquet\")"
   ]
  },
  {
   "cell_type": "code",
   "execution_count": 40,
   "id": "34097b64",
   "metadata": {
    "ExecuteTime": {
     "end_time": "2023-01-22T16:40:17.140826Z",
     "start_time": "2023-01-22T16:40:17.129982Z"
    }
   },
   "outputs": [
    {
     "data": {
      "text/html": [
       "<div>\n",
       "<style scoped>\n",
       "    .dataframe tbody tr th:only-of-type {\n",
       "        vertical-align: middle;\n",
       "    }\n",
       "\n",
       "    .dataframe tbody tr th {\n",
       "        vertical-align: top;\n",
       "    }\n",
       "\n",
       "    .dataframe thead th {\n",
       "        text-align: right;\n",
       "    }\n",
       "</style>\n",
       "<table border=\"1\" class=\"dataframe\">\n",
       "  <thead>\n",
       "    <tr style=\"text-align: right;\">\n",
       "      <th></th>\n",
       "      <th>batch_id</th>\n",
       "      <th>event_id</th>\n",
       "      <th>first_pulse_index</th>\n",
       "      <th>last_pulse_index</th>\n",
       "      <th>azimuth</th>\n",
       "      <th>zenith</th>\n",
       "    </tr>\n",
       "  </thead>\n",
       "  <tbody>\n",
       "    <tr>\n",
       "      <th>0</th>\n",
       "      <td>1</td>\n",
       "      <td>24</td>\n",
       "      <td>0</td>\n",
       "      <td>60</td>\n",
       "      <td>5.029555</td>\n",
       "      <td>2.087498</td>\n",
       "    </tr>\n",
       "    <tr>\n",
       "      <th>1</th>\n",
       "      <td>1</td>\n",
       "      <td>41</td>\n",
       "      <td>61</td>\n",
       "      <td>111</td>\n",
       "      <td>0.417742</td>\n",
       "      <td>1.549686</td>\n",
       "    </tr>\n",
       "    <tr>\n",
       "      <th>2</th>\n",
       "      <td>1</td>\n",
       "      <td>59</td>\n",
       "      <td>112</td>\n",
       "      <td>147</td>\n",
       "      <td>1.160466</td>\n",
       "      <td>2.401942</td>\n",
       "    </tr>\n",
       "    <tr>\n",
       "      <th>3</th>\n",
       "      <td>1</td>\n",
       "      <td>67</td>\n",
       "      <td>148</td>\n",
       "      <td>289</td>\n",
       "      <td>5.845952</td>\n",
       "      <td>0.759054</td>\n",
       "    </tr>\n",
       "    <tr>\n",
       "      <th>4</th>\n",
       "      <td>1</td>\n",
       "      <td>72</td>\n",
       "      <td>290</td>\n",
       "      <td>351</td>\n",
       "      <td>0.653719</td>\n",
       "      <td>0.939117</td>\n",
       "    </tr>\n",
       "  </tbody>\n",
       "</table>\n",
       "</div>"
      ],
      "text/plain": [
       "   batch_id  event_id  first_pulse_index  last_pulse_index   azimuth    zenith\n",
       "0         1        24                  0                60  5.029555  2.087498\n",
       "1         1        41                 61               111  0.417742  1.549686\n",
       "2         1        59                112               147  1.160466  2.401942\n",
       "3         1        67                148               289  5.845952  0.759054\n",
       "4         1        72                290               351  0.653719  0.939117"
      ]
     },
     "execution_count": 40,
     "metadata": {},
     "output_type": "execute_result"
    }
   ],
   "source": [
    "meta.head()"
   ]
  },
  {
   "cell_type": "code",
   "execution_count": 41,
   "id": "fae9e552",
   "metadata": {
    "ExecuteTime": {
     "end_time": "2023-01-22T16:40:17.154356Z",
     "start_time": "2023-01-22T16:40:17.142394Z"
    }
   },
   "outputs": [
    {
     "data": {
      "text/html": [
       "<div>\n",
       "<style scoped>\n",
       "    .dataframe tbody tr th:only-of-type {\n",
       "        vertical-align: middle;\n",
       "    }\n",
       "\n",
       "    .dataframe tbody tr th {\n",
       "        vertical-align: top;\n",
       "    }\n",
       "\n",
       "    .dataframe thead th {\n",
       "        text-align: right;\n",
       "    }\n",
       "</style>\n",
       "<table border=\"1\" class=\"dataframe\">\n",
       "  <thead>\n",
       "    <tr style=\"text-align: right;\">\n",
       "      <th></th>\n",
       "      <th>sensor_id</th>\n",
       "      <th>time</th>\n",
       "      <th>charge</th>\n",
       "      <th>auxiliary</th>\n",
       "    </tr>\n",
       "    <tr>\n",
       "      <th>event_id</th>\n",
       "      <th></th>\n",
       "      <th></th>\n",
       "      <th></th>\n",
       "      <th></th>\n",
       "    </tr>\n",
       "  </thead>\n",
       "  <tbody>\n",
       "    <tr>\n",
       "      <th>24</th>\n",
       "      <td>3918</td>\n",
       "      <td>5928</td>\n",
       "      <td>1.325</td>\n",
       "      <td>True</td>\n",
       "    </tr>\n",
       "    <tr>\n",
       "      <th>24</th>\n",
       "      <td>4157</td>\n",
       "      <td>6115</td>\n",
       "      <td>1.175</td>\n",
       "      <td>True</td>\n",
       "    </tr>\n",
       "    <tr>\n",
       "      <th>24</th>\n",
       "      <td>3520</td>\n",
       "      <td>6492</td>\n",
       "      <td>0.925</td>\n",
       "      <td>True</td>\n",
       "    </tr>\n",
       "    <tr>\n",
       "      <th>24</th>\n",
       "      <td>5041</td>\n",
       "      <td>6665</td>\n",
       "      <td>0.225</td>\n",
       "      <td>True</td>\n",
       "    </tr>\n",
       "    <tr>\n",
       "      <th>24</th>\n",
       "      <td>2948</td>\n",
       "      <td>8054</td>\n",
       "      <td>1.575</td>\n",
       "      <td>True</td>\n",
       "    </tr>\n",
       "  </tbody>\n",
       "</table>\n",
       "</div>"
      ],
      "text/plain": [
       "          sensor_id  time  charge  auxiliary\n",
       "event_id                                    \n",
       "24             3918  5928   1.325       True\n",
       "24             4157  6115   1.175       True\n",
       "24             3520  6492   0.925       True\n",
       "24             5041  6665   0.225       True\n",
       "24             2948  8054   1.575       True"
      ]
     },
     "execution_count": 41,
     "metadata": {},
     "output_type": "execute_result"
    }
   ],
   "source": [
    "batch.head()"
   ]
  },
  {
   "cell_type": "code",
   "execution_count": 42,
   "id": "273f8917",
   "metadata": {
    "ExecuteTime": {
     "end_time": "2023-01-22T16:40:17.165740Z",
     "start_time": "2023-01-22T16:40:17.156266Z"
    }
   },
   "outputs": [
    {
     "data": {
      "text/html": [
       "<div>\n",
       "<style scoped>\n",
       "    .dataframe tbody tr th:only-of-type {\n",
       "        vertical-align: middle;\n",
       "    }\n",
       "\n",
       "    .dataframe tbody tr th {\n",
       "        vertical-align: top;\n",
       "    }\n",
       "\n",
       "    .dataframe thead th {\n",
       "        text-align: right;\n",
       "    }\n",
       "</style>\n",
       "<table border=\"1\" class=\"dataframe\">\n",
       "  <thead>\n",
       "    <tr style=\"text-align: right;\">\n",
       "      <th></th>\n",
       "      <th>sensor_id</th>\n",
       "      <th>x</th>\n",
       "      <th>y</th>\n",
       "      <th>z</th>\n",
       "      <th>string</th>\n",
       "      <th>qe</th>\n",
       "    </tr>\n",
       "  </thead>\n",
       "  <tbody>\n",
       "    <tr>\n",
       "      <th>0</th>\n",
       "      <td>0</td>\n",
       "      <td>-256.14</td>\n",
       "      <td>-521.08</td>\n",
       "      <td>496.03</td>\n",
       "      <td>0</td>\n",
       "      <td>1.0</td>\n",
       "    </tr>\n",
       "    <tr>\n",
       "      <th>1</th>\n",
       "      <td>1</td>\n",
       "      <td>-256.14</td>\n",
       "      <td>-521.08</td>\n",
       "      <td>479.01</td>\n",
       "      <td>0</td>\n",
       "      <td>1.0</td>\n",
       "    </tr>\n",
       "    <tr>\n",
       "      <th>2</th>\n",
       "      <td>2</td>\n",
       "      <td>-256.14</td>\n",
       "      <td>-521.08</td>\n",
       "      <td>461.99</td>\n",
       "      <td>0</td>\n",
       "      <td>1.0</td>\n",
       "    </tr>\n",
       "    <tr>\n",
       "      <th>3</th>\n",
       "      <td>3</td>\n",
       "      <td>-256.14</td>\n",
       "      <td>-521.08</td>\n",
       "      <td>444.97</td>\n",
       "      <td>0</td>\n",
       "      <td>1.0</td>\n",
       "    </tr>\n",
       "    <tr>\n",
       "      <th>4</th>\n",
       "      <td>4</td>\n",
       "      <td>-256.14</td>\n",
       "      <td>-521.08</td>\n",
       "      <td>427.95</td>\n",
       "      <td>0</td>\n",
       "      <td>1.0</td>\n",
       "    </tr>\n",
       "  </tbody>\n",
       "</table>\n",
       "</div>"
      ],
      "text/plain": [
       "   sensor_id       x       y       z  string   qe\n",
       "0          0 -256.14 -521.08  496.03       0  1.0\n",
       "1          1 -256.14 -521.08  479.01       0  1.0\n",
       "2          2 -256.14 -521.08  461.99       0  1.0\n",
       "3          3 -256.14 -521.08  444.97       0  1.0\n",
       "4          4 -256.14 -521.08  427.95       0  1.0"
      ]
     },
     "execution_count": 42,
     "metadata": {},
     "output_type": "execute_result"
    }
   ],
   "source": [
    "sensors.head()"
   ]
  },
  {
   "cell_type": "code",
   "execution_count": 43,
   "id": "edd2fb02",
   "metadata": {
    "ExecuteTime": {
     "end_time": "2023-01-22T16:40:17.566209Z",
     "start_time": "2023-01-22T16:40:17.167306Z"
    }
   },
   "outputs": [
    {
     "data": {
      "text/html": [
       "<div>\n",
       "<style scoped>\n",
       "    .dataframe tbody tr th:only-of-type {\n",
       "        vertical-align: middle;\n",
       "    }\n",
       "\n",
       "    .dataframe tbody tr th {\n",
       "        vertical-align: top;\n",
       "    }\n",
       "\n",
       "    .dataframe thead th {\n",
       "        text-align: right;\n",
       "    }\n",
       "</style>\n",
       "<table border=\"1\" class=\"dataframe\">\n",
       "  <thead>\n",
       "    <tr style=\"text-align: right;\">\n",
       "      <th></th>\n",
       "      <th>sensor_id</th>\n",
       "      <th>time</th>\n",
       "      <th>charge</th>\n",
       "      <th>auxiliary</th>\n",
       "      <th>x</th>\n",
       "      <th>y</th>\n",
       "      <th>z</th>\n",
       "      <th>string</th>\n",
       "      <th>qe</th>\n",
       "    </tr>\n",
       "  </thead>\n",
       "  <tbody>\n",
       "    <tr>\n",
       "      <th>0</th>\n",
       "      <td>3918</td>\n",
       "      <td>5928</td>\n",
       "      <td>1.325</td>\n",
       "      <td>True</td>\n",
       "      <td>303.41</td>\n",
       "      <td>335.64</td>\n",
       "      <td>206.58</td>\n",
       "      <td>65</td>\n",
       "      <td>1.0</td>\n",
       "    </tr>\n",
       "    <tr>\n",
       "      <th>1</th>\n",
       "      <td>4157</td>\n",
       "      <td>6115</td>\n",
       "      <td>1.175</td>\n",
       "      <td>True</td>\n",
       "      <td>-145.45</td>\n",
       "      <td>374.24</td>\n",
       "      <td>212.73</td>\n",
       "      <td>69</td>\n",
       "      <td>1.0</td>\n",
       "    </tr>\n",
       "    <tr>\n",
       "      <th>2</th>\n",
       "      <td>3520</td>\n",
       "      <td>6492</td>\n",
       "      <td>0.925</td>\n",
       "      <td>True</td>\n",
       "      <td>505.27</td>\n",
       "      <td>257.88</td>\n",
       "      <td>-174.60</td>\n",
       "      <td>58</td>\n",
       "      <td>1.0</td>\n",
       "    </tr>\n",
       "    <tr>\n",
       "      <th>3</th>\n",
       "      <td>3520</td>\n",
       "      <td>14523</td>\n",
       "      <td>1.325</td>\n",
       "      <td>True</td>\n",
       "      <td>505.27</td>\n",
       "      <td>257.88</td>\n",
       "      <td>-174.60</td>\n",
       "      <td>58</td>\n",
       "      <td>1.0</td>\n",
       "    </tr>\n",
       "    <tr>\n",
       "      <th>4</th>\n",
       "      <td>5041</td>\n",
       "      <td>6665</td>\n",
       "      <td>0.225</td>\n",
       "      <td>True</td>\n",
       "      <td>-9.68</td>\n",
       "      <td>-79.50</td>\n",
       "      <td>181.00</td>\n",
       "      <td>84</td>\n",
       "      <td>1.0</td>\n",
       "    </tr>\n",
       "    <tr>\n",
       "      <th>...</th>\n",
       "      <td>...</td>\n",
       "      <td>...</td>\n",
       "      <td>...</td>\n",
       "      <td>...</td>\n",
       "      <td>...</td>\n",
       "      <td>...</td>\n",
       "      <td>...</td>\n",
       "      <td>...</td>\n",
       "      <td>...</td>\n",
       "    </tr>\n",
       "    <tr>\n",
       "      <th>56</th>\n",
       "      <td>3452</td>\n",
       "      <td>17812</td>\n",
       "      <td>0.725</td>\n",
       "      <td>True</td>\n",
       "      <td>382.35</td>\n",
       "      <td>238.90</td>\n",
       "      <td>-46.12</td>\n",
       "      <td>57</td>\n",
       "      <td>1.0</td>\n",
       "    </tr>\n",
       "    <tr>\n",
       "      <th>57</th>\n",
       "      <td>48</td>\n",
       "      <td>18053</td>\n",
       "      <td>0.975</td>\n",
       "      <td>True</td>\n",
       "      <td>-256.14</td>\n",
       "      <td>-521.08</td>\n",
       "      <td>-320.97</td>\n",
       "      <td>0</td>\n",
       "      <td>1.0</td>\n",
       "    </tr>\n",
       "    <tr>\n",
       "      <th>58</th>\n",
       "      <td>3267</td>\n",
       "      <td>18095</td>\n",
       "      <td>1.125</td>\n",
       "      <td>True</td>\n",
       "      <td>11.87</td>\n",
       "      <td>179.19</td>\n",
       "      <td>42.78</td>\n",
       "      <td>54</td>\n",
       "      <td>1.0</td>\n",
       "    </tr>\n",
       "    <tr>\n",
       "      <th>59</th>\n",
       "      <td>3267</td>\n",
       "      <td>18102</td>\n",
       "      <td>1.425</td>\n",
       "      <td>True</td>\n",
       "      <td>11.87</td>\n",
       "      <td>179.19</td>\n",
       "      <td>42.78</td>\n",
       "      <td>54</td>\n",
       "      <td>1.0</td>\n",
       "    </tr>\n",
       "    <tr>\n",
       "      <th>60</th>\n",
       "      <td>104</td>\n",
       "      <td>19031</td>\n",
       "      <td>0.875</td>\n",
       "      <td>True</td>\n",
       "      <td>-132.80</td>\n",
       "      <td>-501.45</td>\n",
       "      <td>-248.84</td>\n",
       "      <td>1</td>\n",
       "      <td>1.0</td>\n",
       "    </tr>\n",
       "  </tbody>\n",
       "</table>\n",
       "<p>61 rows × 9 columns</p>\n",
       "</div>"
      ],
      "text/plain": [
       "    sensor_id   time  charge  auxiliary       x       y       z  string   qe\n",
       "0        3918   5928   1.325       True  303.41  335.64  206.58      65  1.0\n",
       "1        4157   6115   1.175       True -145.45  374.24  212.73      69  1.0\n",
       "2        3520   6492   0.925       True  505.27  257.88 -174.60      58  1.0\n",
       "3        3520  14523   1.325       True  505.27  257.88 -174.60      58  1.0\n",
       "4        5041   6665   0.225       True   -9.68  -79.50  181.00      84  1.0\n",
       "..        ...    ...     ...        ...     ...     ...     ...     ...  ...\n",
       "56       3452  17812   0.725       True  382.35  238.90  -46.12      57  1.0\n",
       "57         48  18053   0.975       True -256.14 -521.08 -320.97       0  1.0\n",
       "58       3267  18095   1.125       True   11.87  179.19   42.78      54  1.0\n",
       "59       3267  18102   1.425       True   11.87  179.19   42.78      54  1.0\n",
       "60        104  19031   0.875       True -132.80 -501.45 -248.84       1  1.0\n",
       "\n",
       "[61 rows x 9 columns]"
      ]
     },
     "execution_count": 43,
     "metadata": {},
     "output_type": "execute_result"
    }
   ],
   "source": [
    "event = pd.merge(batch.loc[event_id], sensors, on=\"sensor_id\")\n",
    "event"
   ]
  },
  {
   "cell_type": "code",
   "execution_count": 44,
   "id": "5afe87c5",
   "metadata": {
    "ExecuteTime": {
     "end_time": "2023-01-22T16:40:17.591150Z",
     "start_time": "2023-01-22T16:40:17.568654Z"
    }
   },
   "outputs": [
    {
     "data": {
      "text/html": [
       "<div>\n",
       "<style scoped>\n",
       "    .dataframe tbody tr th:only-of-type {\n",
       "        vertical-align: middle;\n",
       "    }\n",
       "\n",
       "    .dataframe tbody tr th {\n",
       "        vertical-align: top;\n",
       "    }\n",
       "\n",
       "    .dataframe thead th {\n",
       "        text-align: right;\n",
       "    }\n",
       "</style>\n",
       "<table border=\"1\" class=\"dataframe\">\n",
       "  <thead>\n",
       "    <tr style=\"text-align: right;\">\n",
       "      <th></th>\n",
       "      <th>x</th>\n",
       "      <th>y</th>\n",
       "      <th>z</th>\n",
       "      <th>time</th>\n",
       "      <th>charge</th>\n",
       "      <th>qe</th>\n",
       "      <th>auxiliary</th>\n",
       "    </tr>\n",
       "  </thead>\n",
       "  <tbody>\n",
       "    <tr>\n",
       "      <th>0</th>\n",
       "      <td>0.60682</td>\n",
       "      <td>0.67128</td>\n",
       "      <td>0.41316</td>\n",
       "      <td>-0.135733</td>\n",
       "      <td>0.040739</td>\n",
       "      <td>1.0</td>\n",
       "      <td>1</td>\n",
       "    </tr>\n",
       "    <tr>\n",
       "      <th>1</th>\n",
       "      <td>-0.29090</td>\n",
       "      <td>0.74848</td>\n",
       "      <td>0.42546</td>\n",
       "      <td>-0.129500</td>\n",
       "      <td>0.023346</td>\n",
       "      <td>1.0</td>\n",
       "      <td>1</td>\n",
       "    </tr>\n",
       "    <tr>\n",
       "      <th>2</th>\n",
       "      <td>1.01054</td>\n",
       "      <td>0.51576</td>\n",
       "      <td>-0.34920</td>\n",
       "      <td>-0.116933</td>\n",
       "      <td>-0.011286</td>\n",
       "      <td>1.0</td>\n",
       "      <td>1</td>\n",
       "    </tr>\n",
       "    <tr>\n",
       "      <th>3</th>\n",
       "      <td>1.01054</td>\n",
       "      <td>0.51576</td>\n",
       "      <td>-0.34920</td>\n",
       "      <td>0.150767</td>\n",
       "      <td>0.040739</td>\n",
       "      <td>1.0</td>\n",
       "      <td>1</td>\n",
       "    </tr>\n",
       "    <tr>\n",
       "      <th>4</th>\n",
       "      <td>-0.01936</td>\n",
       "      <td>-0.15900</td>\n",
       "      <td>0.36200</td>\n",
       "      <td>-0.111167</td>\n",
       "      <td>-0.215939</td>\n",
       "      <td>1.0</td>\n",
       "      <td>1</td>\n",
       "    </tr>\n",
       "    <tr>\n",
       "      <th>...</th>\n",
       "      <td>...</td>\n",
       "      <td>...</td>\n",
       "      <td>...</td>\n",
       "      <td>...</td>\n",
       "      <td>...</td>\n",
       "      <td>...</td>\n",
       "      <td>...</td>\n",
       "    </tr>\n",
       "    <tr>\n",
       "      <th>56</th>\n",
       "      <td>0.76470</td>\n",
       "      <td>0.47780</td>\n",
       "      <td>-0.09224</td>\n",
       "      <td>0.260400</td>\n",
       "      <td>-0.046554</td>\n",
       "      <td>1.0</td>\n",
       "      <td>1</td>\n",
       "    </tr>\n",
       "    <tr>\n",
       "      <th>57</th>\n",
       "      <td>-0.51228</td>\n",
       "      <td>-1.04216</td>\n",
       "      <td>-0.64194</td>\n",
       "      <td>0.268433</td>\n",
       "      <td>-0.003665</td>\n",
       "      <td>1.0</td>\n",
       "      <td>1</td>\n",
       "    </tr>\n",
       "    <tr>\n",
       "      <th>58</th>\n",
       "      <td>0.02374</td>\n",
       "      <td>0.35838</td>\n",
       "      <td>0.08556</td>\n",
       "      <td>0.269833</td>\n",
       "      <td>0.017051</td>\n",
       "      <td>1.0</td>\n",
       "      <td>1</td>\n",
       "    </tr>\n",
       "    <tr>\n",
       "      <th>59</th>\n",
       "      <td>0.02374</td>\n",
       "      <td>0.35838</td>\n",
       "      <td>0.08556</td>\n",
       "      <td>0.270067</td>\n",
       "      <td>0.051272</td>\n",
       "      <td>1.0</td>\n",
       "      <td>1</td>\n",
       "    </tr>\n",
       "    <tr>\n",
       "      <th>60</th>\n",
       "      <td>-0.26560</td>\n",
       "      <td>-1.00290</td>\n",
       "      <td>-0.49768</td>\n",
       "      <td>0.301033</td>\n",
       "      <td>-0.019331</td>\n",
       "      <td>1.0</td>\n",
       "      <td>1</td>\n",
       "    </tr>\n",
       "  </tbody>\n",
       "</table>\n",
       "<p>61 rows × 7 columns</p>\n",
       "</div>"
      ],
      "text/plain": [
       "          x        y        z      time    charge   qe  auxiliary\n",
       "0   0.60682  0.67128  0.41316 -0.135733  0.040739  1.0          1\n",
       "1  -0.29090  0.74848  0.42546 -0.129500  0.023346  1.0          1\n",
       "2   1.01054  0.51576 -0.34920 -0.116933 -0.011286  1.0          1\n",
       "3   1.01054  0.51576 -0.34920  0.150767  0.040739  1.0          1\n",
       "4  -0.01936 -0.15900  0.36200 -0.111167 -0.215939  1.0          1\n",
       "..      ...      ...      ...       ...       ...  ...        ...\n",
       "56  0.76470  0.47780 -0.09224  0.260400 -0.046554  1.0          1\n",
       "57 -0.51228 -1.04216 -0.64194  0.268433 -0.003665  1.0          1\n",
       "58  0.02374  0.35838  0.08556  0.269833  0.017051  1.0          1\n",
       "59  0.02374  0.35838  0.08556  0.270067  0.051272  1.0          1\n",
       "60 -0.26560 -1.00290 -0.49768  0.301033 -0.019331  1.0          1\n",
       "\n",
       "[61 rows x 7 columns]"
      ]
     },
     "execution_count": 44,
     "metadata": {},
     "output_type": "execute_result"
    }
   ],
   "source": [
    "def preprocessing(event):\n",
    "    event[\"x\"] /= 500\n",
    "    event[\"y\"] /= 500\n",
    "    event[\"z\"] /= 500\n",
    "    event[\"time\"] = (event[\"time\"] - 1.0e04) / 3.0e4\n",
    "    event[\"charge\"] = np.log10(event[\"charge\"]) / 3.0\n",
    "    event[\"auxiliary\"] = event[\"auxiliary\"].astype(int)\n",
    "    \n",
    "    return event[[\"x\", \"y\", \"z\", \"time\", \"charge\", \"qe\", \"auxiliary\"]]\n",
    "\n",
    "\n",
    "event = preprocessing(event)\n",
    "event"
   ]
  },
  {
   "cell_type": "code",
   "execution_count": 45,
   "id": "4cf12986",
   "metadata": {
    "ExecuteTime": {
     "end_time": "2023-01-22T16:40:17.625105Z",
     "start_time": "2023-01-22T16:40:17.594175Z"
    }
   },
   "outputs": [
    {
     "data": {
      "text/html": [
       "<div>\n",
       "<style scoped>\n",
       "    .dataframe tbody tr th:only-of-type {\n",
       "        vertical-align: middle;\n",
       "    }\n",
       "\n",
       "    .dataframe tbody tr th {\n",
       "        vertical-align: top;\n",
       "    }\n",
       "\n",
       "    .dataframe thead th {\n",
       "        text-align: right;\n",
       "    }\n",
       "</style>\n",
       "<table border=\"1\" class=\"dataframe\">\n",
       "  <thead>\n",
       "    <tr style=\"text-align: right;\">\n",
       "      <th></th>\n",
       "      <th>x</th>\n",
       "      <th>y</th>\n",
       "      <th>z</th>\n",
       "      <th>time</th>\n",
       "      <th>charge</th>\n",
       "      <th>qe</th>\n",
       "      <th>auxiliary</th>\n",
       "    </tr>\n",
       "  </thead>\n",
       "  <tbody>\n",
       "    <tr>\n",
       "      <th>count</th>\n",
       "      <td>61.000000</td>\n",
       "      <td>61.000000</td>\n",
       "      <td>61.000000</td>\n",
       "      <td>61.000000</td>\n",
       "      <td>61.000000</td>\n",
       "      <td>61.000000</td>\n",
       "      <td>61.000000</td>\n",
       "    </tr>\n",
       "    <tr>\n",
       "      <th>mean</th>\n",
       "      <td>0.023824</td>\n",
       "      <td>-0.058633</td>\n",
       "      <td>0.052818</td>\n",
       "      <td>0.092286</td>\n",
       "      <td>-0.020030</td>\n",
       "      <td>1.034426</td>\n",
       "      <td>0.786885</td>\n",
       "    </tr>\n",
       "    <tr>\n",
       "      <th>std</th>\n",
       "      <td>0.610632</td>\n",
       "      <td>0.520048</td>\n",
       "      <td>0.502226</td>\n",
       "      <td>0.113998</td>\n",
       "      <td>0.078332</td>\n",
       "      <td>0.105096</td>\n",
       "      <td>0.412907</td>\n",
       "    </tr>\n",
       "    <tr>\n",
       "      <th>min</th>\n",
       "      <td>-1.053260</td>\n",
       "      <td>-1.042160</td>\n",
       "      <td>-0.876160</td>\n",
       "      <td>-0.135733</td>\n",
       "      <td>-0.252321</td>\n",
       "      <td>1.000000</td>\n",
       "      <td>0.000000</td>\n",
       "    </tr>\n",
       "    <tr>\n",
       "      <th>25%</th>\n",
       "      <td>-0.469900</td>\n",
       "      <td>-0.535040</td>\n",
       "      <td>-0.410940</td>\n",
       "      <td>0.021400</td>\n",
       "      <td>-0.046554</td>\n",
       "      <td>1.000000</td>\n",
       "      <td>1.000000</td>\n",
       "    </tr>\n",
       "    <tr>\n",
       "      <th>50%</th>\n",
       "      <td>0.023740</td>\n",
       "      <td>-0.031200</td>\n",
       "      <td>0.204360</td>\n",
       "      <td>0.086900</td>\n",
       "      <td>-0.011286</td>\n",
       "      <td>1.000000</td>\n",
       "      <td>1.000000</td>\n",
       "    </tr>\n",
       "    <tr>\n",
       "      <th>75%</th>\n",
       "      <td>0.317880</td>\n",
       "      <td>0.358380</td>\n",
       "      <td>0.424260</td>\n",
       "      <td>0.187800</td>\n",
       "      <td>0.029379</td>\n",
       "      <td>1.000000</td>\n",
       "      <td>1.000000</td>\n",
       "    </tr>\n",
       "    <tr>\n",
       "      <th>max</th>\n",
       "      <td>1.152740</td>\n",
       "      <td>0.980440</td>\n",
       "      <td>0.999020</td>\n",
       "      <td>0.301033</td>\n",
       "      <td>0.199779</td>\n",
       "      <td>1.350000</td>\n",
       "      <td>1.000000</td>\n",
       "    </tr>\n",
       "  </tbody>\n",
       "</table>\n",
       "</div>"
      ],
      "text/plain": [
       "               x          y          z       time     charge         qe  \\\n",
       "count  61.000000  61.000000  61.000000  61.000000  61.000000  61.000000   \n",
       "mean    0.023824  -0.058633   0.052818   0.092286  -0.020030   1.034426   \n",
       "std     0.610632   0.520048   0.502226   0.113998   0.078332   0.105096   \n",
       "min    -1.053260  -1.042160  -0.876160  -0.135733  -0.252321   1.000000   \n",
       "25%    -0.469900  -0.535040  -0.410940   0.021400  -0.046554   1.000000   \n",
       "50%     0.023740  -0.031200   0.204360   0.086900  -0.011286   1.000000   \n",
       "75%     0.317880   0.358380   0.424260   0.187800   0.029379   1.000000   \n",
       "max     1.152740   0.980440   0.999020   0.301033   0.199779   1.350000   \n",
       "\n",
       "       auxiliary  \n",
       "count  61.000000  \n",
       "mean    0.786885  \n",
       "std     0.412907  \n",
       "min     0.000000  \n",
       "25%     1.000000  \n",
       "50%     1.000000  \n",
       "75%     1.000000  \n",
       "max     1.000000  "
      ]
     },
     "execution_count": 45,
     "metadata": {},
     "output_type": "execute_result"
    }
   ],
   "source": [
    "event.describe()"
   ]
  },
  {
   "cell_type": "code",
   "execution_count": 46,
   "id": "a41f6b46",
   "metadata": {
    "ExecuteTime": {
     "end_time": "2023-01-22T16:40:17.632511Z",
     "start_time": "2023-01-22T16:40:17.627543Z"
    }
   },
   "outputs": [
    {
     "data": {
      "text/plain": [
       "(torch.Size([61, 7]), torch.float32)"
      ]
     },
     "execution_count": 46,
     "metadata": {},
     "output_type": "execute_result"
    }
   ],
   "source": [
    "x = torch.tensor(event.values, dtype=torch.float32)\n",
    "x.shape, x.dtype"
   ]
  },
  {
   "cell_type": "code",
   "execution_count": 56,
   "id": "c3ceca5d",
   "metadata": {
    "ExecuteTime": {
     "end_time": "2023-01-22T17:06:04.001377Z",
     "start_time": "2023-01-22T17:06:03.991318Z"
    }
   },
   "outputs": [
    {
     "data": {
      "text/plain": [
       "tensor([[5.0296, 2.0875]])"
      ]
     },
     "execution_count": 56,
     "metadata": {},
     "output_type": "execute_result"
    }
   ],
   "source": [
    "target = meta.query(f\"batch_id == {batch_id} & event_id == {event_id}\")\n",
    "y = torch.tensor(target[[\"azimuth\", \"zenith\"]].values, dtype=torch.float32)\n",
    "y"
   ]
  },
  {
   "cell_type": "code",
   "execution_count": 57,
   "id": "0c308a37",
   "metadata": {
    "ExecuteTime": {
     "end_time": "2023-01-22T17:06:09.176143Z",
     "start_time": "2023-01-22T17:06:09.170638Z"
    }
   },
   "outputs": [
    {
     "data": {
      "text/plain": [
       "Data(x=[61, 7], y=[1, 2], n_pulses=61)"
      ]
     },
     "execution_count": 57,
     "metadata": {},
     "output_type": "execute_result"
    }
   ],
   "source": [
    "data = Data(x=x, y=y)\n",
    "data.n_pulses = torch.tensor(x.shape[0], dtype=torch.int32)\n",
    "data"
   ]
  },
  {
   "cell_type": "code",
   "execution_count": 48,
   "id": "d13391e3",
   "metadata": {
    "ExecuteTime": {
     "end_time": "2023-01-22T16:40:17.651867Z",
     "start_time": "2023-01-22T16:40:17.645699Z"
    }
   },
   "outputs": [
    {
     "data": {
      "text/plain": [
       "Data(x=[61, 7], n_pulses=61, edge_index=[2, 488])"
      ]
     },
     "execution_count": 48,
     "metadata": {},
     "output_type": "execute_result"
    }
   ],
   "source": [
    "builder = KNNGraphBuilder(nb_nearest_neighbours=8)\n",
    "\n",
    "data_out = builder(data)\n",
    "data_out"
   ]
  },
  {
   "cell_type": "code",
   "execution_count": 49,
   "id": "81d9ab13",
   "metadata": {
    "ExecuteTime": {
     "end_time": "2023-01-22T16:40:17.660601Z",
     "start_time": "2023-01-22T16:40:17.654450Z"
    }
   },
   "outputs": [
    {
     "data": {
      "text/plain": [
       "DataBatch(x=[122, 7], n_pulses=[2], edge_index=[2, 976], batch=[122], ptr=[3])"
      ]
     },
     "execution_count": 49,
     "metadata": {},
     "output_type": "execute_result"
    }
   ],
   "source": [
    "# In final version use a PTGeo dataset & dataloader\n",
    "batch = Batch.from_data_list([data_out, data_out])\n",
    "batch"
   ]
  },
  {
   "cell_type": "code",
   "execution_count": 50,
   "id": "d0d88b43",
   "metadata": {
    "ExecuteTime": {
     "end_time": "2023-01-22T16:40:17.688274Z",
     "start_time": "2023-01-22T16:40:17.663402Z"
    }
   },
   "outputs": [],
   "source": [
    "model = DynEdge(nb_inputs=7, global_pooling_schemes=[\"min\", \"max\", \"mean\", \"sum\"])"
   ]
  },
  {
   "cell_type": "code",
   "execution_count": 51,
   "id": "58c7bd15",
   "metadata": {
    "ExecuteTime": {
     "end_time": "2023-01-22T16:40:17.822656Z",
     "start_time": "2023-01-22T16:40:17.690589Z"
    }
   },
   "outputs": [
    {
     "data": {
      "text/plain": [
       "torch.Size([2, 128])"
      ]
     },
     "execution_count": 51,
     "metadata": {},
     "output_type": "execute_result"
    }
   ],
   "source": [
    "out = model(batch)\n",
    "out.shape"
   ]
  },
  {
   "cell_type": "code",
   "execution_count": 52,
   "id": "2e51cffa",
   "metadata": {
    "ExecuteTime": {
     "end_time": "2023-01-22T16:40:17.827265Z",
     "start_time": "2023-01-22T16:40:17.824471Z"
    }
   },
   "outputs": [],
   "source": [
    "torch.save(data, \"test.pt\")"
   ]
  },
  {
   "cell_type": "code",
   "execution_count": 53,
   "id": "2f385af5",
   "metadata": {
    "ExecuteTime": {
     "end_time": "2023-01-22T16:40:17.835345Z",
     "start_time": "2023-01-22T16:40:17.828886Z"
    }
   },
   "outputs": [
    {
     "data": {
      "text/plain": [
       "Data(x=[61, 7], n_pulses=61, edge_index=[2, 488])"
      ]
     },
     "execution_count": 53,
     "metadata": {},
     "output_type": "execute_result"
    }
   ],
   "source": [
    "test = torch.load(\"test.pt\")\n",
    "test"
   ]
  },
  {
   "cell_type": "code",
   "execution_count": null,
   "id": "2d541417",
   "metadata": {},
   "outputs": [],
   "source": []
  },
  {
   "cell_type": "code",
   "execution_count": null,
   "id": "03a3ac91",
   "metadata": {},
   "outputs": [],
   "source": []
  }
 ],
 "metadata": {
  "kernelspec": {
   "display_name": "kaggle",
   "language": "python",
   "name": "kaggle"
  },
  "language_info": {
   "codemirror_mode": {
    "name": "ipython",
    "version": 3
   },
   "file_extension": ".py",
   "mimetype": "text/x-python",
   "name": "python",
   "nbconvert_exporter": "python",
   "pygments_lexer": "ipython3",
   "version": "3.10.8"
  },
  "toc": {
   "base_numbering": 1,
   "nav_menu": {},
   "number_sections": true,
   "sideBar": true,
   "skip_h1_title": false,
   "title_cell": "Table of Contents",
   "title_sidebar": "Contents",
   "toc_cell": false,
   "toc_position": {},
   "toc_section_display": true,
   "toc_window_display": false
  }
 },
 "nbformat": 4,
 "nbformat_minor": 5
}
