{
 "cells": [
  {
   "cell_type": "code",
   "execution_count": 1,
   "id": "436e6177",
   "metadata": {
    "ExecuteTime": {
     "end_time": "2023-03-12T20:26:26.015443Z",
     "start_time": "2023-03-12T20:26:20.906424Z"
    }
   },
   "outputs": [],
   "source": [
    "import sys\n",
    "COMP_NAME = \"icecube-neutrinos-in-deep-ice\"\n",
    "sys.path.append(f\"/home/anjum/kaggle/{COMP_NAME}/\")\n",
    "\n",
    "import torch\n",
    "import torch.nn as nn\n",
    "import numpy as np\n",
    "import pandas as pd\n",
    "import matplotlib.pyplot as plt\n",
    "\n",
    "from sklearn.metrics import pairwise_distances\n",
    "from torchmetrics.functional import pairwise_euclidean_distance\n",
    "\n",
    "\n",
    "from src.config import INPUT_PATH, OUTPUT_PATH"
   ]
  },
  {
   "cell_type": "code",
   "execution_count": 2,
   "id": "c7d80805",
   "metadata": {
    "ExecuteTime": {
     "end_time": "2023-03-12T20:26:26.030127Z",
     "start_time": "2023-03-12T20:26:26.017824Z"
    }
   },
   "outputs": [],
   "source": [
    "sensors = pd.read_csv(INPUT_PATH / \"sensor_geometry.csv\")"
   ]
  },
  {
   "cell_type": "code",
   "execution_count": 3,
   "id": "8dbeed86",
   "metadata": {
    "ExecuteTime": {
     "end_time": "2023-03-12T20:26:29.348184Z",
     "start_time": "2023-03-12T20:26:26.031689Z"
    }
   },
   "outputs": [
    {
     "data": {
      "text/html": [
       "<div>\n",
       "<style scoped>\n",
       "    .dataframe tbody tr th:only-of-type {\n",
       "        vertical-align: middle;\n",
       "    }\n",
       "\n",
       "    .dataframe tbody tr th {\n",
       "        vertical-align: top;\n",
       "    }\n",
       "\n",
       "    .dataframe thead th {\n",
       "        text-align: right;\n",
       "    }\n",
       "</style>\n",
       "<table border=\"1\" class=\"dataframe\">\n",
       "  <thead>\n",
       "    <tr style=\"text-align: right;\">\n",
       "      <th></th>\n",
       "      <th>sensor_id</th>\n",
       "      <th>time</th>\n",
       "      <th>charge</th>\n",
       "      <th>auxiliary</th>\n",
       "      <th>x</th>\n",
       "      <th>y</th>\n",
       "      <th>z</th>\n",
       "    </tr>\n",
       "  </thead>\n",
       "  <tbody>\n",
       "    <tr>\n",
       "      <th>0</th>\n",
       "      <td>3918</td>\n",
       "      <td>5928</td>\n",
       "      <td>1.325</td>\n",
       "      <td>True</td>\n",
       "      <td>303.41</td>\n",
       "      <td>335.64</td>\n",
       "      <td>206.58</td>\n",
       "    </tr>\n",
       "    <tr>\n",
       "      <th>1</th>\n",
       "      <td>4157</td>\n",
       "      <td>6115</td>\n",
       "      <td>1.175</td>\n",
       "      <td>True</td>\n",
       "      <td>-145.45</td>\n",
       "      <td>374.24</td>\n",
       "      <td>212.73</td>\n",
       "    </tr>\n",
       "    <tr>\n",
       "      <th>2</th>\n",
       "      <td>3520</td>\n",
       "      <td>6492</td>\n",
       "      <td>0.925</td>\n",
       "      <td>True</td>\n",
       "      <td>505.27</td>\n",
       "      <td>257.88</td>\n",
       "      <td>-174.60</td>\n",
       "    </tr>\n",
       "    <tr>\n",
       "      <th>3</th>\n",
       "      <td>5041</td>\n",
       "      <td>6665</td>\n",
       "      <td>0.225</td>\n",
       "      <td>True</td>\n",
       "      <td>-9.68</td>\n",
       "      <td>-79.50</td>\n",
       "      <td>181.00</td>\n",
       "    </tr>\n",
       "    <tr>\n",
       "      <th>4</th>\n",
       "      <td>2948</td>\n",
       "      <td>8054</td>\n",
       "      <td>1.575</td>\n",
       "      <td>True</td>\n",
       "      <td>576.37</td>\n",
       "      <td>170.92</td>\n",
       "      <td>357.88</td>\n",
       "    </tr>\n",
       "    <tr>\n",
       "      <th>5</th>\n",
       "      <td>860</td>\n",
       "      <td>8124</td>\n",
       "      <td>0.675</td>\n",
       "      <td>True</td>\n",
       "      <td>-290.66</td>\n",
       "      <td>-307.38</td>\n",
       "      <td>163.61</td>\n",
       "    </tr>\n",
       "    <tr>\n",
       "      <th>6</th>\n",
       "      <td>2440</td>\n",
       "      <td>8284</td>\n",
       "      <td>1.625</td>\n",
       "      <td>True</td>\n",
       "      <td>-526.63</td>\n",
       "      <td>-15.60</td>\n",
       "      <td>-178.17</td>\n",
       "    </tr>\n",
       "    <tr>\n",
       "      <th>7</th>\n",
       "      <td>1743</td>\n",
       "      <td>8478</td>\n",
       "      <td>0.775</td>\n",
       "      <td>True</td>\n",
       "      <td>500.43</td>\n",
       "      <td>-58.45</td>\n",
       "      <td>450.79</td>\n",
       "    </tr>\n",
       "    <tr>\n",
       "      <th>8</th>\n",
       "      <td>3609</td>\n",
       "      <td>8572</td>\n",
       "      <td>1.025</td>\n",
       "      <td>True</td>\n",
       "      <td>-313.60</td>\n",
       "      <td>237.44</td>\n",
       "      <td>348.01</td>\n",
       "    </tr>\n",
       "    <tr>\n",
       "      <th>9</th>\n",
       "      <td>5057</td>\n",
       "      <td>8680</td>\n",
       "      <td>3.975</td>\n",
       "      <td>True</td>\n",
       "      <td>-9.68</td>\n",
       "      <td>-79.50</td>\n",
       "      <td>-205.47</td>\n",
       "    </tr>\n",
       "    <tr>\n",
       "      <th>10</th>\n",
       "      <td>5057</td>\n",
       "      <td>8723</td>\n",
       "      <td>0.775</td>\n",
       "      <td>True</td>\n",
       "      <td>-9.68</td>\n",
       "      <td>-79.50</td>\n",
       "      <td>-205.47</td>\n",
       "    </tr>\n",
       "    <tr>\n",
       "      <th>11</th>\n",
       "      <td>2977</td>\n",
       "      <td>8747</td>\n",
       "      <td>1.025</td>\n",
       "      <td>True</td>\n",
       "      <td>576.37</td>\n",
       "      <td>170.92</td>\n",
       "      <td>-135.72</td>\n",
       "    </tr>\n",
       "    <tr>\n",
       "      <th>12</th>\n",
       "      <td>5059</td>\n",
       "      <td>9868</td>\n",
       "      <td>1.375</td>\n",
       "      <td>False</td>\n",
       "      <td>-9.68</td>\n",
       "      <td>-79.50</td>\n",
       "      <td>-219.49</td>\n",
       "    </tr>\n",
       "    <tr>\n",
       "      <th>13</th>\n",
       "      <td>3496</td>\n",
       "      <td>9976</td>\n",
       "      <td>0.825</td>\n",
       "      <td>True</td>\n",
       "      <td>505.27</td>\n",
       "      <td>257.88</td>\n",
       "      <td>233.90</td>\n",
       "    </tr>\n",
       "    <tr>\n",
       "      <th>14</th>\n",
       "      <td>3161</td>\n",
       "      <td>10259</td>\n",
       "      <td>0.775</td>\n",
       "      <td>True</td>\n",
       "      <td>-234.95</td>\n",
       "      <td>140.44</td>\n",
       "      <td>-197.79</td>\n",
       "    </tr>\n",
       "    <tr>\n",
       "      <th>15</th>\n",
       "      <td>2959</td>\n",
       "      <td>10642</td>\n",
       "      <td>0.225</td>\n",
       "      <td>True</td>\n",
       "      <td>576.37</td>\n",
       "      <td>170.92</td>\n",
       "      <td>170.65</td>\n",
       "    </tr>\n",
       "    <tr>\n",
       "      <th>16</th>\n",
       "      <td>1397</td>\n",
       "      <td>10848</td>\n",
       "      <td>0.825</td>\n",
       "      <td>True</td>\n",
       "      <td>-245.65</td>\n",
       "      <td>-190.49</td>\n",
       "      <td>212.13</td>\n",
       "    </tr>\n",
       "    <tr>\n",
       "      <th>17</th>\n",
       "      <td>1970</td>\n",
       "      <td>10973</td>\n",
       "      <td>0.925</td>\n",
       "      <td>True</td>\n",
       "      <td>-324.39</td>\n",
       "      <td>-93.43</td>\n",
       "      <td>-350.90</td>\n",
       "    </tr>\n",
       "    <tr>\n",
       "      <th>18</th>\n",
       "      <td>3387</td>\n",
       "      <td>11023</td>\n",
       "      <td>1.125</td>\n",
       "      <td>True</td>\n",
       "      <td>257.31</td>\n",
       "      <td>211.66</td>\n",
       "      <td>44.86</td>\n",
       "    </tr>\n",
       "    <tr>\n",
       "      <th>19</th>\n",
       "      <td>1583</td>\n",
       "      <td>11085</td>\n",
       "      <td>0.675</td>\n",
       "      <td>True</td>\n",
       "      <td>124.97</td>\n",
       "      <td>-131.25</td>\n",
       "      <td>102.18</td>\n",
       "    </tr>\n",
       "    <tr>\n",
       "      <th>20</th>\n",
       "      <td>1940</td>\n",
       "      <td>11217</td>\n",
       "      <td>1.025</td>\n",
       "      <td>True</td>\n",
       "      <td>-324.39</td>\n",
       "      <td>-93.43</td>\n",
       "      <td>159.72</td>\n",
       "    </tr>\n",
       "    <tr>\n",
       "      <th>21</th>\n",
       "      <td>1241</td>\n",
       "      <td>11416</td>\n",
       "      <td>0.575</td>\n",
       "      <td>True</td>\n",
       "      <td>443.44</td>\n",
       "      <td>-194.35</td>\n",
       "      <td>-181.18</td>\n",
       "    </tr>\n",
       "    <tr>\n",
       "      <th>22</th>\n",
       "      <td>558</td>\n",
       "      <td>12201</td>\n",
       "      <td>0.225</td>\n",
       "      <td>False</td>\n",
       "      <td>35.54</td>\n",
       "      <td>-364.83</td>\n",
       "      <td>191.34</td>\n",
       "    </tr>\n",
       "    <tr>\n",
       "      <th>23</th>\n",
       "      <td>557</td>\n",
       "      <td>12206</td>\n",
       "      <td>1.225</td>\n",
       "      <td>False</td>\n",
       "      <td>35.54</td>\n",
       "      <td>-364.83</td>\n",
       "      <td>208.36</td>\n",
       "    </tr>\n",
       "    <tr>\n",
       "      <th>24</th>\n",
       "      <td>1405</td>\n",
       "      <td>12213</td>\n",
       "      <td>1.125</td>\n",
       "      <td>True</td>\n",
       "      <td>-245.65</td>\n",
       "      <td>-190.49</td>\n",
       "      <td>75.96</td>\n",
       "    </tr>\n",
       "    <tr>\n",
       "      <th>25</th>\n",
       "      <td>557</td>\n",
       "      <td>12227</td>\n",
       "      <td>0.975</td>\n",
       "      <td>False</td>\n",
       "      <td>35.54</td>\n",
       "      <td>-364.83</td>\n",
       "      <td>208.36</td>\n",
       "    </tr>\n",
       "    <tr>\n",
       "      <th>26</th>\n",
       "      <td>558</td>\n",
       "      <td>12339</td>\n",
       "      <td>1.225</td>\n",
       "      <td>False</td>\n",
       "      <td>35.54</td>\n",
       "      <td>-364.83</td>\n",
       "      <td>191.34</td>\n",
       "    </tr>\n",
       "    <tr>\n",
       "      <th>27</th>\n",
       "      <td>557</td>\n",
       "      <td>12377</td>\n",
       "      <td>0.725</td>\n",
       "      <td>False</td>\n",
       "      <td>35.54</td>\n",
       "      <td>-364.83</td>\n",
       "      <td>208.36</td>\n",
       "    </tr>\n",
       "    <tr>\n",
       "      <th>28</th>\n",
       "      <td>557</td>\n",
       "      <td>12436</td>\n",
       "      <td>0.175</td>\n",
       "      <td>False</td>\n",
       "      <td>35.54</td>\n",
       "      <td>-364.83</td>\n",
       "      <td>208.36</td>\n",
       "    </tr>\n",
       "    <tr>\n",
       "      <th>29</th>\n",
       "      <td>3050</td>\n",
       "      <td>12571</td>\n",
       "      <td>1.875</td>\n",
       "      <td>True</td>\n",
       "      <td>-481.60</td>\n",
       "      <td>101.39</td>\n",
       "      <td>-348.98</td>\n",
       "    </tr>\n",
       "    <tr>\n",
       "      <th>30</th>\n",
       "      <td>553</td>\n",
       "      <td>12607</td>\n",
       "      <td>0.375</td>\n",
       "      <td>False</td>\n",
       "      <td>35.54</td>\n",
       "      <td>-364.83</td>\n",
       "      <td>276.44</td>\n",
       "    </tr>\n",
       "    <tr>\n",
       "      <th>31</th>\n",
       "      <td>972</td>\n",
       "      <td>12723</td>\n",
       "      <td>0.475</td>\n",
       "      <td>False</td>\n",
       "      <td>-43.27</td>\n",
       "      <td>-267.52</td>\n",
       "      <td>295.88</td>\n",
       "    </tr>\n",
       "    <tr>\n",
       "      <th>32</th>\n",
       "      <td>2261</td>\n",
       "      <td>12773</td>\n",
       "      <td>1.175</td>\n",
       "      <td>True</td>\n",
       "      <td>292.90</td>\n",
       "      <td>5.20</td>\n",
       "      <td>-206.45</td>\n",
       "    </tr>\n",
       "    <tr>\n",
       "      <th>33</th>\n",
       "      <td>973</td>\n",
       "      <td>12773</td>\n",
       "      <td>1.125</td>\n",
       "      <td>False</td>\n",
       "      <td>-43.27</td>\n",
       "      <td>-267.52</td>\n",
       "      <td>278.85</td>\n",
       "    </tr>\n",
       "    <tr>\n",
       "      <th>34</th>\n",
       "      <td>975</td>\n",
       "      <td>12818</td>\n",
       "      <td>0.675</td>\n",
       "      <td>False</td>\n",
       "      <td>-43.27</td>\n",
       "      <td>-267.52</td>\n",
       "      <td>244.81</td>\n",
       "    </tr>\n",
       "    <tr>\n",
       "      <th>35</th>\n",
       "      <td>560</td>\n",
       "      <td>13081</td>\n",
       "      <td>0.375</td>\n",
       "      <td>False</td>\n",
       "      <td>35.54</td>\n",
       "      <td>-364.83</td>\n",
       "      <td>157.30</td>\n",
       "    </tr>\n",
       "    <tr>\n",
       "      <th>36</th>\n",
       "      <td>554</td>\n",
       "      <td>13262</td>\n",
       "      <td>0.725</td>\n",
       "      <td>False</td>\n",
       "      <td>35.54</td>\n",
       "      <td>-364.83</td>\n",
       "      <td>259.42</td>\n",
       "    </tr>\n",
       "    <tr>\n",
       "      <th>37</th>\n",
       "      <td>3276</td>\n",
       "      <td>14001</td>\n",
       "      <td>0.725</td>\n",
       "      <td>True</td>\n",
       "      <td>11.87</td>\n",
       "      <td>179.19</td>\n",
       "      <td>-110.40</td>\n",
       "    </tr>\n",
       "    <tr>\n",
       "      <th>38</th>\n",
       "      <td>4831</td>\n",
       "      <td>14205</td>\n",
       "      <td>0.775</td>\n",
       "      <td>True</td>\n",
       "      <td>41.60</td>\n",
       "      <td>35.49</td>\n",
       "      <td>-305.08</td>\n",
       "    </tr>\n",
       "    <tr>\n",
       "      <th>39</th>\n",
       "      <td>4571</td>\n",
       "      <td>14283</td>\n",
       "      <td>1.225</td>\n",
       "      <td>True</td>\n",
       "      <td>-101.06</td>\n",
       "      <td>490.22</td>\n",
       "      <td>314.26</td>\n",
       "    </tr>\n",
       "    <tr>\n",
       "      <th>40</th>\n",
       "      <td>3520</td>\n",
       "      <td>14523</td>\n",
       "      <td>1.325</td>\n",
       "      <td>True</td>\n",
       "      <td>505.27</td>\n",
       "      <td>257.88</td>\n",
       "      <td>-174.60</td>\n",
       "    </tr>\n",
       "    <tr>\n",
       "      <th>41</th>\n",
       "      <td>3699</td>\n",
       "      <td>14600</td>\n",
       "      <td>0.725</td>\n",
       "      <td>True</td>\n",
       "      <td>-189.98</td>\n",
       "      <td>257.42</td>\n",
       "      <td>-162.20</td>\n",
       "    </tr>\n",
       "    <tr>\n",
       "      <th>42</th>\n",
       "      <td>300</td>\n",
       "      <td>15209</td>\n",
       "      <td>1.225</td>\n",
       "      <td>True</td>\n",
       "      <td>361.00</td>\n",
       "      <td>-422.83</td>\n",
       "      <td>499.51</td>\n",
       "    </tr>\n",
       "    <tr>\n",
       "      <th>43</th>\n",
       "      <td>613</td>\n",
       "      <td>15343</td>\n",
       "      <td>0.825</td>\n",
       "      <td>True</td>\n",
       "      <td>158.94</td>\n",
       "      <td>-345.23</td>\n",
       "      <td>278.56</td>\n",
       "    </tr>\n",
       "    <tr>\n",
       "      <th>44</th>\n",
       "      <td>3438</td>\n",
       "      <td>15602</td>\n",
       "      <td>0.775</td>\n",
       "      <td>True</td>\n",
       "      <td>382.35</td>\n",
       "      <td>238.90</td>\n",
       "      <td>192.17</td>\n",
       "    </tr>\n",
       "    <tr>\n",
       "      <th>45</th>\n",
       "      <td>2421</td>\n",
       "      <td>15634</td>\n",
       "      <td>1.575</td>\n",
       "      <td>True</td>\n",
       "      <td>-526.63</td>\n",
       "      <td>-15.60</td>\n",
       "      <td>145.23</td>\n",
       "    </tr>\n",
       "    <tr>\n",
       "      <th>46</th>\n",
       "      <td>3609</td>\n",
       "      <td>15653</td>\n",
       "      <td>0.575</td>\n",
       "      <td>True</td>\n",
       "      <td>-313.60</td>\n",
       "      <td>237.44</td>\n",
       "      <td>348.01</td>\n",
       "    </tr>\n",
       "    <tr>\n",
       "      <th>47</th>\n",
       "      <td>3115</td>\n",
       "      <td>15922</td>\n",
       "      <td>0.575</td>\n",
       "      <td>True</td>\n",
       "      <td>-358.44</td>\n",
       "      <td>120.56</td>\n",
       "      <td>-438.08</td>\n",
       "    </tr>\n",
       "    <tr>\n",
       "      <th>48</th>\n",
       "      <td>5057</td>\n",
       "      <td>15967</td>\n",
       "      <td>0.825</td>\n",
       "      <td>True</td>\n",
       "      <td>-9.68</td>\n",
       "      <td>-79.50</td>\n",
       "      <td>-205.47</td>\n",
       "    </tr>\n",
       "    <tr>\n",
       "      <th>49</th>\n",
       "      <td>4528</td>\n",
       "      <td>16015</td>\n",
       "      <td>1.325</td>\n",
       "      <td>True</td>\n",
       "      <td>-224.09</td>\n",
       "      <td>470.86</td>\n",
       "      <td>25.84</td>\n",
       "    </tr>\n",
       "  </tbody>\n",
       "</table>\n",
       "</div>"
      ],
      "text/plain": [
       "    sensor_id   time  charge  auxiliary       x       y       z\n",
       "0        3918   5928   1.325       True  303.41  335.64  206.58\n",
       "1        4157   6115   1.175       True -145.45  374.24  212.73\n",
       "2        3520   6492   0.925       True  505.27  257.88 -174.60\n",
       "3        5041   6665   0.225       True   -9.68  -79.50  181.00\n",
       "4        2948   8054   1.575       True  576.37  170.92  357.88\n",
       "5         860   8124   0.675       True -290.66 -307.38  163.61\n",
       "6        2440   8284   1.625       True -526.63  -15.60 -178.17\n",
       "7        1743   8478   0.775       True  500.43  -58.45  450.79\n",
       "8        3609   8572   1.025       True -313.60  237.44  348.01\n",
       "9        5057   8680   3.975       True   -9.68  -79.50 -205.47\n",
       "10       5057   8723   0.775       True   -9.68  -79.50 -205.47\n",
       "11       2977   8747   1.025       True  576.37  170.92 -135.72\n",
       "12       5059   9868   1.375      False   -9.68  -79.50 -219.49\n",
       "13       3496   9976   0.825       True  505.27  257.88  233.90\n",
       "14       3161  10259   0.775       True -234.95  140.44 -197.79\n",
       "15       2959  10642   0.225       True  576.37  170.92  170.65\n",
       "16       1397  10848   0.825       True -245.65 -190.49  212.13\n",
       "17       1970  10973   0.925       True -324.39  -93.43 -350.90\n",
       "18       3387  11023   1.125       True  257.31  211.66   44.86\n",
       "19       1583  11085   0.675       True  124.97 -131.25  102.18\n",
       "20       1940  11217   1.025       True -324.39  -93.43  159.72\n",
       "21       1241  11416   0.575       True  443.44 -194.35 -181.18\n",
       "22        558  12201   0.225      False   35.54 -364.83  191.34\n",
       "23        557  12206   1.225      False   35.54 -364.83  208.36\n",
       "24       1405  12213   1.125       True -245.65 -190.49   75.96\n",
       "25        557  12227   0.975      False   35.54 -364.83  208.36\n",
       "26        558  12339   1.225      False   35.54 -364.83  191.34\n",
       "27        557  12377   0.725      False   35.54 -364.83  208.36\n",
       "28        557  12436   0.175      False   35.54 -364.83  208.36\n",
       "29       3050  12571   1.875       True -481.60  101.39 -348.98\n",
       "30        553  12607   0.375      False   35.54 -364.83  276.44\n",
       "31        972  12723   0.475      False  -43.27 -267.52  295.88\n",
       "32       2261  12773   1.175       True  292.90    5.20 -206.45\n",
       "33        973  12773   1.125      False  -43.27 -267.52  278.85\n",
       "34        975  12818   0.675      False  -43.27 -267.52  244.81\n",
       "35        560  13081   0.375      False   35.54 -364.83  157.30\n",
       "36        554  13262   0.725      False   35.54 -364.83  259.42\n",
       "37       3276  14001   0.725       True   11.87  179.19 -110.40\n",
       "38       4831  14205   0.775       True   41.60   35.49 -305.08\n",
       "39       4571  14283   1.225       True -101.06  490.22  314.26\n",
       "40       3520  14523   1.325       True  505.27  257.88 -174.60\n",
       "41       3699  14600   0.725       True -189.98  257.42 -162.20\n",
       "42        300  15209   1.225       True  361.00 -422.83  499.51\n",
       "43        613  15343   0.825       True  158.94 -345.23  278.56\n",
       "44       3438  15602   0.775       True  382.35  238.90  192.17\n",
       "45       2421  15634   1.575       True -526.63  -15.60  145.23\n",
       "46       3609  15653   0.575       True -313.60  237.44  348.01\n",
       "47       3115  15922   0.575       True -358.44  120.56 -438.08\n",
       "48       5057  15967   0.825       True   -9.68  -79.50 -205.47\n",
       "49       4528  16015   1.325       True -224.09  470.86   25.84"
      ]
     },
     "execution_count": 3,
     "metadata": {},
     "output_type": "execute_result"
    }
   ],
   "source": [
    "batch = pd.read_parquet(INPUT_PATH / \"train\" / \"batch_1.parquet\")\n",
    "event = batch.loc[24]\n",
    "event = pd.merge(event, sensors, on=\"sensor_id\").sort_values(by=\"time\").reset_index(drop=True)\n",
    "event.head(50)"
   ]
  },
  {
   "cell_type": "code",
   "execution_count": 4,
   "id": "9ee4ad8d",
   "metadata": {
    "ExecuteTime": {
     "end_time": "2023-03-12T20:26:29.358601Z",
     "start_time": "2023-03-12T20:26:29.352246Z"
    }
   },
   "outputs": [
    {
     "data": {
      "text/plain": [
       "9"
      ]
     },
     "execution_count": 4,
     "metadata": {},
     "output_type": "execute_result"
    }
   ],
   "source": [
    "q_max = event[\"charge\"].argmax()\n",
    "q_max"
   ]
  },
  {
   "cell_type": "code",
   "execution_count": 5,
   "id": "cc0d24bb",
   "metadata": {
    "ExecuteTime": {
     "end_time": "2023-03-12T20:26:29.368058Z",
     "start_time": "2023-03-12T20:26:29.361006Z"
    }
   },
   "outputs": [
    {
     "data": {
      "text/plain": [
       "array([663.4393493 , 631.82649557, 616.40224188, 386.47      ,\n",
       "       850.60449176, 516.81631282, 521.59927387, 831.4640715 ,\n",
       "       706.51145808,   0.        ,   0.        , 641.11609042,\n",
       "        14.02      , 756.33640915, 314.92722794, 740.02096815,\n",
       "       492.33157628, 346.96730956, 467.67821694, 339.78994614,\n",
       "       482.28639324, 468.07933195, 490.83218456, 504.69131774,\n",
       "       383.67103865, 504.69131774, 490.83218456, 504.69131774,\n",
       "       504.69131774, 525.3806226 , 561.86769386, 536.49942311,\n",
       "       314.21283678, 520.62046723, 489.11336815, 463.7457603 ,\n",
       "       547.33972028, 276.44750587, 160.54435711, 776.56323355,\n",
       "       616.40224188, 384.57179993, 867.33842974, 577.34753676,\n",
       "       642.79362979, 627.94187828, 706.51145808, 464.50506273,\n",
       "         0.        , 634.32806481, 756.33640915, 532.13815133,\n",
       "       288.63707073, 525.3806226 , 249.86970385, 346.96730956,\n",
       "       529.58332999, 518.72505048, 359.18377065, 359.18377065,\n",
       "       441.68008083])"
      ]
     },
     "execution_count": 5,
     "metadata": {},
     "output_type": "execute_result"
    }
   ],
   "source": [
    "xyz = event[[\"x\", \"y\", \"z\"]].to_numpy()\n",
    "\n",
    "dists = np.sqrt(np.sum((xyz - xyz[q_max])**2, -1))\n",
    "dists"
   ]
  },
  {
   "cell_type": "code",
   "execution_count": 6,
   "id": "129ed8f7",
   "metadata": {
    "ExecuteTime": {
     "end_time": "2023-03-12T20:26:29.375888Z",
     "start_time": "2023-03-12T20:26:29.370546Z"
    }
   },
   "outputs": [
    {
     "data": {
      "text/plain": [
       "array([ 2752,  2565,  2188,  2015,   626,   556,   396,   202,   108,\n",
       "           0,    43,    67,  1188,  1296,  1579,  1962,  2168,  2293,\n",
       "        2343,  2405,  2537,  2736,  3521,  3526,  3533,  3547,  3659,\n",
       "        3697,  3756,  3891,  3927,  4043,  4093,  4093,  4138,  4401,\n",
       "        4582,  5321,  5525,  5603,  5843,  5920,  6529,  6663,  6922,\n",
       "        6954,  6973,  7242,  7287,  7335,  7603,  8088,  8204,  8492,\n",
       "        8516,  9075,  9132,  9373,  9415,  9422, 10351])"
      ]
     },
     "execution_count": 6,
     "metadata": {},
     "output_type": "execute_result"
    }
   ],
   "source": [
    "delta_t = np.abs(event[\"time\"].to_numpy() - event[\"time\"].iloc[q_max])\n",
    "delta_t"
   ]
  },
  {
   "cell_type": "code",
   "execution_count": 7,
   "id": "b54402f6",
   "metadata": {
    "ExecuteTime": {
     "end_time": "2023-03-12T20:26:29.381430Z",
     "start_time": "2023-03-12T20:26:29.378315Z"
    }
   },
   "outputs": [],
   "source": [
    "c_ice = 0.228  # m/ns\n",
    "t_delay = 20  # ns"
   ]
  },
  {
   "cell_type": "code",
   "execution_count": 8,
   "id": "9945c59d",
   "metadata": {
    "ExecuteTime": {
     "end_time": "2023-03-12T20:26:29.390311Z",
     "start_time": "2023-03-12T20:26:29.383653Z"
    }
   },
   "outputs": [
    {
     "name": "stdout",
     "output_type": "stream",
     "text": [
      "11 0.18032786885245902\n"
     ]
    },
    {
     "data": {
      "text/plain": [
       "array([ True,  True,  True, False,  True,  True,  True,  True,  True,\n",
       "       False, False,  True, False,  True, False,  True, False, False,\n",
       "       False, False, False, False, False, False, False, False, False,\n",
       "       False, False, False, False, False, False, False, False, False,\n",
       "       False, False, False, False, False, False, False, False, False,\n",
       "       False, False, False, False, False, False, False, False, False,\n",
       "       False, False, False, False, False, False, False])"
      ]
     },
     "execution_count": 8,
     "metadata": {},
     "output_type": "execute_result"
    }
   ],
   "source": [
    "scattered = dists / c_ice >= delta_t  + t_delay\n",
    "\n",
    "print(np.sum(scattered), np.sum(scattered) / len(scattered))\n",
    "scattered"
   ]
  },
  {
   "cell_type": "markdown",
   "id": "35981f5a",
   "metadata": {},
   "source": [
    "# Convert to PyTorch"
   ]
  },
  {
   "cell_type": "code",
   "execution_count": 9,
   "id": "0dc0e181",
   "metadata": {
    "ExecuteTime": {
     "end_time": "2023-03-12T20:26:30.670529Z",
     "start_time": "2023-03-12T20:26:29.393390Z"
    }
   },
   "outputs": [
    {
     "data": {
      "text/plain": [
       "Data(x=[61, 9], y=[2], n_pulses=61)"
      ]
     },
     "execution_count": 9,
     "metadata": {},
     "output_type": "execute_result"
    }
   ],
   "source": [
    "data = torch.load(INPUT_PATH / \"train_events\" / \"batch_1\" / \"event_24.pt\")\n",
    "\n",
    "t, indices = torch.sort(data.x[:, 3])\n",
    "data.x = data.x[indices]\n",
    "    \n",
    "data"
   ]
  },
  {
   "cell_type": "code",
   "execution_count": 10,
   "id": "04cc6d8c",
   "metadata": {
    "ExecuteTime": {
     "end_time": "2023-03-12T20:26:30.683014Z",
     "start_time": "2023-03-12T20:26:30.676265Z"
    }
   },
   "outputs": [
    {
     "data": {
      "text/plain": [
       "tensor(9)"
      ]
     },
     "execution_count": 10,
     "metadata": {},
     "output_type": "execute_result"
    }
   ],
   "source": [
    "q_max_idx = torch.argmax(data.x[:, 4])\n",
    "q_max_idx"
   ]
  },
  {
   "cell_type": "code",
   "execution_count": 11,
   "id": "f2a1473f",
   "metadata": {
    "ExecuteTime": {
     "end_time": "2023-03-12T20:26:30.707929Z",
     "start_time": "2023-03-12T20:26:30.686685Z"
    }
   },
   "outputs": [
    {
     "data": {
      "text/plain": [
       "tensor([663.4394, 631.8265, 616.4022, 386.4700, 850.6045, 516.8163, 521.5993,\n",
       "        831.4641, 706.5115,   0.0000,   0.0000, 641.1161,  14.0200, 756.3364,\n",
       "        314.9272, 740.0210, 492.3316, 346.9673, 467.6782, 339.7899, 482.2864,\n",
       "        468.0793, 490.8322, 504.6914, 383.6710, 504.6914, 490.8322, 504.6914,\n",
       "        504.6914, 525.3806, 561.8677, 536.4995, 520.6205, 314.2128, 489.1134,\n",
       "        463.7458, 547.3397, 276.4475, 160.5444, 776.5632, 616.4022, 384.5718,\n",
       "        867.3384, 577.3475, 642.7936, 627.9419, 706.5115, 464.5050,   0.0000,\n",
       "        634.3280, 756.3364, 532.1382, 288.6371, 525.3806, 249.8697, 346.9673,\n",
       "        529.5833, 518.7251, 359.1837, 359.1837, 441.6801])"
      ]
     },
     "execution_count": 11,
     "metadata": {},
     "output_type": "execute_result"
    }
   ],
   "source": [
    "xyz = data.x[:, :3]\n",
    "\n",
    "dists = (xyz - xyz[q_max_idx]).pow(2).sum(-1).pow(0.5) * 500\n",
    "dists"
   ]
  },
  {
   "cell_type": "code",
   "execution_count": 12,
   "id": "c75162a0",
   "metadata": {
    "ExecuteTime": {
     "end_time": "2023-03-12T20:26:30.719277Z",
     "start_time": "2023-03-12T20:26:30.711720Z"
    }
   },
   "outputs": [
    {
     "data": {
      "text/plain": [
       "tensor([ 2752.0000,  2565.0000,  2188.0000,  2014.9999,   626.0001,   556.0000,\n",
       "          396.0000,   202.0000,   108.0000,     0.0000,    42.9999,    67.0000,\n",
       "         1188.0000,  1296.0000,  1579.0000,  1962.0001,  2168.0000,  2293.0000,\n",
       "         2342.9998,  2405.0000,  2537.0000,  2736.0000,  3521.0000,  3526.0000,\n",
       "         3533.0000,  3547.0000,  3659.0000,  3697.0000,  3756.0000,  3891.0002,\n",
       "         3926.9998,  4043.0000,  4093.0000,  4093.0000,  4138.0005,  4401.0000,\n",
       "         4582.0000,  5321.0000,  5525.0000,  5603.0000,  5843.0000,  5920.0000,\n",
       "         6529.0000,  6663.0000,  6922.0000,  6954.0000,  6973.0000,  7242.0000,\n",
       "         7287.0000,  7335.0000,  7603.0005,  8088.0000,  8203.9990,  8492.0000,\n",
       "         8516.0000,  9075.0000,  9132.0000,  9373.0000,  9415.0000,  9422.0000,\n",
       "        10351.0000])"
      ]
     },
     "execution_count": 12,
     "metadata": {},
     "output_type": "execute_result"
    }
   ],
   "source": [
    "delta_t = (torch.abs(t - t[q_max_idx])) * 3e4\n",
    "delta_t"
   ]
  },
  {
   "cell_type": "code",
   "execution_count": 13,
   "id": "a8476d0f",
   "metadata": {
    "ExecuteTime": {
     "end_time": "2023-03-12T20:26:30.731813Z",
     "start_time": "2023-03-12T20:26:30.722602Z"
    }
   },
   "outputs": [
    {
     "name": "stdout",
     "output_type": "stream",
     "text": [
      "tensor(11) tensor(0.1803)\n"
     ]
    },
    {
     "data": {
      "text/plain": [
       "tensor([ True,  True,  True, False,  True,  True,  True,  True,  True, False,\n",
       "        False,  True, False,  True, False,  True, False, False, False, False,\n",
       "        False, False, False, False, False, False, False, False, False, False,\n",
       "        False, False, False, False, False, False, False, False, False, False,\n",
       "        False, False, False, False, False, False, False, False, False, False,\n",
       "        False, False, False, False, False, False, False, False, False, False,\n",
       "        False])"
      ]
     },
     "execution_count": 13,
     "metadata": {},
     "output_type": "execute_result"
    }
   ],
   "source": [
    "scattered = dists / c_ice >= delta_t  + t_delay\n",
    "\n",
    "print(torch.sum(scattered), torch.sum(scattered) / len(scattered))\n",
    "scattered"
   ]
  },
  {
   "cell_type": "code",
   "execution_count": 14,
   "id": "e33a6b89",
   "metadata": {
    "ExecuteTime": {
     "end_time": "2023-03-12T20:26:30.741425Z",
     "start_time": "2023-03-12T20:26:30.735395Z"
    }
   },
   "outputs": [
    {
     "data": {
      "text/plain": [
       "torch.Size([50, 9])"
      ]
     },
     "execution_count": 14,
     "metadata": {},
     "output_type": "execute_result"
    }
   ],
   "source": [
    "data.x[~scattered].shape"
   ]
  },
  {
   "cell_type": "code",
   "execution_count": 15,
   "id": "ebeb95e9",
   "metadata": {
    "ExecuteTime": {
     "end_time": "2023-03-12T20:26:30.750425Z",
     "start_time": "2023-03-12T20:26:30.744927Z"
    }
   },
   "outputs": [
    {
     "data": {
      "text/plain": [
       "61"
      ]
     },
     "execution_count": 15,
     "metadata": {},
     "output_type": "execute_result"
    }
   ],
   "source": [
    "len(data.x)"
   ]
  },
  {
   "cell_type": "code",
   "execution_count": 16,
   "id": "71029294",
   "metadata": {
    "ExecuteTime": {
     "end_time": "2023-03-12T20:26:30.765665Z",
     "start_time": "2023-03-12T20:26:30.754276Z"
    }
   },
   "outputs": [
    {
     "data": {
      "text/plain": [
       "Data(x=[49, 9], y=[2], n_pulses=61)"
      ]
     },
     "execution_count": 16,
     "metadata": {},
     "output_type": "execute_result"
    }
   ],
   "source": [
    "data = torch.load(INPUT_PATH / \"train_events\" / \"batch_1\" / \"event_24.pt\")\n",
    "\n",
    "C_ICE = 0.228  # m/ns\n",
    "T_DELAY = 0  # ns\n",
    "\n",
    "\n",
    "t, indices = torch.sort(data.x[:, 3])\n",
    "data.x = data.x[indices]\n",
    "\n",
    "# Calculate the scattering flag\n",
    "q_max_idx = torch.argmax(data.x[:, 4])\n",
    "xyz = data.x[:, :3]\n",
    "dists = (xyz - xyz[q_max_idx]).pow(2).sum(-1).pow(0.5) * 500\n",
    "delta_t = (torch.abs(t - t[q_max_idx])) * 3e4\n",
    "scattered = dists / C_ICE >= delta_t + T_DELAY\n",
    "\n",
    "# Remove hits flagged as scattered light\n",
    "data.x = data.x[~scattered]\n",
    "t = t[~scattered]\n",
    "\n",
    "data"
   ]
  },
  {
   "cell_type": "code",
   "execution_count": 17,
   "id": "930b434f",
   "metadata": {
    "ExecuteTime": {
     "end_time": "2023-03-12T20:26:30.774254Z",
     "start_time": "2023-03-12T20:26:30.769148Z"
    }
   },
   "outputs": [
    {
     "data": {
      "text/plain": [
       "torch.Size([49])"
      ]
     },
     "execution_count": 17,
     "metadata": {},
     "output_type": "execute_result"
    }
   ],
   "source": [
    "t.shape"
   ]
  },
  {
   "cell_type": "code",
   "execution_count": 18,
   "id": "5416f6fb",
   "metadata": {
    "ExecuteTime": {
     "end_time": "2023-03-12T20:26:30.784652Z",
     "start_time": "2023-03-12T20:26:30.777407Z"
    }
   },
   "outputs": [
    {
     "data": {
      "text/plain": [
       "tensor([ 1.,  1.,  1., -1.,  1.,  1.,  1.,  1.,  1.,  1., -1.,  1., -1.,  1.,\n",
       "        -1.,  1., -1., -1., -1., -1., -1., -1., -1., -1., -1., -1., -1., -1.,\n",
       "        -1., -1., -1., -1., -1., -1., -1., -1., -1., -1., -1., -1., -1., -1.,\n",
       "        -1., -1., -1., -1., -1., -1., -1., -1., -1., -1., -1., -1., -1., -1.,\n",
       "        -1., -1., -1., -1., -1.])"
      ]
     },
     "execution_count": 18,
     "metadata": {},
     "output_type": "execute_result"
    }
   ],
   "source": [
    "scattered = 2 * scattered.to(torch.float32) - 1\n",
    "scattered"
   ]
  },
  {
   "cell_type": "code",
   "execution_count": null,
   "id": "72b93385",
   "metadata": {},
   "outputs": [],
   "source": []
  }
 ],
 "metadata": {
  "kernelspec": {
   "display_name": "kaggle",
   "language": "python",
   "name": "kaggle"
  },
  "language_info": {
   "codemirror_mode": {
    "name": "ipython",
    "version": 3
   },
   "file_extension": ".py",
   "mimetype": "text/x-python",
   "name": "python",
   "nbconvert_exporter": "python",
   "pygments_lexer": "ipython3",
   "version": "3.10.6"
  }
 },
 "nbformat": 4,
 "nbformat_minor": 5
}
