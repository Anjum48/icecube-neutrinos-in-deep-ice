{
 "cells": [
  {
   "cell_type": "code",
   "execution_count": 1,
   "id": "321e58b3",
   "metadata": {
    "ExecuteTime": {
     "end_time": "2023-02-19T09:37:05.154417Z",
     "start_time": "2023-02-19T09:37:02.777992Z"
    }
   },
   "outputs": [],
   "source": [
    "import sys\n",
    "COMP_NAME = \"icecube-neutrinos-in-deep-ice\"\n",
    "sys.path.append(f\"/home/anjum/kaggle/{COMP_NAME}/\")\n",
    "\n",
    "import numpy as np\n",
    "import pandas as pd\n",
    "import torch\n",
    "import matplotlib.pyplot as plt\n",
    "\n",
    "from tqdm.notebook import tqdm\n",
    "\n",
    "from src.config import INPUT_PATH, OUTPUT_PATH"
   ]
  },
  {
   "cell_type": "code",
   "execution_count": 3,
   "id": "efecc2fb",
   "metadata": {
    "ExecuteTime": {
     "end_time": "2023-02-19T10:05:09.864459Z",
     "start_time": "2023-02-19T09:37:07.537985Z"
    }
   },
   "outputs": [
    {
     "data": {
      "application/vnd.jupyter.widget-view+json": {
       "model_id": "15e568919c8647faa07b341bd88eaaad",
       "version_major": 2,
       "version_minor": 0
      },
      "text/plain": [
       "  0%|          | 0/660 [00:00<?, ?it/s]"
      ]
     },
     "metadata": {},
     "output_type": "display_data"
    }
   ],
   "source": [
    "charge_sums = []\n",
    "\n",
    "file_list = list((INPUT_PATH / \"train\").glob(\"batch_*.parquet\"))\n",
    "\n",
    "for f in tqdm(file_list):\n",
    "    df = pd.read_parquet(f)\n",
    "    \n",
    "    df_gb = df.groupby(\"event_id\")[[\"charge\"]].sum()\n",
    "    charge_sums.append(df_gb)"
   ]
  },
  {
   "cell_type": "code",
   "execution_count": 4,
   "id": "2f07b30d",
   "metadata": {
    "ExecuteTime": {
     "end_time": "2023-02-19T10:06:12.661056Z",
     "start_time": "2023-02-19T10:05:09.867042Z"
    }
   },
   "outputs": [
    {
     "data": {
      "text/html": [
       "<div>\n",
       "<style scoped>\n",
       "    .dataframe tbody tr th:only-of-type {\n",
       "        vertical-align: middle;\n",
       "    }\n",
       "\n",
       "    .dataframe tbody tr th {\n",
       "        vertical-align: top;\n",
       "    }\n",
       "\n",
       "    .dataframe thead th {\n",
       "        text-align: right;\n",
       "    }\n",
       "</style>\n",
       "<table border=\"1\" class=\"dataframe\">\n",
       "  <thead>\n",
       "    <tr style=\"text-align: right;\">\n",
       "      <th></th>\n",
       "      <th>charge</th>\n",
       "    </tr>\n",
       "    <tr>\n",
       "      <th>event_id</th>\n",
       "      <th></th>\n",
       "    </tr>\n",
       "  </thead>\n",
       "  <tbody>\n",
       "    <tr>\n",
       "      <th>24</th>\n",
       "      <td>60.475</td>\n",
       "    </tr>\n",
       "    <tr>\n",
       "      <th>41</th>\n",
       "      <td>46.275</td>\n",
       "    </tr>\n",
       "    <tr>\n",
       "      <th>59</th>\n",
       "      <td>33.200</td>\n",
       "    </tr>\n",
       "    <tr>\n",
       "      <th>67</th>\n",
       "      <td>131.750</td>\n",
       "    </tr>\n",
       "    <tr>\n",
       "      <th>72</th>\n",
       "      <td>55.750</td>\n",
       "    </tr>\n",
       "    <tr>\n",
       "      <th>...</th>\n",
       "      <td>...</td>\n",
       "    </tr>\n",
       "    <tr>\n",
       "      <th>2147483597</th>\n",
       "      <td>118.450</td>\n",
       "    </tr>\n",
       "    <tr>\n",
       "      <th>2147483603</th>\n",
       "      <td>28.700</td>\n",
       "    </tr>\n",
       "    <tr>\n",
       "      <th>2147483617</th>\n",
       "      <td>36.525</td>\n",
       "    </tr>\n",
       "    <tr>\n",
       "      <th>2147483626</th>\n",
       "      <td>69.875</td>\n",
       "    </tr>\n",
       "    <tr>\n",
       "      <th>2147483627</th>\n",
       "      <td>44.725</td>\n",
       "    </tr>\n",
       "  </tbody>\n",
       "</table>\n",
       "<p>131953924 rows × 1 columns</p>\n",
       "</div>"
      ],
      "text/plain": [
       "             charge\n",
       "event_id           \n",
       "24           60.475\n",
       "41           46.275\n",
       "59           33.200\n",
       "67          131.750\n",
       "72           55.750\n",
       "...             ...\n",
       "2147483597  118.450\n",
       "2147483603   28.700\n",
       "2147483617   36.525\n",
       "2147483626   69.875\n",
       "2147483627   44.725\n",
       "\n",
       "[131953924 rows x 1 columns]"
      ]
     },
     "execution_count": 4,
     "metadata": {},
     "output_type": "execute_result"
    }
   ],
   "source": [
    "charge_sums = pd.concat(charge_sums).sort_values(by=\"event_id\")\n",
    "charge_sums"
   ]
  },
  {
   "cell_type": "code",
   "execution_count": 5,
   "id": "03260644",
   "metadata": {
    "ExecuteTime": {
     "end_time": "2023-02-19T10:08:32.853544Z",
     "start_time": "2023-02-19T10:08:23.532655Z"
    }
   },
   "outputs": [],
   "source": [
    "charge_sums.to_parquet(INPUT_PATH / \"charge_sums.parquet\")"
   ]
  },
  {
   "cell_type": "code",
   "execution_count": 8,
   "id": "33b27320",
   "metadata": {
    "ExecuteTime": {
     "end_time": "2023-02-19T10:14:38.166761Z",
     "start_time": "2023-02-19T10:14:20.597881Z"
    }
   },
   "outputs": [
    {
     "data": {
      "image/png": "[encoded data removed]",
      "text/plain": [
       "<Figure size 640x480 with 1 Axes>"
      ]
     },
     "metadata": {},
     "output_type": "display_data"
    }
   ],
   "source": [
    "ax = np.log10(charge_sums[\"charge\"]).hist(bins=100)\n",
    "ax.set_xlim((1, 3));"
   ]
  },
  {
   "cell_type": "code",
   "execution_count": null,
   "id": "c5c6362c",
   "metadata": {},
   "outputs": [],
   "source": []
  }
 ],
 "metadata": {
  "kernelspec": {
   "display_name": "kaggle",
   "language": "python",
   "name": "kaggle"
  },
  "language_info": {
   "codemirror_mode": {
    "name": "ipython",
    "version": 3
   },
   "file_extension": ".py",
   "mimetype": "text/x-python",
   "name": "python",
   "nbconvert_exporter": "python",
   "pygments_lexer": "ipython3",
   "version": "3.10.6"
  }
 },
 "nbformat": 4,
 "nbformat_minor": 5
}
