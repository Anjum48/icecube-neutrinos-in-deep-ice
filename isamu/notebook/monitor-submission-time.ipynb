{
 "cells": [
  {
   "cell_type": "markdown",
   "id": "4e000af6-87a3-4474-92cb-5ffe4c4da32e",
   "metadata": {},
   "source": [
    "# check submission time\n",
    "this script periodically call the kaggle api to monitor\n",
    "the end time of your submission"
   ]
  },
  {
   "cell_type": "code",
   "execution_count": 1,
   "id": "69dc8837-6baa-403f-b33f-50f50699f4db",
   "metadata": {},
   "outputs": [
    {
     "name": "stdout",
     "output_type": "stream",
     "text": [
      "Warning: Looks like you're using an outdated API Version, please consider updating (server 1.5.13 / client 1.5.12)\n",
      " run-time: 182 min, LB: \n"
     ]
    }
   ],
   "source": [
    "from kaggle.api.kaggle_api_extended import KaggleApi\n",
    "import datetime\n",
    "from datetime import timezone\n",
    "import time\n",
    "\n",
    "api = KaggleApi()\n",
    "api.authenticate()\n",
    "\n",
    "COMPETITION =  'icecube-neutrinos-in-deep-ice'\n",
    "result_ = api.competition_submissions(COMPETITION)[0]\n",
    "latest_ref = str(result_)  # latest_submission_number\n",
    "submit_time = result_.date\n",
    "\n",
    "status = ''\n",
    "\n",
    "while status != 'complete':\n",
    "    list_of_submission = api.competition_submissions(COMPETITION)\n",
    "    for result in list_of_submission:\n",
    "        if str(result.ref) == latest_ref:\n",
    "            break\n",
    "    status = result.status\n",
    "\n",
    "    now = datetime.datetime.now(timezone.utc).replace(tzinfo=None)\n",
    "    elapsed_time = int((now - submit_time).seconds / 60) + 1\n",
    "    if status == 'complete':\n",
    "        print('\\r', f'run-time: {elapsed_time} min, LB: {result.publicScore}')\n",
    "    else:\n",
    "        print('\\r', f'elapsed time: {elapsed_time} min', end='')\n",
    "        time.sleep(60)"
   ]
  }
 ],
 "metadata": {
  "kernelspec": {
   "display_name": "Python 3 (ipykernel)",
   "language": "python",
   "name": "python3"
  },
  "language_info": {
   "codemirror_mode": {
    "name": "ipython",
    "version": 3
   },
   "file_extension": ".py",
   "mimetype": "text/x-python",
   "name": "python",
   "nbconvert_exporter": "python",
   "pygments_lexer": "ipython3",
   "version": "3.9.15"
  }
 },
 "nbformat": 4,
 "nbformat_minor": 5
}
